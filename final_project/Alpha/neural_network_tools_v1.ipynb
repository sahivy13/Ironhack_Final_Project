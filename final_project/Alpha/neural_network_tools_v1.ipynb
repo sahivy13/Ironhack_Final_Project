{
 "cells": [
  {
   "cell_type": "markdown",
   "metadata": {},
   "source": [
    "# Neural Netork Tools"
   ]
  },
  {
   "cell_type": "markdown",
   "metadata": {},
   "source": [
    "## Imports"
   ]
  },
  {
   "cell_type": "code",
   "execution_count": 1,
   "metadata": {},
   "outputs": [],
   "source": [
    "import numpy as np \n",
    "import csv\n",
    "import pandas as pd\n",
    "\n",
    "#NN ones\n",
    "import tensorflow.keras as keras\n",
    "import tensorflow as tf\n",
    "from sklearn.model_selection import train_test_split\n",
    "from sklearn import preprocessing\n"
   ]
  },
  {
   "cell_type": "code",
   "execution_count": 2,
   "metadata": {},
   "outputs": [
    {
     "output_type": "execute_result",
     "data": {
      "text/plain": "RandomState(MT19937) at 0x138883490"
     },
     "metadata": {},
     "execution_count": 2
    }
   ],
   "source": [
    "np.random.RandomState(seed = 13)"
   ]
  },
  {
   "cell_type": "markdown",
   "metadata": {},
   "source": [
    "## Preprocessing"
   ]
  },
  {
   "cell_type": "code",
   "execution_count": 3,
   "metadata": {},
   "outputs": [],
   "source": [
    "main_df = pd.read_csv('clean_data.csv')\n",
    "main_df.drop(columns = 'Unnamed: 0', inplace = True)\n",
    "main_df.dropna(subset = ['runtimeMinutes'], inplace = True)\n",
    "main_df.reset_index(drop = True, inplace = True)\n",
    "main_df.fillna(value = 'Unknown', inplace = True)"
   ]
  },
  {
   "cell_type": "code",
   "execution_count": 4,
   "metadata": {},
   "outputs": [
    {
     "output_type": "execute_result",
     "data": {
      "text/plain": "                        primaryTitle  runtimeMinutes       genres  \\\n0                         Frivolinas            80.0       Comedy   \n1                     Kate & Leopold           118.0       Comedy   \n2           The Woman with the Knife            80.0        Drama   \n3         The Other Side of the Wind           122.0        Drama   \n4                  The Naked Monster           100.0       Comedy   \n...                              ...             ...          ...   \n114920                     Albatross            97.0  Documentary   \n114921  9/11: Escape from the Towers           120.0  Documentary   \n114922    La vida sense la Sara Amat            74.0        Drama   \n114923                    Drømmeland            72.0  Documentary   \n114924           Kuambil Lagi Hatiku           123.0        Drama   \n\n                 directors           writers  averageRating  numVotes  \n0          Arturo Carballo           Unknown            5.6        15  \n1            James Mangold     Steven Rogers            6.4     76677  \n2           Bassori Timite    Bassori Timite            6.5        11  \n3             Orson Welles      Orson Welles            6.8      5469  \n4               Ted Newsom        Ted Newsom            5.5       250  \n...                    ...               ...            ...       ...  \n114920        Chris Jordan      Chris Jordan            8.2        23  \n114921       Grace Chapman           Unknown            8.4        37  \n114922           Laura Jou        Coral Cruz            6.7        77  \n114923  Joost van der Wiel           Unknown            6.6        36  \n114924   Azhar Kinoi Lubis  Arief Ash Siddiq            8.4         5  \n\n[114925 rows x 7 columns]",
      "text/html": "<div>\n<style scoped>\n    .dataframe tbody tr th:only-of-type {\n        vertical-align: middle;\n    }\n\n    .dataframe tbody tr th {\n        vertical-align: top;\n    }\n\n    .dataframe thead th {\n        text-align: right;\n    }\n</style>\n<table border=\"1\" class=\"dataframe\">\n  <thead>\n    <tr style=\"text-align: right;\">\n      <th></th>\n      <th>primaryTitle</th>\n      <th>runtimeMinutes</th>\n      <th>genres</th>\n      <th>directors</th>\n      <th>writers</th>\n      <th>averageRating</th>\n      <th>numVotes</th>\n    </tr>\n  </thead>\n  <tbody>\n    <tr>\n      <th>0</th>\n      <td>Frivolinas</td>\n      <td>80.0</td>\n      <td>Comedy</td>\n      <td>Arturo Carballo</td>\n      <td>Unknown</td>\n      <td>5.6</td>\n      <td>15</td>\n    </tr>\n    <tr>\n      <th>1</th>\n      <td>Kate &amp; Leopold</td>\n      <td>118.0</td>\n      <td>Comedy</td>\n      <td>James Mangold</td>\n      <td>Steven Rogers</td>\n      <td>6.4</td>\n      <td>76677</td>\n    </tr>\n    <tr>\n      <th>2</th>\n      <td>The Woman with the Knife</td>\n      <td>80.0</td>\n      <td>Drama</td>\n      <td>Bassori Timite</td>\n      <td>Bassori Timite</td>\n      <td>6.5</td>\n      <td>11</td>\n    </tr>\n    <tr>\n      <th>3</th>\n      <td>The Other Side of the Wind</td>\n      <td>122.0</td>\n      <td>Drama</td>\n      <td>Orson Welles</td>\n      <td>Orson Welles</td>\n      <td>6.8</td>\n      <td>5469</td>\n    </tr>\n    <tr>\n      <th>4</th>\n      <td>The Naked Monster</td>\n      <td>100.0</td>\n      <td>Comedy</td>\n      <td>Ted Newsom</td>\n      <td>Ted Newsom</td>\n      <td>5.5</td>\n      <td>250</td>\n    </tr>\n    <tr>\n      <th>...</th>\n      <td>...</td>\n      <td>...</td>\n      <td>...</td>\n      <td>...</td>\n      <td>...</td>\n      <td>...</td>\n      <td>...</td>\n    </tr>\n    <tr>\n      <th>114920</th>\n      <td>Albatross</td>\n      <td>97.0</td>\n      <td>Documentary</td>\n      <td>Chris Jordan</td>\n      <td>Chris Jordan</td>\n      <td>8.2</td>\n      <td>23</td>\n    </tr>\n    <tr>\n      <th>114921</th>\n      <td>9/11: Escape from the Towers</td>\n      <td>120.0</td>\n      <td>Documentary</td>\n      <td>Grace Chapman</td>\n      <td>Unknown</td>\n      <td>8.4</td>\n      <td>37</td>\n    </tr>\n    <tr>\n      <th>114922</th>\n      <td>La vida sense la Sara Amat</td>\n      <td>74.0</td>\n      <td>Drama</td>\n      <td>Laura Jou</td>\n      <td>Coral Cruz</td>\n      <td>6.7</td>\n      <td>77</td>\n    </tr>\n    <tr>\n      <th>114923</th>\n      <td>Drømmeland</td>\n      <td>72.0</td>\n      <td>Documentary</td>\n      <td>Joost van der Wiel</td>\n      <td>Unknown</td>\n      <td>6.6</td>\n      <td>36</td>\n    </tr>\n    <tr>\n      <th>114924</th>\n      <td>Kuambil Lagi Hatiku</td>\n      <td>123.0</td>\n      <td>Drama</td>\n      <td>Azhar Kinoi Lubis</td>\n      <td>Arief Ash Siddiq</td>\n      <td>8.4</td>\n      <td>5</td>\n    </tr>\n  </tbody>\n</table>\n<p>114925 rows × 7 columns</p>\n</div>"
     },
     "metadata": {},
     "execution_count": 4
    }
   ],
   "source": [
    "main_df"
   ]
  },
  {
   "cell_type": "code",
   "execution_count": 5,
   "metadata": {},
   "outputs": [
    {
     "output_type": "execute_result",
     "data": {
      "text/plain": "count     114925.000000\nmean        4785.097350\nstd        37203.975544\nmin            5.000000\n25%           17.000000\n50%           71.000000\n75%          405.000000\nmax      2195241.000000\nName: numVotes, dtype: object"
     },
     "metadata": {},
     "execution_count": 5
    }
   ],
   "source": [
    "main_df.numVotes.describe().apply(lambda x: format(x, 'f'))"
   ]
  },
  {
   "cell_type": "markdown",
   "metadata": {},
   "source": [
    "As we can see, the number of ratings is skewed towards a lower amount of votes. These ratings with lower amount of votes might not be good for the analysis since most likely is not enough to be a good assesment of the ratings. I will make a cutoff at the 50th percentile in order to eliminate that problem."
   ]
  },
  {
   "cell_type": "code",
   "execution_count": 6,
   "metadata": {},
   "outputs": [
    {
     "output_type": "execute_result",
     "data": {
      "text/plain": "count      57712.000000\nmean        9505.572654\nstd        52072.703031\nmin           71.000000\n25%          159.000000\n50%          402.000000\n75%         1551.000000\nmax      2195241.000000\nName: numVotes, dtype: object"
     },
     "metadata": {},
     "execution_count": 6
    }
   ],
   "source": [
    "cutoff_50th_df = main_df[main_df['numVotes'] >= 71].reset_index(drop = True)\n",
    "cutoff_50th_df.numVotes.describe().apply(lambda x: format(x, 'f'))"
   ]
  },
  {
   "cell_type": "code",
   "execution_count": 7,
   "metadata": {},
   "outputs": [
    {
     "output_type": "execute_result",
     "data": {
      "text/plain": "                     primaryTitle  runtimeMinutes  genres          directors  \\\n0                  Kate & Leopold           118.0  Comedy      James Mangold   \n1      The Other Side of the Wind           122.0   Drama       Orson Welles   \n2               The Naked Monster           100.0  Comedy         Ted Newsom   \n3            Crime and Punishment           126.0   Drama      Menahem Golan   \n4        The Wandering Soap Opera            80.0  Comedy  Valeria Sarmiento   \n...                           ...             ...     ...                ...   \n57707                   Pengalila           111.0   Drama      T.V. Chandran   \n57708                   Manoharam           122.0  Comedy        Anvar Sadik   \n57709   Padmavyuhathile Abhimanyu           130.0   Drama    Vineesh Aaradya   \n57710           Sokagin Çocuklari            98.0   Drama  Ahmet Faik Akinci   \n57711  La vida sense la Sara Amat            74.0   Drama          Laura Jou   \n\n                 writers  averageRating  numVotes  \n0          Steven Rogers            6.4     76677  \n1           Orson Welles            6.8      5469  \n2             Ted Newsom            5.5       250  \n3      Fyodor Dostoevsky            5.8       618  \n4                Pía Rey            6.7       227  \n...                  ...            ...       ...  \n57707      T.V. Chandran            8.8       550  \n57708            Unknown            6.9       318  \n57709    Vineesh Aaradya            8.0       263  \n57710  Ahmet Faik Akinci            6.2       196  \n57711         Coral Cruz            6.7        77  \n\n[57712 rows x 7 columns]",
      "text/html": "<div>\n<style scoped>\n    .dataframe tbody tr th:only-of-type {\n        vertical-align: middle;\n    }\n\n    .dataframe tbody tr th {\n        vertical-align: top;\n    }\n\n    .dataframe thead th {\n        text-align: right;\n    }\n</style>\n<table border=\"1\" class=\"dataframe\">\n  <thead>\n    <tr style=\"text-align: right;\">\n      <th></th>\n      <th>primaryTitle</th>\n      <th>runtimeMinutes</th>\n      <th>genres</th>\n      <th>directors</th>\n      <th>writers</th>\n      <th>averageRating</th>\n      <th>numVotes</th>\n    </tr>\n  </thead>\n  <tbody>\n    <tr>\n      <th>0</th>\n      <td>Kate &amp; Leopold</td>\n      <td>118.0</td>\n      <td>Comedy</td>\n      <td>James Mangold</td>\n      <td>Steven Rogers</td>\n      <td>6.4</td>\n      <td>76677</td>\n    </tr>\n    <tr>\n      <th>1</th>\n      <td>The Other Side of the Wind</td>\n      <td>122.0</td>\n      <td>Drama</td>\n      <td>Orson Welles</td>\n      <td>Orson Welles</td>\n      <td>6.8</td>\n      <td>5469</td>\n    </tr>\n    <tr>\n      <th>2</th>\n      <td>The Naked Monster</td>\n      <td>100.0</td>\n      <td>Comedy</td>\n      <td>Ted Newsom</td>\n      <td>Ted Newsom</td>\n      <td>5.5</td>\n      <td>250</td>\n    </tr>\n    <tr>\n      <th>3</th>\n      <td>Crime and Punishment</td>\n      <td>126.0</td>\n      <td>Drama</td>\n      <td>Menahem Golan</td>\n      <td>Fyodor Dostoevsky</td>\n      <td>5.8</td>\n      <td>618</td>\n    </tr>\n    <tr>\n      <th>4</th>\n      <td>The Wandering Soap Opera</td>\n      <td>80.0</td>\n      <td>Comedy</td>\n      <td>Valeria Sarmiento</td>\n      <td>Pía Rey</td>\n      <td>6.7</td>\n      <td>227</td>\n    </tr>\n    <tr>\n      <th>...</th>\n      <td>...</td>\n      <td>...</td>\n      <td>...</td>\n      <td>...</td>\n      <td>...</td>\n      <td>...</td>\n      <td>...</td>\n    </tr>\n    <tr>\n      <th>57707</th>\n      <td>Pengalila</td>\n      <td>111.0</td>\n      <td>Drama</td>\n      <td>T.V. Chandran</td>\n      <td>T.V. Chandran</td>\n      <td>8.8</td>\n      <td>550</td>\n    </tr>\n    <tr>\n      <th>57708</th>\n      <td>Manoharam</td>\n      <td>122.0</td>\n      <td>Comedy</td>\n      <td>Anvar Sadik</td>\n      <td>Unknown</td>\n      <td>6.9</td>\n      <td>318</td>\n    </tr>\n    <tr>\n      <th>57709</th>\n      <td>Padmavyuhathile Abhimanyu</td>\n      <td>130.0</td>\n      <td>Drama</td>\n      <td>Vineesh Aaradya</td>\n      <td>Vineesh Aaradya</td>\n      <td>8.0</td>\n      <td>263</td>\n    </tr>\n    <tr>\n      <th>57710</th>\n      <td>Sokagin Çocuklari</td>\n      <td>98.0</td>\n      <td>Drama</td>\n      <td>Ahmet Faik Akinci</td>\n      <td>Ahmet Faik Akinci</td>\n      <td>6.2</td>\n      <td>196</td>\n    </tr>\n    <tr>\n      <th>57711</th>\n      <td>La vida sense la Sara Amat</td>\n      <td>74.0</td>\n      <td>Drama</td>\n      <td>Laura Jou</td>\n      <td>Coral Cruz</td>\n      <td>6.7</td>\n      <td>77</td>\n    </tr>\n  </tbody>\n</table>\n<p>57712 rows × 7 columns</p>\n</div>"
     },
     "metadata": {},
     "execution_count": 7
    }
   ],
   "source": [
    "cutoff_50th_df"
   ]
  },
  {
   "cell_type": "markdown",
   "metadata": {},
   "source": [
    "## Creating encoder"
   ]
  },
  {
   "cell_type": "code",
   "execution_count": 19,
   "metadata": {},
   "outputs": [],
   "source": [
    "# creating instance of one-hot-encoder\n",
    "enc = preprocessing.OneHotEncoder(handle_unknown='ignore')\n",
    "\n",
    "# passing bridge-types-cat column (label encoded values of bridge_types)\n",
    "enc_df = pd.DataFrame(enc.fit_transform(cutoff_50th_df[['directors_Cat']]).toarray())\n",
    "\n",
    "# merge with main df bridge_df on key values\n",
    "bridge_df = cutoff_50th_df.join(enc_df)\n",
    "bridge_df\n"
   ]
  },
  {
   "cell_type": "code",
   "execution_count": null,
   "metadata": {},
   "outputs": [],
   "source": [
    "def onehot_Dum_Encode(df):\n",
    "    # creating instance of one-hot-encoder\n",
    "    enc = OneHotEncoder(handle_unknown='ignore')\n",
    "\n",
    "    # passing bridge-types-cat column (label encoded values of bridge_types)\n",
    "    enc_df = pd.DataFrame(enc.fit_transform(bridge_df[['Bridge_Types_Cat']]).toarray())\n",
    "    \n",
    "    # merge with main df bridge_df on key values\n",
    "    bridge_df = bridge_df.join(enc_df)\n"
   ]
  }
 ],
 "metadata": {
  "language_info": {
   "codemirror_mode": {
    "name": "ipython",
    "version": 3
   },
   "file_extension": ".py",
   "mimetype": "text/x-python",
   "name": "python",
   "nbconvert_exporter": "python",
   "pygments_lexer": "ipython3",
   "version": "3.7.4-final"
  },
  "orig_nbformat": 2,
  "kernelspec": {
   "name": "python37464bit7ce9bcd6e9604f49a75ac00b61501ba1",
   "display_name": "Python 3.7.4 64-bit"
  }
 },
 "nbformat": 4,
 "nbformat_minor": 2
}