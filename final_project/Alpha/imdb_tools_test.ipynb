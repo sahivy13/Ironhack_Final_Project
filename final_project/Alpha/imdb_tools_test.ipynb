{
 "nbformat": 4,
 "nbformat_minor": 2,
 "metadata": {
  "language_info": {
   "name": "python",
   "codemirror_mode": {
    "name": "ipython",
    "version": 3
   },
   "version": "3.7.4-final"
  },
  "orig_nbformat": 2,
  "file_extension": ".py",
  "mimetype": "text/x-python",
  "name": "python",
  "npconvert_exporter": "python",
  "pygments_lexer": "ipython3",
  "version": 3,
  "kernelspec": {
   "name": "python37464bit7ce9bcd6e9604f49a75ac00b61501ba1",
   "display_name": "Python 3.7.4 64-bit"
  }
 },
 "cells": [
  {
   "cell_type": "markdown",
   "metadata": {},
   "source": [
    "# Testing for imdb tools"
   ]
  },
  {
   "cell_type": "markdown",
   "metadata": {},
   "source": [
    "## Import and creating class instance"
   ]
  },
  {
   "cell_type": "code",
   "execution_count": 1,
   "metadata": {},
   "outputs": [],
   "source": [
    "import numpy as np\n",
    "import re\n",
    "import urllib.request as req \n",
    "import tarfile\n",
    "import os\n",
    "import zipfile\n",
    "from collections import defaultdict\n",
    "\n",
    "#new ones\n",
    "import gzip\n",
    "import csv\n",
    "import pandas as pd\n",
    "from imdb import IMDb\n",
    "import re"
   ]
  },
  {
   "cell_type": "markdown",
   "metadata": {},
   "source": [
    "## Testing"
   ]
  },
  {
   "cell_type": "code",
   "execution_count": 2,
   "metadata": {},
   "outputs": [],
   "source": [
    "#URLs for data bases\n",
    "\n",
    "name_basics_url = 'https://datasets.imdbws.com/name.basics.tsv.gz'\n",
    "\n",
    "titles_akas_url = 'https://datasets.imdbws.com/title.akas.tsv.gz'\n",
    "\n",
    "title_basics_url = 'https://datasets.imdbws.com/title.basics.tsv.gz'\n",
    "\n",
    "title_crew_url = 'https://datasets.imdbws.com/title.crew.tsv.gz'\n",
    "\n",
    "title_episode_url = 'https://datasets.imdbws.com/title.episode.tsv.gz'\n",
    "\n",
    "title_principals_url = 'https://datasets.imdbws.com/title.principals.tsv.gz'\n",
    "\n",
    "title_ratings_url = 'https://datasets.imdbws.com/title.ratings.tsv.gz'\n",
    ""
   ]
  },
  {
   "cell_type": "code",
   "execution_count": 3,
   "metadata": {},
   "outputs": [],
   "source": [
    "# Creating list of URLs needed for this analyisis\n",
    "\n",
    "list_urls = [title_basics_url, title_crew_url, title_ratings_url, title_principals_url, name_basics_url]"
   ]
  },
  {
   "cell_type": "code",
   "execution_count": 4,
   "metadata": {},
   "outputs": [],
   "source": [
    "def download_data(url): #Downloads and creates directories in the same directory as the file is located\n",
    "\n",
    "    save_filename = re.split(pattern = '.com\\/', string = url)[1]\n",
    "    imdb_folder = 'data'\n",
    "    tsv_filename = re.split(pattern = '.gz', string = save_filename)[0]\n",
    "    # print(tsv_filename)\n",
    "\n",
    "    if not os.path.exists(save_filename):\n",
    "        req.urlretrieve(url, save_filename)\n",
    "    \n",
    "\n",
    "    if not os.path.exists(imdb_folder):\n",
    "        os.mkdir(imdb_folder) \n",
    "        \n",
    "            \n",
    "\n",
    "    if not os.path.exists(imdb_folder + '/'+ tsv_filename):\n",
    "        with gzip.GzipFile(save_filename) as tsv:\n",
    "            tsv_read = pd.read_csv(tsv, sep='\\t')\n",
    "            with open(imdb_folder + '/'+ tsv_filename,'w') as write_tsv:\n",
    "                write_tsv.write(tsv_read.to_csv(sep='\\t', index=False))\n",
    "                return tsv_read\n",
    "\n",
    "    else:\n",
    "         with gzip.GzipFile(save_filename) as tsv:\n",
    "            tsv_read = pd.read_csv(tsv, sep='\\t')\n",
    "            return tsv_read\n",
    "\n",
    ""
   ]
  },
  {
   "cell_type": "code",
   "execution_count": 5,
   "metadata": {},
   "outputs": [],
   "source": [
    "def kickstart_scrape(list_ = list_urls):\n",
    "    list_tsv__df =[]\n",
    "    for url in list_:\n",
    "        print(url)\n",
    "        list_tsv__df.append(download_data(url))\n",
    "    return list_tsv__df"
   ]
  },
  {
   "cell_type": "code",
   "execution_count": 6,
   "metadata": {},
   "outputs": [
    {
     "output_type": "stream",
     "name": "stdout",
     "text": "https://datasets.imdbws.com/title.basics.tsv.gz\nhttps://datasets.imdbws.com/title.crew.tsv.gz\nhttps://datasets.imdbws.com/title.ratings.tsv.gz\nhttps://datasets.imdbws.com/title.principals.tsv.gz\nhttps://datasets.imdbws.com/name.basics.tsv.gz\n"
    }
   ],
   "source": [
    "list_df = kickstart_scrape(list_urls)"
   ]
  },
  {
   "cell_type": "code",
   "execution_count": 7,
   "metadata": {},
   "outputs": [
    {
     "output_type": "execute_result",
     "data": {
      "text/plain": "            tconst  titleType               primaryTitle  \\\n0        tt0000001      short                 Carmencita   \n1        tt0000002      short     Le clown et ses chiens   \n2        tt0000003      short             Pauvre Pierrot   \n3        tt0000004      short                Un bon bock   \n4        tt0000005      short           Blacksmith Scene   \n...            ...        ...                        ...   \n6724395  tt9916848  tvEpisode              Episode #3.17   \n6724396  tt9916850  tvEpisode              Episode #3.19   \n6724397  tt9916852  tvEpisode              Episode #3.20   \n6724398  tt9916856      short                   The Wind   \n6724399  tt9916880  tvEpisode  Horrid Henry Knows It All   \n\n                     originalTitle  isAdult startYear endYear runtimeMinutes  \\\n0                       Carmencita        0      1894      \\N              1   \n1           Le clown et ses chiens        0      1892      \\N              5   \n2                   Pauvre Pierrot        0      1892      \\N              4   \n3                      Un bon bock        0      1892      \\N             12   \n4                 Blacksmith Scene        0      1893      \\N              1   \n...                            ...      ...       ...     ...            ...   \n6724395              Episode #3.17        0      2010      \\N             \\N   \n6724396              Episode #3.19        0      2010      \\N             \\N   \n6724397              Episode #3.20        0      2010      \\N             \\N   \n6724398                   The Wind        0      2015      \\N             27   \n6724399  Horrid Henry Knows It All        0      2014      \\N             10   \n\n                           genres  \n0               Documentary,Short  \n1                 Animation,Short  \n2        Animation,Comedy,Romance  \n3                 Animation,Short  \n4                    Comedy,Short  \n...                           ...  \n6724395       Action,Drama,Family  \n6724396       Action,Drama,Family  \n6724397       Action,Drama,Family  \n6724398                     Short  \n6724399   Animation,Comedy,Family  \n\n[6724400 rows x 9 columns]",
      "text/html": "<div>\n<style scoped>\n    .dataframe tbody tr th:only-of-type {\n        vertical-align: middle;\n    }\n\n    .dataframe tbody tr th {\n        vertical-align: top;\n    }\n\n    .dataframe thead th {\n        text-align: right;\n    }\n</style>\n<table border=\"1\" class=\"dataframe\">\n  <thead>\n    <tr style=\"text-align: right;\">\n      <th></th>\n      <th>tconst</th>\n      <th>titleType</th>\n      <th>primaryTitle</th>\n      <th>originalTitle</th>\n      <th>isAdult</th>\n      <th>startYear</th>\n      <th>endYear</th>\n      <th>runtimeMinutes</th>\n      <th>genres</th>\n    </tr>\n  </thead>\n  <tbody>\n    <tr>\n      <th>0</th>\n      <td>tt0000001</td>\n      <td>short</td>\n      <td>Carmencita</td>\n      <td>Carmencita</td>\n      <td>0</td>\n      <td>1894</td>\n      <td>\\N</td>\n      <td>1</td>\n      <td>Documentary,Short</td>\n    </tr>\n    <tr>\n      <th>1</th>\n      <td>tt0000002</td>\n      <td>short</td>\n      <td>Le clown et ses chiens</td>\n      <td>Le clown et ses chiens</td>\n      <td>0</td>\n      <td>1892</td>\n      <td>\\N</td>\n      <td>5</td>\n      <td>Animation,Short</td>\n    </tr>\n    <tr>\n      <th>2</th>\n      <td>tt0000003</td>\n      <td>short</td>\n      <td>Pauvre Pierrot</td>\n      <td>Pauvre Pierrot</td>\n      <td>0</td>\n      <td>1892</td>\n      <td>\\N</td>\n      <td>4</td>\n      <td>Animation,Comedy,Romance</td>\n    </tr>\n    <tr>\n      <th>3</th>\n      <td>tt0000004</td>\n      <td>short</td>\n      <td>Un bon bock</td>\n      <td>Un bon bock</td>\n      <td>0</td>\n      <td>1892</td>\n      <td>\\N</td>\n      <td>12</td>\n      <td>Animation,Short</td>\n    </tr>\n    <tr>\n      <th>4</th>\n      <td>tt0000005</td>\n      <td>short</td>\n      <td>Blacksmith Scene</td>\n      <td>Blacksmith Scene</td>\n      <td>0</td>\n      <td>1893</td>\n      <td>\\N</td>\n      <td>1</td>\n      <td>Comedy,Short</td>\n    </tr>\n    <tr>\n      <th>...</th>\n      <td>...</td>\n      <td>...</td>\n      <td>...</td>\n      <td>...</td>\n      <td>...</td>\n      <td>...</td>\n      <td>...</td>\n      <td>...</td>\n      <td>...</td>\n    </tr>\n    <tr>\n      <th>6724395</th>\n      <td>tt9916848</td>\n      <td>tvEpisode</td>\n      <td>Episode #3.17</td>\n      <td>Episode #3.17</td>\n      <td>0</td>\n      <td>2010</td>\n      <td>\\N</td>\n      <td>\\N</td>\n      <td>Action,Drama,Family</td>\n    </tr>\n    <tr>\n      <th>6724396</th>\n      <td>tt9916850</td>\n      <td>tvEpisode</td>\n      <td>Episode #3.19</td>\n      <td>Episode #3.19</td>\n      <td>0</td>\n      <td>2010</td>\n      <td>\\N</td>\n      <td>\\N</td>\n      <td>Action,Drama,Family</td>\n    </tr>\n    <tr>\n      <th>6724397</th>\n      <td>tt9916852</td>\n      <td>tvEpisode</td>\n      <td>Episode #3.20</td>\n      <td>Episode #3.20</td>\n      <td>0</td>\n      <td>2010</td>\n      <td>\\N</td>\n      <td>\\N</td>\n      <td>Action,Drama,Family</td>\n    </tr>\n    <tr>\n      <th>6724398</th>\n      <td>tt9916856</td>\n      <td>short</td>\n      <td>The Wind</td>\n      <td>The Wind</td>\n      <td>0</td>\n      <td>2015</td>\n      <td>\\N</td>\n      <td>27</td>\n      <td>Short</td>\n    </tr>\n    <tr>\n      <th>6724399</th>\n      <td>tt9916880</td>\n      <td>tvEpisode</td>\n      <td>Horrid Henry Knows It All</td>\n      <td>Horrid Henry Knows It All</td>\n      <td>0</td>\n      <td>2014</td>\n      <td>\\N</td>\n      <td>10</td>\n      <td>Animation,Comedy,Family</td>\n    </tr>\n  </tbody>\n</table>\n<p>6724400 rows × 9 columns</p>\n</div>"
     },
     "metadata": {},
     "execution_count": 7
    }
   ],
   "source": [
    "list_df[0]"
   ]
  },
  {
   "cell_type": "code",
   "execution_count": 8,
   "metadata": {},
   "outputs": [
    {
     "output_type": "execute_result",
     "data": {
      "text/plain": "            tconst            directors                        writers\n0        tt0000001            nm0005690                             \\N\n1        tt0000002            nm0721526                             \\N\n2        tt0000003            nm0721526                             \\N\n3        tt0000004            nm0721526                             \\N\n4        tt0000005            nm0005690                             \\N\n...            ...                  ...                            ...\n6724395  tt9916848  nm5519454,nm5519375  nm6182221,nm1628284,nm2921377\n6724396  tt9916850  nm5519454,nm5519375  nm6182221,nm1628284,nm2921377\n6724397  tt9916852  nm5519375,nm5519454  nm6182221,nm1628284,nm2921377\n6724398  tt9916856           nm10538645                      nm6951431\n6724399  tt9916880            nm0996406            nm1482639,nm2586970\n\n[6724400 rows x 3 columns]",
      "text/html": "<div>\n<style scoped>\n    .dataframe tbody tr th:only-of-type {\n        vertical-align: middle;\n    }\n\n    .dataframe tbody tr th {\n        vertical-align: top;\n    }\n\n    .dataframe thead th {\n        text-align: right;\n    }\n</style>\n<table border=\"1\" class=\"dataframe\">\n  <thead>\n    <tr style=\"text-align: right;\">\n      <th></th>\n      <th>tconst</th>\n      <th>directors</th>\n      <th>writers</th>\n    </tr>\n  </thead>\n  <tbody>\n    <tr>\n      <th>0</th>\n      <td>tt0000001</td>\n      <td>nm0005690</td>\n      <td>\\N</td>\n    </tr>\n    <tr>\n      <th>1</th>\n      <td>tt0000002</td>\n      <td>nm0721526</td>\n      <td>\\N</td>\n    </tr>\n    <tr>\n      <th>2</th>\n      <td>tt0000003</td>\n      <td>nm0721526</td>\n      <td>\\N</td>\n    </tr>\n    <tr>\n      <th>3</th>\n      <td>tt0000004</td>\n      <td>nm0721526</td>\n      <td>\\N</td>\n    </tr>\n    <tr>\n      <th>4</th>\n      <td>tt0000005</td>\n      <td>nm0005690</td>\n      <td>\\N</td>\n    </tr>\n    <tr>\n      <th>...</th>\n      <td>...</td>\n      <td>...</td>\n      <td>...</td>\n    </tr>\n    <tr>\n      <th>6724395</th>\n      <td>tt9916848</td>\n      <td>nm5519454,nm5519375</td>\n      <td>nm6182221,nm1628284,nm2921377</td>\n    </tr>\n    <tr>\n      <th>6724396</th>\n      <td>tt9916850</td>\n      <td>nm5519454,nm5519375</td>\n      <td>nm6182221,nm1628284,nm2921377</td>\n    </tr>\n    <tr>\n      <th>6724397</th>\n      <td>tt9916852</td>\n      <td>nm5519375,nm5519454</td>\n      <td>nm6182221,nm1628284,nm2921377</td>\n    </tr>\n    <tr>\n      <th>6724398</th>\n      <td>tt9916856</td>\n      <td>nm10538645</td>\n      <td>nm6951431</td>\n    </tr>\n    <tr>\n      <th>6724399</th>\n      <td>tt9916880</td>\n      <td>nm0996406</td>\n      <td>nm1482639,nm2586970</td>\n    </tr>\n  </tbody>\n</table>\n<p>6724400 rows × 3 columns</p>\n</div>"
     },
     "metadata": {},
     "execution_count": 8
    }
   ],
   "source": [
    "list_df[1]"
   ]
  },
  {
   "cell_type": "code",
   "execution_count": 9,
   "metadata": {},
   "outputs": [
    {
     "output_type": "execute_result",
     "data": {
      "text/plain": "            tconst  averageRating  numVotes\n0        tt0000001            5.6      1605\n1        tt0000002            6.0       197\n2        tt0000003            6.5      1278\n3        tt0000004            6.1       121\n4        tt0000005            6.1      2043\n...            ...            ...       ...\n1026539  tt9916576            6.0         9\n1026540  tt9916578            8.4        17\n1026541  tt9916720            5.6        49\n1026542  tt9916766            6.8        13\n1026543  tt9916778            7.2        21\n\n[1026544 rows x 3 columns]",
      "text/html": "<div>\n<style scoped>\n    .dataframe tbody tr th:only-of-type {\n        vertical-align: middle;\n    }\n\n    .dataframe tbody tr th {\n        vertical-align: top;\n    }\n\n    .dataframe thead th {\n        text-align: right;\n    }\n</style>\n<table border=\"1\" class=\"dataframe\">\n  <thead>\n    <tr style=\"text-align: right;\">\n      <th></th>\n      <th>tconst</th>\n      <th>averageRating</th>\n      <th>numVotes</th>\n    </tr>\n  </thead>\n  <tbody>\n    <tr>\n      <th>0</th>\n      <td>tt0000001</td>\n      <td>5.6</td>\n      <td>1605</td>\n    </tr>\n    <tr>\n      <th>1</th>\n      <td>tt0000002</td>\n      <td>6.0</td>\n      <td>197</td>\n    </tr>\n    <tr>\n      <th>2</th>\n      <td>tt0000003</td>\n      <td>6.5</td>\n      <td>1278</td>\n    </tr>\n    <tr>\n      <th>3</th>\n      <td>tt0000004</td>\n      <td>6.1</td>\n      <td>121</td>\n    </tr>\n    <tr>\n      <th>4</th>\n      <td>tt0000005</td>\n      <td>6.1</td>\n      <td>2043</td>\n    </tr>\n    <tr>\n      <th>...</th>\n      <td>...</td>\n      <td>...</td>\n      <td>...</td>\n    </tr>\n    <tr>\n      <th>1026539</th>\n      <td>tt9916576</td>\n      <td>6.0</td>\n      <td>9</td>\n    </tr>\n    <tr>\n      <th>1026540</th>\n      <td>tt9916578</td>\n      <td>8.4</td>\n      <td>17</td>\n    </tr>\n    <tr>\n      <th>1026541</th>\n      <td>tt9916720</td>\n      <td>5.6</td>\n      <td>49</td>\n    </tr>\n    <tr>\n      <th>1026542</th>\n      <td>tt9916766</td>\n      <td>6.8</td>\n      <td>13</td>\n    </tr>\n    <tr>\n      <th>1026543</th>\n      <td>tt9916778</td>\n      <td>7.2</td>\n      <td>21</td>\n    </tr>\n  </tbody>\n</table>\n<p>1026544 rows × 3 columns</p>\n</div>"
     },
     "metadata": {},
     "execution_count": 9
    }
   ],
   "source": [
    "list_df[2]"
   ]
  },
  {
   "cell_type": "code",
   "execution_count": 10,
   "metadata": {},
   "outputs": [
    {
     "output_type": "execute_result",
     "data": {
      "text/plain": "             tconst  ordering     nconst         category  \\\n0         tt0000001         1  nm1588970             self   \n1         tt0000001         2  nm0005690         director   \n2         tt0000001         3  nm0374658  cinematographer   \n3         tt0000002         1  nm0721526         director   \n4         tt0000002         2  nm1335271         composer   \n...             ...       ...        ...              ...   \n38813071  tt9916880         5  nm0996406         director   \n38813072  tt9916880         6  nm1482639           writer   \n38813073  tt9916880         7  nm2586970           writer   \n38813074  tt9916880         8  nm1594058         producer   \n38813075  tt9916880         9  nm1052583          actress   \n\n                              job                 characters  \n0                              \\N                   [\"Self\"]  \n1                              \\N                         \\N  \n2         director of photography                         \\N  \n3                              \\N                         \\N  \n4                              \\N                         \\N  \n...                           ...                        ...  \n38813071       principal director                         \\N  \n38813072                       \\N                         \\N  \n38813073                    books                         \\N  \n38813074                 producer                         \\N  \n38813075                       \\N  [\"Mum\",\"Tidy Ted\",\"Fang\"]  \n\n[38813076 rows x 6 columns]",
      "text/html": "<div>\n<style scoped>\n    .dataframe tbody tr th:only-of-type {\n        vertical-align: middle;\n    }\n\n    .dataframe tbody tr th {\n        vertical-align: top;\n    }\n\n    .dataframe thead th {\n        text-align: right;\n    }\n</style>\n<table border=\"1\" class=\"dataframe\">\n  <thead>\n    <tr style=\"text-align: right;\">\n      <th></th>\n      <th>tconst</th>\n      <th>ordering</th>\n      <th>nconst</th>\n      <th>category</th>\n      <th>job</th>\n      <th>characters</th>\n    </tr>\n  </thead>\n  <tbody>\n    <tr>\n      <th>0</th>\n      <td>tt0000001</td>\n      <td>1</td>\n      <td>nm1588970</td>\n      <td>self</td>\n      <td>\\N</td>\n      <td>[\"Self\"]</td>\n    </tr>\n    <tr>\n      <th>1</th>\n      <td>tt0000001</td>\n      <td>2</td>\n      <td>nm0005690</td>\n      <td>director</td>\n      <td>\\N</td>\n      <td>\\N</td>\n    </tr>\n    <tr>\n      <th>2</th>\n      <td>tt0000001</td>\n      <td>3</td>\n      <td>nm0374658</td>\n      <td>cinematographer</td>\n      <td>director of photography</td>\n      <td>\\N</td>\n    </tr>\n    <tr>\n      <th>3</th>\n      <td>tt0000002</td>\n      <td>1</td>\n      <td>nm0721526</td>\n      <td>director</td>\n      <td>\\N</td>\n      <td>\\N</td>\n    </tr>\n    <tr>\n      <th>4</th>\n      <td>tt0000002</td>\n      <td>2</td>\n      <td>nm1335271</td>\n      <td>composer</td>\n      <td>\\N</td>\n      <td>\\N</td>\n    </tr>\n    <tr>\n      <th>...</th>\n      <td>...</td>\n      <td>...</td>\n      <td>...</td>\n      <td>...</td>\n      <td>...</td>\n      <td>...</td>\n    </tr>\n    <tr>\n      <th>38813071</th>\n      <td>tt9916880</td>\n      <td>5</td>\n      <td>nm0996406</td>\n      <td>director</td>\n      <td>principal director</td>\n      <td>\\N</td>\n    </tr>\n    <tr>\n      <th>38813072</th>\n      <td>tt9916880</td>\n      <td>6</td>\n      <td>nm1482639</td>\n      <td>writer</td>\n      <td>\\N</td>\n      <td>\\N</td>\n    </tr>\n    <tr>\n      <th>38813073</th>\n      <td>tt9916880</td>\n      <td>7</td>\n      <td>nm2586970</td>\n      <td>writer</td>\n      <td>books</td>\n      <td>\\N</td>\n    </tr>\n    <tr>\n      <th>38813074</th>\n      <td>tt9916880</td>\n      <td>8</td>\n      <td>nm1594058</td>\n      <td>producer</td>\n      <td>producer</td>\n      <td>\\N</td>\n    </tr>\n    <tr>\n      <th>38813075</th>\n      <td>tt9916880</td>\n      <td>9</td>\n      <td>nm1052583</td>\n      <td>actress</td>\n      <td>\\N</td>\n      <td>[\"Mum\",\"Tidy Ted\",\"Fang\"]</td>\n    </tr>\n  </tbody>\n</table>\n<p>38813076 rows × 6 columns</p>\n</div>"
     },
     "metadata": {},
     "execution_count": 10
    }
   ],
   "source": [
    "list_df[3]"
   ]
  },
  {
   "cell_type": "code",
   "execution_count": 11,
   "metadata": {},
   "outputs": [
    {
     "output_type": "execute_result",
     "data": {
      "text/plain": "             nconst         primaryName birthYear deathYear  \\\n0         nm0000001        Fred Astaire      1899      1987   \n1         nm0000002       Lauren Bacall      1924      2014   \n2         nm0000003     Brigitte Bardot      1934        \\N   \n3         nm0000004        John Belushi      1949      1982   \n4         nm0000005      Ingmar Bergman      1918      2007   \n...             ...                 ...       ...       ...   \n10022855  nm9993714   Romeo del Rosario        \\N        \\N   \n10022856  nm9993716       Essias Loberg        \\N        \\N   \n10022857  nm9993717  Harikrishnan Rajan        \\N        \\N   \n10022858  nm9993718         Aayush Nair        \\N        \\N   \n10022859  nm9993719          Andre Hill        \\N        \\N   \n\n                            primaryProfession  \\\n0              soundtrack,actor,miscellaneous   \n1                          actress,soundtrack   \n2                 actress,soundtrack,producer   \n3                     actor,soundtrack,writer   \n4                       writer,director,actor   \n...                                       ...   \n10022855  animation_department,art_department   \n10022856                                  NaN   \n10022857                      cinematographer   \n10022858                      cinematographer   \n10022859                                  NaN   \n\n                                   knownForTitles  \n0         tt0043044,tt0050419,tt0053137,tt0072308  \n1         tt0037382,tt0038355,tt0117057,tt0071877  \n2         tt0054452,tt0059956,tt0057345,tt0049189  \n3         tt0078723,tt0080455,tt0077975,tt0072562  \n4         tt0050976,tt0083922,tt0060827,tt0050986  \n...                                           ...  \n10022855                                tt2455546  \n10022856                                       \\N  \n10022857                                tt8736744  \n10022858                                       \\N  \n10022859                                       \\N  \n\n[10022860 rows x 6 columns]",
      "text/html": "<div>\n<style scoped>\n    .dataframe tbody tr th:only-of-type {\n        vertical-align: middle;\n    }\n\n    .dataframe tbody tr th {\n        vertical-align: top;\n    }\n\n    .dataframe thead th {\n        text-align: right;\n    }\n</style>\n<table border=\"1\" class=\"dataframe\">\n  <thead>\n    <tr style=\"text-align: right;\">\n      <th></th>\n      <th>nconst</th>\n      <th>primaryName</th>\n      <th>birthYear</th>\n      <th>deathYear</th>\n      <th>primaryProfession</th>\n      <th>knownForTitles</th>\n    </tr>\n  </thead>\n  <tbody>\n    <tr>\n      <th>0</th>\n      <td>nm0000001</td>\n      <td>Fred Astaire</td>\n      <td>1899</td>\n      <td>1987</td>\n      <td>soundtrack,actor,miscellaneous</td>\n      <td>tt0043044,tt0050419,tt0053137,tt0072308</td>\n    </tr>\n    <tr>\n      <th>1</th>\n      <td>nm0000002</td>\n      <td>Lauren Bacall</td>\n      <td>1924</td>\n      <td>2014</td>\n      <td>actress,soundtrack</td>\n      <td>tt0037382,tt0038355,tt0117057,tt0071877</td>\n    </tr>\n    <tr>\n      <th>2</th>\n      <td>nm0000003</td>\n      <td>Brigitte Bardot</td>\n      <td>1934</td>\n      <td>\\N</td>\n      <td>actress,soundtrack,producer</td>\n      <td>tt0054452,tt0059956,tt0057345,tt0049189</td>\n    </tr>\n    <tr>\n      <th>3</th>\n      <td>nm0000004</td>\n      <td>John Belushi</td>\n      <td>1949</td>\n      <td>1982</td>\n      <td>actor,soundtrack,writer</td>\n      <td>tt0078723,tt0080455,tt0077975,tt0072562</td>\n    </tr>\n    <tr>\n      <th>4</th>\n      <td>nm0000005</td>\n      <td>Ingmar Bergman</td>\n      <td>1918</td>\n      <td>2007</td>\n      <td>writer,director,actor</td>\n      <td>tt0050976,tt0083922,tt0060827,tt0050986</td>\n    </tr>\n    <tr>\n      <th>...</th>\n      <td>...</td>\n      <td>...</td>\n      <td>...</td>\n      <td>...</td>\n      <td>...</td>\n      <td>...</td>\n    </tr>\n    <tr>\n      <th>10022855</th>\n      <td>nm9993714</td>\n      <td>Romeo del Rosario</td>\n      <td>\\N</td>\n      <td>\\N</td>\n      <td>animation_department,art_department</td>\n      <td>tt2455546</td>\n    </tr>\n    <tr>\n      <th>10022856</th>\n      <td>nm9993716</td>\n      <td>Essias Loberg</td>\n      <td>\\N</td>\n      <td>\\N</td>\n      <td>NaN</td>\n      <td>\\N</td>\n    </tr>\n    <tr>\n      <th>10022857</th>\n      <td>nm9993717</td>\n      <td>Harikrishnan Rajan</td>\n      <td>\\N</td>\n      <td>\\N</td>\n      <td>cinematographer</td>\n      <td>tt8736744</td>\n    </tr>\n    <tr>\n      <th>10022858</th>\n      <td>nm9993718</td>\n      <td>Aayush Nair</td>\n      <td>\\N</td>\n      <td>\\N</td>\n      <td>cinematographer</td>\n      <td>\\N</td>\n    </tr>\n    <tr>\n      <th>10022859</th>\n      <td>nm9993719</td>\n      <td>Andre Hill</td>\n      <td>\\N</td>\n      <td>\\N</td>\n      <td>NaN</td>\n      <td>\\N</td>\n    </tr>\n  </tbody>\n</table>\n<p>10022860 rows × 6 columns</p>\n</div>"
     },
     "metadata": {},
     "execution_count": 11
    }
   ],
   "source": [
    "list_df[4]"
   ]
  },
  {
   "cell_type": "code",
   "execution_count": 85,
   "metadata": {},
   "outputs": [],
   "source": [
    "def tt_idnum_plus(tsv_df, start_year = 2000, end_year = 2019, list_col = ['tconst']):\n",
    "    df_ = tsv_df[(tsv_df['startYear'].apply(lambda x: int(x) if x != '\\\\N' else 0) >= start_year) & (tsv_df['startYear'].apply(lambda x: int(x) if x != '\\\\N' else 0) <= end_year) & (tsv_df['titleType'] == 'movie')] #[list_col]\n",
    "    return df_"
   ]
  },
  {
   "cell_type": "code",
   "execution_count": 26,
   "metadata": {},
   "outputs": [],
   "source": [
    "df_idnum = tt_idnum_plus(list_df[0])"
   ]
  },
  {
   "cell_type": "code",
   "execution_count": 27,
   "metadata": {},
   "outputs": [],
   "source": [
    "df_idnum.reset_index(drop = True, inplace = True)"
   ]
  },
  {
   "cell_type": "code",
   "execution_count": 78,
   "metadata": {},
   "outputs": [],
   "source": [
    "first_merge = pd.merge(left=df_idnum, right=list_df[1], left_on='tconst', right_on='tconst')"
   ]
  },
  {
   "cell_type": "code",
   "execution_count": 70,
   "metadata": {},
   "outputs": [],
   "source": [
    "list_columns_change = ['genres', 'directors', 'writers']"
   ]
  },
  {
   "cell_type": "code",
   "execution_count": 80,
   "metadata": {},
   "outputs": [],
   "source": [
    "def clean_col_content(df, columns):\n",
    "    for i in columns:\n",
    "        df[i] = df[i].apply(lambda x: x.split(','))\n",
    "        df[i] = pd.DataFrame(first_merge[i].values.tolist(), index= df.index)[0] # gets first value in list\n",
    "        if i != 'genres':\n",
    "            df[i] = df[i].map(list_df[4].set_index('nconst')['primaryName']) # replaces ids with actual names"
   ]
  },
  {
   "cell_type": "code",
   "execution_count": 81,
   "metadata": {},
   "outputs": [],
   "source": [
    "clean_col_content(first_merge, list_columns_change)"
   ]
  },
  {
   "cell_type": "code",
   "execution_count": 98,
   "metadata": {},
   "outputs": [],
   "source": [
    "def prep_df(df):\n",
    "    df = df[df['isAdult'] == 0]\n",
    "    df = df.drop(columns = ['tconst', 'titleType', 'originalTitle', 'isAdult', 'startYear', 'endYear'])"
   ]
  },
  {
   "cell_type": "code",
   "execution_count": 99,
   "metadata": {},
   "outputs": [],
   "source": [
    "prep_df(first_merge)"
   ]
  },
  {
   "cell_type": "code",
   "execution_count": 90,
   "metadata": {},
   "outputs": [
    {
     "output_type": "execute_result",
     "data": {
      "text/plain": "                                             primaryTitle runtimeMinutes  \\\n0                                              Frivolinas             80   \n1                                          Kate & Leopold            118   \n2                                The Woman with the Knife             80   \n3                              The Other Side of the Wind            122   \n4                                         Sabse Bada Sukh             \\N   \n...                                                   ...            ...   \n227492        Rodolpho Teóphilo - O Legado de um Pioneiro             57   \n227493  De la ilusión al desconcierto: cine colombiano...            100   \n227494                                    Dankyavar Danka             \\N   \n227495                                             6 Gunn            116   \n227496                     Chico Albuquerque - Revelações             49   \n\n             genres              directors                 writers  \n0            Comedy        Arturo Carballo                     NaN  \n1            Comedy          James Mangold           Steven Rogers  \n2             Drama         Bassori Timite          Bassori Timite  \n3             Drama           Orson Welles            Orson Welles  \n4            Comedy   Hrishikesh Mukherjee                  Gulzar  \n...             ...                    ...                     ...  \n227492  Documentary  Ana Célia de Oliveira           Angela Gurgel  \n227493  Documentary            Luis Ospina             Luis Ospina  \n227494       Comedy          Kanchan Nayak            Sudhir Nikam  \n227495           \\N           Kiran Gawade            Kiran Gawade  \n227496  Documentary          Angela Gurgel  Vinicius Augusto Bozzo  \n\n[227497 rows x 5 columns]",
      "text/html": "<div>\n<style scoped>\n    .dataframe tbody tr th:only-of-type {\n        vertical-align: middle;\n    }\n\n    .dataframe tbody tr th {\n        vertical-align: top;\n    }\n\n    .dataframe thead th {\n        text-align: right;\n    }\n</style>\n<table border=\"1\" class=\"dataframe\">\n  <thead>\n    <tr style=\"text-align: right;\">\n      <th></th>\n      <th>primaryTitle</th>\n      <th>runtimeMinutes</th>\n      <th>genres</th>\n      <th>directors</th>\n      <th>writers</th>\n    </tr>\n  </thead>\n  <tbody>\n    <tr>\n      <th>0</th>\n      <td>Frivolinas</td>\n      <td>80</td>\n      <td>Comedy</td>\n      <td>Arturo Carballo</td>\n      <td>NaN</td>\n    </tr>\n    <tr>\n      <th>1</th>\n      <td>Kate &amp; Leopold</td>\n      <td>118</td>\n      <td>Comedy</td>\n      <td>James Mangold</td>\n      <td>Steven Rogers</td>\n    </tr>\n    <tr>\n      <th>2</th>\n      <td>The Woman with the Knife</td>\n      <td>80</td>\n      <td>Drama</td>\n      <td>Bassori Timite</td>\n      <td>Bassori Timite</td>\n    </tr>\n    <tr>\n      <th>3</th>\n      <td>The Other Side of the Wind</td>\n      <td>122</td>\n      <td>Drama</td>\n      <td>Orson Welles</td>\n      <td>Orson Welles</td>\n    </tr>\n    <tr>\n      <th>4</th>\n      <td>Sabse Bada Sukh</td>\n      <td>\\N</td>\n      <td>Comedy</td>\n      <td>Hrishikesh Mukherjee</td>\n      <td>Gulzar</td>\n    </tr>\n    <tr>\n      <th>...</th>\n      <td>...</td>\n      <td>...</td>\n      <td>...</td>\n      <td>...</td>\n      <td>...</td>\n    </tr>\n    <tr>\n      <th>227492</th>\n      <td>Rodolpho Teóphilo - O Legado de um Pioneiro</td>\n      <td>57</td>\n      <td>Documentary</td>\n      <td>Ana Célia de Oliveira</td>\n      <td>Angela Gurgel</td>\n    </tr>\n    <tr>\n      <th>227493</th>\n      <td>De la ilusión al desconcierto: cine colombiano...</td>\n      <td>100</td>\n      <td>Documentary</td>\n      <td>Luis Ospina</td>\n      <td>Luis Ospina</td>\n    </tr>\n    <tr>\n      <th>227494</th>\n      <td>Dankyavar Danka</td>\n      <td>\\N</td>\n      <td>Comedy</td>\n      <td>Kanchan Nayak</td>\n      <td>Sudhir Nikam</td>\n    </tr>\n    <tr>\n      <th>227495</th>\n      <td>6 Gunn</td>\n      <td>116</td>\n      <td>\\N</td>\n      <td>Kiran Gawade</td>\n      <td>Kiran Gawade</td>\n    </tr>\n    <tr>\n      <th>227496</th>\n      <td>Chico Albuquerque - Revelações</td>\n      <td>49</td>\n      <td>Documentary</td>\n      <td>Angela Gurgel</td>\n      <td>Vinicius Augusto Bozzo</td>\n    </tr>\n  </tbody>\n</table>\n<p>227497 rows × 5 columns</p>\n</div>"
     },
     "metadata": {},
     "execution_count": 90
    }
   ],
   "source": [
    "first_merge.drop(columns = ['tconst', 'titleType', 'originalTitle', 'isAdult', 'startYear', 'endYear'])"
   ]
  },
  {
   "cell_type": "code",
   "execution_count": 100,
   "metadata": {},
   "outputs": [
    {
     "output_type": "execute_result",
     "data": {
      "text/plain": "           tconst titleType  \\\n0       tt0016906     movie   \n1       tt0035423     movie   \n2       tt0064322     movie   \n3       tt0069049     movie   \n4       tt0069204     movie   \n...           ...       ...   \n227492  tt9916622     movie   \n227493  tt9916680     movie   \n227494  tt9916706     movie   \n227495  tt9916730     movie   \n227496  tt9916754     movie   \n\n                                             primaryTitle  \\\n0                                              Frivolinas   \n1                                          Kate & Leopold   \n2                                The Woman with the Knife   \n3                              The Other Side of the Wind   \n4                                         Sabse Bada Sukh   \n...                                                   ...   \n227492        Rodolpho Teóphilo - O Legado de um Pioneiro   \n227493  De la ilusión al desconcierto: cine colombiano...   \n227494                                    Dankyavar Danka   \n227495                                             6 Gunn   \n227496                     Chico Albuquerque - Revelações   \n\n                                            originalTitle  isAdult startYear  \\\n0                                              Frivolinas        0      2014   \n1                                          Kate & Leopold        0      2001   \n2                                     La femme au couteau        0      2010   \n3                              The Other Side of the Wind        0      2018   \n4                                         Sabse Bada Sukh        0      2018   \n...                                                   ...      ...       ...   \n227492        Rodolpho Teóphilo - O Legado de um Pioneiro        0      2015   \n227493  De la ilusión al desconcierto: cine colombiano...        0      2007   \n227494                                    Dankyavar Danka        0      2013   \n227495                                             6 Gunn        0      2017   \n227496                     Chico Albuquerque - Revelações        0      2013   \n\n       endYear runtimeMinutes       genres              directors  \\\n0           \\N             80       Comedy        Arturo Carballo   \n1           \\N            118       Comedy          James Mangold   \n2           \\N             80        Drama         Bassori Timite   \n3           \\N            122        Drama           Orson Welles   \n4           \\N             \\N       Comedy   Hrishikesh Mukherjee   \n...        ...            ...          ...                    ...   \n227492      \\N             57  Documentary  Ana Célia de Oliveira   \n227493      \\N            100  Documentary            Luis Ospina   \n227494      \\N             \\N       Comedy          Kanchan Nayak   \n227495      \\N            116           \\N           Kiran Gawade   \n227496      \\N             49  Documentary          Angela Gurgel   \n\n                       writers  \n0                          NaN  \n1                Steven Rogers  \n2               Bassori Timite  \n3                 Orson Welles  \n4                       Gulzar  \n...                        ...  \n227492           Angela Gurgel  \n227493             Luis Ospina  \n227494            Sudhir Nikam  \n227495            Kiran Gawade  \n227496  Vinicius Augusto Bozzo  \n\n[227497 rows x 11 columns]",
      "text/html": "<div>\n<style scoped>\n    .dataframe tbody tr th:only-of-type {\n        vertical-align: middle;\n    }\n\n    .dataframe tbody tr th {\n        vertical-align: top;\n    }\n\n    .dataframe thead th {\n        text-align: right;\n    }\n</style>\n<table border=\"1\" class=\"dataframe\">\n  <thead>\n    <tr style=\"text-align: right;\">\n      <th></th>\n      <th>tconst</th>\n      <th>titleType</th>\n      <th>primaryTitle</th>\n      <th>originalTitle</th>\n      <th>isAdult</th>\n      <th>startYear</th>\n      <th>endYear</th>\n      <th>runtimeMinutes</th>\n      <th>genres</th>\n      <th>directors</th>\n      <th>writers</th>\n    </tr>\n  </thead>\n  <tbody>\n    <tr>\n      <th>0</th>\n      <td>tt0016906</td>\n      <td>movie</td>\n      <td>Frivolinas</td>\n      <td>Frivolinas</td>\n      <td>0</td>\n      <td>2014</td>\n      <td>\\N</td>\n      <td>80</td>\n      <td>Comedy</td>\n      <td>Arturo Carballo</td>\n      <td>NaN</td>\n    </tr>\n    <tr>\n      <th>1</th>\n      <td>tt0035423</td>\n      <td>movie</td>\n      <td>Kate &amp; Leopold</td>\n      <td>Kate &amp; Leopold</td>\n      <td>0</td>\n      <td>2001</td>\n      <td>\\N</td>\n      <td>118</td>\n      <td>Comedy</td>\n      <td>James Mangold</td>\n      <td>Steven Rogers</td>\n    </tr>\n    <tr>\n      <th>2</th>\n      <td>tt0064322</td>\n      <td>movie</td>\n      <td>The Woman with the Knife</td>\n      <td>La femme au couteau</td>\n      <td>0</td>\n      <td>2010</td>\n      <td>\\N</td>\n      <td>80</td>\n      <td>Drama</td>\n      <td>Bassori Timite</td>\n      <td>Bassori Timite</td>\n    </tr>\n    <tr>\n      <th>3</th>\n      <td>tt0069049</td>\n      <td>movie</td>\n      <td>The Other Side of the Wind</td>\n      <td>The Other Side of the Wind</td>\n      <td>0</td>\n      <td>2018</td>\n      <td>\\N</td>\n      <td>122</td>\n      <td>Drama</td>\n      <td>Orson Welles</td>\n      <td>Orson Welles</td>\n    </tr>\n    <tr>\n      <th>4</th>\n      <td>tt0069204</td>\n      <td>movie</td>\n      <td>Sabse Bada Sukh</td>\n      <td>Sabse Bada Sukh</td>\n      <td>0</td>\n      <td>2018</td>\n      <td>\\N</td>\n      <td>\\N</td>\n      <td>Comedy</td>\n      <td>Hrishikesh Mukherjee</td>\n      <td>Gulzar</td>\n    </tr>\n    <tr>\n      <th>...</th>\n      <td>...</td>\n      <td>...</td>\n      <td>...</td>\n      <td>...</td>\n      <td>...</td>\n      <td>...</td>\n      <td>...</td>\n      <td>...</td>\n      <td>...</td>\n      <td>...</td>\n      <td>...</td>\n    </tr>\n    <tr>\n      <th>227492</th>\n      <td>tt9916622</td>\n      <td>movie</td>\n      <td>Rodolpho Teóphilo - O Legado de um Pioneiro</td>\n      <td>Rodolpho Teóphilo - O Legado de um Pioneiro</td>\n      <td>0</td>\n      <td>2015</td>\n      <td>\\N</td>\n      <td>57</td>\n      <td>Documentary</td>\n      <td>Ana Célia de Oliveira</td>\n      <td>Angela Gurgel</td>\n    </tr>\n    <tr>\n      <th>227493</th>\n      <td>tt9916680</td>\n      <td>movie</td>\n      <td>De la ilusión al desconcierto: cine colombiano...</td>\n      <td>De la ilusión al desconcierto: cine colombiano...</td>\n      <td>0</td>\n      <td>2007</td>\n      <td>\\N</td>\n      <td>100</td>\n      <td>Documentary</td>\n      <td>Luis Ospina</td>\n      <td>Luis Ospina</td>\n    </tr>\n    <tr>\n      <th>227494</th>\n      <td>tt9916706</td>\n      <td>movie</td>\n      <td>Dankyavar Danka</td>\n      <td>Dankyavar Danka</td>\n      <td>0</td>\n      <td>2013</td>\n      <td>\\N</td>\n      <td>\\N</td>\n      <td>Comedy</td>\n      <td>Kanchan Nayak</td>\n      <td>Sudhir Nikam</td>\n    </tr>\n    <tr>\n      <th>227495</th>\n      <td>tt9916730</td>\n      <td>movie</td>\n      <td>6 Gunn</td>\n      <td>6 Gunn</td>\n      <td>0</td>\n      <td>2017</td>\n      <td>\\N</td>\n      <td>116</td>\n      <td>\\N</td>\n      <td>Kiran Gawade</td>\n      <td>Kiran Gawade</td>\n    </tr>\n    <tr>\n      <th>227496</th>\n      <td>tt9916754</td>\n      <td>movie</td>\n      <td>Chico Albuquerque - Revelações</td>\n      <td>Chico Albuquerque - Revelações</td>\n      <td>0</td>\n      <td>2013</td>\n      <td>\\N</td>\n      <td>49</td>\n      <td>Documentary</td>\n      <td>Angela Gurgel</td>\n      <td>Vinicius Augusto Bozzo</td>\n    </tr>\n  </tbody>\n</table>\n<p>227497 rows × 11 columns</p>\n</div>"
     },
     "metadata": {},
     "execution_count": 100
    }
   ],
   "source": [
    "first_merge"
   ]
  },
  {
   "cell_type": "code",
   "execution_count": null,
   "metadata": {},
   "outputs": [],
   "source": [
    "hello"
   ]
  }
 ]
}