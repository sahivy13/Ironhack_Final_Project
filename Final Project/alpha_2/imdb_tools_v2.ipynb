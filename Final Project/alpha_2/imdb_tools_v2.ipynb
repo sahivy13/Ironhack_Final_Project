{
 "nbformat": 4,
 "nbformat_minor": 2,
 "metadata": {
  "language_info": {
   "name": "python",
   "codemirror_mode": {
    "name": "ipython",
    "version": 3
   },
   "version": "3.7.4-final"
  },
  "orig_nbformat": 2,
  "file_extension": ".py",
  "mimetype": "text/x-python",
  "name": "python",
  "npconvert_exporter": "python",
  "pygments_lexer": "ipython3",
  "version": 3,
  "kernelspec": {
   "name": "python37464bit7ce9bcd6e9604f49a75ac00b61501ba1",
   "display_name": "Python 3.7.4 64-bit"
  }
 },
 "cells": [
  {
   "cell_type": "markdown",
   "metadata": {},
   "source": [
    "# Testing for imdb tools"
   ]
  },
  {
   "cell_type": "markdown",
   "metadata": {},
   "source": [
    "## Import and creating class instance"
   ]
  },
  {
   "cell_type": "code",
   "execution_count": 1,
   "metadata": {},
   "outputs": [],
   "source": [
    "import numpy as np\n",
    "import re\n",
    "import urllib.request as req \n",
    "import tarfile\n",
    "import os\n",
    "import zipfile\n",
    "from collections import defaultdict\n",
    "\n",
    "#new ones\n",
    "import gzip\n",
    "import csv\n",
    "import pandas as pd\n",
    "from imdb import IMDb\n",
    "import re"
   ]
  },
  {
   "cell_type": "markdown",
   "metadata": {},
   "source": [
    "## Testing"
   ]
  },
  {
   "cell_type": "code",
   "execution_count": 2,
   "metadata": {},
   "outputs": [],
   "source": [
    "#URLs for data bases\n",
    "\n",
    "name_basics_url = 'https://datasets.imdbws.com/name.basics.tsv.gz'\n",
    "\n",
    "titles_akas_url = 'https://datasets.imdbws.com/title.akas.tsv.gz'\n",
    "\n",
    "title_basics_url = 'https://datasets.imdbws.com/title.basics.tsv.gz'\n",
    "\n",
    "title_crew_url = 'https://datasets.imdbws.com/title.crew.tsv.gz'\n",
    "\n",
    "title_episode_url = 'https://datasets.imdbws.com/title.episode.tsv.gz'\n",
    "\n",
    "title_principals_url = 'https://datasets.imdbws.com/title.principals.tsv.gz'\n",
    "\n",
    "title_ratings_url = 'https://datasets.imdbws.com/title.ratings.tsv.gz'\n",
    ""
   ]
  },
  {
   "cell_type": "code",
   "execution_count": 3,
   "metadata": {},
   "outputs": [],
   "source": [
    "# Creating list of URLs needed for this analyisis\n",
    "\n",
    "list_urls = [title_basics_url, title_crew_url, title_ratings_url, title_principals_url, name_basics_url]"
   ]
  },
  {
   "cell_type": "code",
   "execution_count": 4,
   "metadata": {},
   "outputs": [],
   "source": [
    "# # Creating folders to store data\n",
    "\n",
    "# save_filename = 'title.basics.tsv.gz'\n",
    "# imdb_folder = 'data'\n",
    "# tsv_filename = 'title_basics.tsv'\n",
    "\n",
    "# if not os.path.exists(save_filename):\n",
    "#     req.urlretrieve(title_basics_url, save_filename)\n",
    "    \n",
    "\n",
    "# if not os.path.exists(imdb_folder):\n",
    "#     os.mkdir(imdb_folder) \n",
    "#     with gzip.GzipFile(save_filename) as tsv:\n",
    "#         tsv_read = pd.read_csv(tsv, sep='\\t')\n",
    "        \n",
    "\n",
    "# if not os.path.exists(imdb_folder + '/'+ tsv_filename):\n",
    "#     with open(imdb_folder + '/'+ tsv_filename,'w') as write_tsv:\n",
    "#         write_tsv.write(tsv_read.to_csv(sep='\\t', index=False))"
   ]
  },
  {
   "cell_type": "code",
   "execution_count": 5,
   "metadata": {},
   "outputs": [],
   "source": [
    "def download_data(url): #Downloads and creates directories in the same directory as the file is located\n",
    "\n",
    "    save_filename = re.split(pattern = '.com\\/', string = url)[1]\n",
    "    imdb_folder = 'data'\n",
    "    tsv_filename = re.split(pattern = '.gz', string = save_filename)[0]\n",
    "    # print(tsv_filename)\n",
    "\n",
    "    if not os.path.exists(save_filename):\n",
    "        req.urlretrieve(url, save_filename)\n",
    "    \n",
    "\n",
    "    if not os.path.exists(imdb_folder):\n",
    "        os.mkdir(imdb_folder) \n",
    "        \n",
    "            \n",
    "\n",
    "    if not os.path.exists(imdb_folder + '/'+ tsv_filename):\n",
    "        with gzip.GzipFile(save_filename) as tsv:\n",
    "            tsv_read = pd.read_csv(tsv, sep='\\t')\n",
    "            with open(imdb_folder + '/'+ tsv_filename,'w') as write_tsv:\n",
    "                write_tsv.write(tsv_read.to_csv(sep='\\t', index=False))\n",
    "                return tsv_read\n",
    "\n",
    "    else:\n",
    "         with gzip.GzipFile(save_filename) as tsv:\n",
    "            tsv_read = pd.read_csv(tsv, sep='\\t')\n",
    "            return tsv_read\n",
    "\n",
    ""
   ]
  },
  {
   "cell_type": "code",
   "execution_count": 6,
   "metadata": {},
   "outputs": [],
   "source": [
    "def kickstart_scrape(list_ = list_urls):\n",
    "    list_tsv__df =[]\n",
    "    for url in list_:\n",
    "        print(url)\n",
    "        list_tsv__df.append(download_data(url))\n",
    "    return list_tsv__df"
   ]
  },
  {
   "cell_type": "code",
   "execution_count": 7,
   "metadata": {},
   "outputs": [
    {
     "output_type": "stream",
     "name": "stdout",
     "text": "https://datasets.imdbws.com/title.basics.tsv.gz\nhttps://datasets.imdbws.com/title.crew.tsv.gz\nhttps://datasets.imdbws.com/title.ratings.tsv.gz\nhttps://datasets.imdbws.com/title.principals.tsv.gz\nhttps://datasets.imdbws.com/name.basics.tsv.gz\n"
    }
   ],
   "source": [
    "list_df = kickstart_scrape(list_urls)"
   ]
  },
  {
   "cell_type": "code",
   "execution_count": 8,
   "metadata": {},
   "outputs": [
    {
     "output_type": "execute_result",
     "data": {
      "text/plain": "            tconst  titleType               primaryTitle  \\\n0        tt0000001      short                 Carmencita   \n1        tt0000002      short     Le clown et ses chiens   \n2        tt0000003      short             Pauvre Pierrot   \n3        tt0000004      short                Un bon bock   \n4        tt0000005      short           Blacksmith Scene   \n...            ...        ...                        ...   \n6591668  tt9916848  tvEpisode              Episode #3.17   \n6591669  tt9916850  tvEpisode              Episode #3.19   \n6591670  tt9916852  tvEpisode              Episode #3.20   \n6591671  tt9916856      short                   The Wind   \n6591672  tt9916880  tvEpisode  Horrid Henry Knows It All   \n\n                     originalTitle  isAdult startYear endYear runtimeMinutes  \\\n0                       Carmencita        0      1894      \\N              1   \n1           Le clown et ses chiens        0      1892      \\N              5   \n2                   Pauvre Pierrot        0      1892      \\N              4   \n3                      Un bon bock        0      1892      \\N             12   \n4                 Blacksmith Scene        0      1893      \\N              1   \n...                            ...      ...       ...     ...            ...   \n6591668              Episode #3.17        0      2010      \\N             \\N   \n6591669              Episode #3.19        0      2010      \\N             \\N   \n6591670              Episode #3.20        0      2010      \\N             \\N   \n6591671                   The Wind        0      2015      \\N             27   \n6591672  Horrid Henry Knows It All        0      2014      \\N             10   \n\n        genres  \n0           \\N  \n1           \\N  \n2           \\N  \n3           \\N  \n4           \\N  \n...        ...  \n6591668     \\N  \n6591669     \\N  \n6591670     \\N  \n6591671     \\N  \n6591672     \\N  \n\n[6591673 rows x 9 columns]",
      "text/html": "<div>\n<style scoped>\n    .dataframe tbody tr th:only-of-type {\n        vertical-align: middle;\n    }\n\n    .dataframe tbody tr th {\n        vertical-align: top;\n    }\n\n    .dataframe thead th {\n        text-align: right;\n    }\n</style>\n<table border=\"1\" class=\"dataframe\">\n  <thead>\n    <tr style=\"text-align: right;\">\n      <th></th>\n      <th>tconst</th>\n      <th>titleType</th>\n      <th>primaryTitle</th>\n      <th>originalTitle</th>\n      <th>isAdult</th>\n      <th>startYear</th>\n      <th>endYear</th>\n      <th>runtimeMinutes</th>\n      <th>genres</th>\n    </tr>\n  </thead>\n  <tbody>\n    <tr>\n      <th>0</th>\n      <td>tt0000001</td>\n      <td>short</td>\n      <td>Carmencita</td>\n      <td>Carmencita</td>\n      <td>0</td>\n      <td>1894</td>\n      <td>\\N</td>\n      <td>1</td>\n      <td>\\N</td>\n    </tr>\n    <tr>\n      <th>1</th>\n      <td>tt0000002</td>\n      <td>short</td>\n      <td>Le clown et ses chiens</td>\n      <td>Le clown et ses chiens</td>\n      <td>0</td>\n      <td>1892</td>\n      <td>\\N</td>\n      <td>5</td>\n      <td>\\N</td>\n    </tr>\n    <tr>\n      <th>2</th>\n      <td>tt0000003</td>\n      <td>short</td>\n      <td>Pauvre Pierrot</td>\n      <td>Pauvre Pierrot</td>\n      <td>0</td>\n      <td>1892</td>\n      <td>\\N</td>\n      <td>4</td>\n      <td>\\N</td>\n    </tr>\n    <tr>\n      <th>3</th>\n      <td>tt0000004</td>\n      <td>short</td>\n      <td>Un bon bock</td>\n      <td>Un bon bock</td>\n      <td>0</td>\n      <td>1892</td>\n      <td>\\N</td>\n      <td>12</td>\n      <td>\\N</td>\n    </tr>\n    <tr>\n      <th>4</th>\n      <td>tt0000005</td>\n      <td>short</td>\n      <td>Blacksmith Scene</td>\n      <td>Blacksmith Scene</td>\n      <td>0</td>\n      <td>1893</td>\n      <td>\\N</td>\n      <td>1</td>\n      <td>\\N</td>\n    </tr>\n    <tr>\n      <th>...</th>\n      <td>...</td>\n      <td>...</td>\n      <td>...</td>\n      <td>...</td>\n      <td>...</td>\n      <td>...</td>\n      <td>...</td>\n      <td>...</td>\n      <td>...</td>\n    </tr>\n    <tr>\n      <th>6591668</th>\n      <td>tt9916848</td>\n      <td>tvEpisode</td>\n      <td>Episode #3.17</td>\n      <td>Episode #3.17</td>\n      <td>0</td>\n      <td>2010</td>\n      <td>\\N</td>\n      <td>\\N</td>\n      <td>\\N</td>\n    </tr>\n    <tr>\n      <th>6591669</th>\n      <td>tt9916850</td>\n      <td>tvEpisode</td>\n      <td>Episode #3.19</td>\n      <td>Episode #3.19</td>\n      <td>0</td>\n      <td>2010</td>\n      <td>\\N</td>\n      <td>\\N</td>\n      <td>\\N</td>\n    </tr>\n    <tr>\n      <th>6591670</th>\n      <td>tt9916852</td>\n      <td>tvEpisode</td>\n      <td>Episode #3.20</td>\n      <td>Episode #3.20</td>\n      <td>0</td>\n      <td>2010</td>\n      <td>\\N</td>\n      <td>\\N</td>\n      <td>\\N</td>\n    </tr>\n    <tr>\n      <th>6591671</th>\n      <td>tt9916856</td>\n      <td>short</td>\n      <td>The Wind</td>\n      <td>The Wind</td>\n      <td>0</td>\n      <td>2015</td>\n      <td>\\N</td>\n      <td>27</td>\n      <td>\\N</td>\n    </tr>\n    <tr>\n      <th>6591672</th>\n      <td>tt9916880</td>\n      <td>tvEpisode</td>\n      <td>Horrid Henry Knows It All</td>\n      <td>Horrid Henry Knows It All</td>\n      <td>0</td>\n      <td>2014</td>\n      <td>\\N</td>\n      <td>10</td>\n      <td>\\N</td>\n    </tr>\n  </tbody>\n</table>\n<p>6591673 rows × 9 columns</p>\n</div>"
     },
     "metadata": {},
     "execution_count": 8
    }
   ],
   "source": [
    "list_df[0]"
   ]
  },
  {
   "cell_type": "code",
   "execution_count": 9,
   "metadata": {},
   "outputs": [],
   "source": [
    "def tt_idnum_plus(tsv_df, start_year = 2018, end_yead = 2019, list_col = ['tconst']):\n",
    "    df_ = tsv_df[(tsv_df['startYear'].apply(lambda x: int(x) if x != '\\\\N' else 0) >= start_year) & (tsv_df['startYear'].apply(lambda x: int(x) if x != '\\\\N' else 0) <= end_yead) & (tsv_df['titleType'] == 'movie')][list_col]\n",
    "    return df_"
   ]
  },
  {
   "cell_type": "code",
   "execution_count": 10,
   "metadata": {},
   "outputs": [
    {
     "output_type": "execute_result",
     "data": {
      "text/plain": "            tconst\n67690    tt0069049\n67836    tt0069204\n109009   tt0111414\n114407   tt0116991\n164986   tt0170651\n...            ...\n6591324  tt9916132\n6591338  tt9916160\n6591343  tt9916170\n6591468  tt9916428\n6591521  tt9916538\n\n[33085 rows x 1 columns]",
      "text/html": "<div>\n<style scoped>\n    .dataframe tbody tr th:only-of-type {\n        vertical-align: middle;\n    }\n\n    .dataframe tbody tr th {\n        vertical-align: top;\n    }\n\n    .dataframe thead th {\n        text-align: right;\n    }\n</style>\n<table border=\"1\" class=\"dataframe\">\n  <thead>\n    <tr style=\"text-align: right;\">\n      <th></th>\n      <th>tconst</th>\n    </tr>\n  </thead>\n  <tbody>\n    <tr>\n      <th>67690</th>\n      <td>tt0069049</td>\n    </tr>\n    <tr>\n      <th>67836</th>\n      <td>tt0069204</td>\n    </tr>\n    <tr>\n      <th>109009</th>\n      <td>tt0111414</td>\n    </tr>\n    <tr>\n      <th>114407</th>\n      <td>tt0116991</td>\n    </tr>\n    <tr>\n      <th>164986</th>\n      <td>tt0170651</td>\n    </tr>\n    <tr>\n      <th>...</th>\n      <td>...</td>\n    </tr>\n    <tr>\n      <th>6591324</th>\n      <td>tt9916132</td>\n    </tr>\n    <tr>\n      <th>6591338</th>\n      <td>tt9916160</td>\n    </tr>\n    <tr>\n      <th>6591343</th>\n      <td>tt9916170</td>\n    </tr>\n    <tr>\n      <th>6591468</th>\n      <td>tt9916428</td>\n    </tr>\n    <tr>\n      <th>6591521</th>\n      <td>tt9916538</td>\n    </tr>\n  </tbody>\n</table>\n<p>33085 rows × 1 columns</p>\n</div>"
     },
     "metadata": {},
     "execution_count": 10
    }
   ],
   "source": [
    "df_idnum = tt_idnum_plus(list_df[0])\n",
    "df_idnum"
   ]
  },
  {
   "cell_type": "code",
   "execution_count": 11,
   "metadata": {},
   "outputs": [
    {
     "output_type": "execute_result",
     "data": {
      "text/plain": "          tconst\n67690    0069049\n67836    0069204\n109009   0111414\n114407   0116991\n164986   0170651\n...          ...\n6591324  9916132\n6591338  9916160\n6591343  9916170\n6591468  9916428\n6591521  9916538\n\n[33085 rows x 1 columns]",
      "text/html": "<div>\n<style scoped>\n    .dataframe tbody tr th:only-of-type {\n        vertical-align: middle;\n    }\n\n    .dataframe tbody tr th {\n        vertical-align: top;\n    }\n\n    .dataframe thead th {\n        text-align: right;\n    }\n</style>\n<table border=\"1\" class=\"dataframe\">\n  <thead>\n    <tr style=\"text-align: right;\">\n      <th></th>\n      <th>tconst</th>\n    </tr>\n  </thead>\n  <tbody>\n    <tr>\n      <th>67690</th>\n      <td>0069049</td>\n    </tr>\n    <tr>\n      <th>67836</th>\n      <td>0069204</td>\n    </tr>\n    <tr>\n      <th>109009</th>\n      <td>0111414</td>\n    </tr>\n    <tr>\n      <th>114407</th>\n      <td>0116991</td>\n    </tr>\n    <tr>\n      <th>164986</th>\n      <td>0170651</td>\n    </tr>\n    <tr>\n      <th>...</th>\n      <td>...</td>\n    </tr>\n    <tr>\n      <th>6591324</th>\n      <td>9916132</td>\n    </tr>\n    <tr>\n      <th>6591338</th>\n      <td>9916160</td>\n    </tr>\n    <tr>\n      <th>6591343</th>\n      <td>9916170</td>\n    </tr>\n    <tr>\n      <th>6591468</th>\n      <td>9916428</td>\n    </tr>\n    <tr>\n      <th>6591521</th>\n      <td>9916538</td>\n    </tr>\n  </tbody>\n</table>\n<p>33085 rows × 1 columns</p>\n</div>"
     },
     "metadata": {},
     "execution_count": 11
    }
   ],
   "source": [
    "df_idnum = pd.DataFrame(df_idnum['tconst'].apply(lambda x: x.replace('tt','')))\n",
    "df_idnum.to_csv('df_idnum.csv', index_label='og_index')\n",
    "df_idnum"
   ]
  },
  {
   "cell_type": "code",
   "execution_count": 12,
   "metadata": {},
   "outputs": [
    {
     "output_type": "error",
     "ename": "NameError",
     "evalue": "name 'dd' is not defined",
     "traceback": [
      "\u001b[0;31m---------------------------------------------------------------------------\u001b[0m",
      "\u001b[0;31mNameError\u001b[0m                                 Traceback (most recent call last)",
      "\u001b[0;32m<ipython-input-12-5ac1e23ecca7>\u001b[0m in \u001b[0;36m<module>\u001b[0;34m\u001b[0m\n\u001b[0;32m----> 1\u001b[0;31m \u001b[0mdask_df_idnum\u001b[0m \u001b[0;34m=\u001b[0m \u001b[0mdd\u001b[0m\u001b[0;34m.\u001b[0m\u001b[0mread_csv\u001b[0m\u001b[0;34m(\u001b[0m\u001b[0;34m'df_idnum.csv'\u001b[0m\u001b[0;34m,\u001b[0m\u001b[0mblocksize\u001b[0m\u001b[0;34m=\u001b[0m\u001b[0;36m.8e6\u001b[0m\u001b[0;34m)\u001b[0m\u001b[0;34m\u001b[0m\u001b[0;34m\u001b[0m\u001b[0m\n\u001b[0m\u001b[1;32m      2\u001b[0m \u001b[0mdask_df_idnum\u001b[0m\u001b[0;34m\u001b[0m\u001b[0;34m\u001b[0m\u001b[0m\n",
      "\u001b[0;31mNameError\u001b[0m: name 'dd' is not defined"
     ]
    }
   ],
   "source": [
    "dask_df_idnum = dd.read_csv('df_idnum.csv',blocksize=.8e6)\n",
    "dask_df_idnum"
   ]
  },
  {
   "cell_type": "code",
   "execution_count": 121,
   "metadata": {},
   "outputs": [],
   "source": [
    "# import multiprocessing\n",
    "\n",
    "# pool = multiprocessing.Pool()\n",
    "\n",
    "# imdb_data = pool.map(kickstart_api, df_idnum['tconst'])"
   ]
  },
  {
   "cell_type": "code",
   "execution_count": 19,
   "metadata": {},
   "outputs": [
    {
     "output_type": "stream",
     "name": "stdout",
     "text": "_chain\n    result = func(*args)\n  File \"/Library/Frameworks/Python.framework/Versions/3.7/lib/python3.7/urllib/request.py\", line 649, in http_error_default\n    raise HTTPError(req.full_url, code, msg, hdrs, fp)\nurllib.error.HTTPError: HTTP Error 404: Not Found\n\nDuring handling of the above exception, another exception occurred:\n\nTraceback (most recent call last):\n  File \"/Library/Frameworks/Python.framework/Versions/3.7/lib/python3.7/site-packages/imdb/__init__.py\", line 732, in update\n    ret = method(mopID)\n  File \"/Library/Frameworks/Python.framework/Versions/3.7/lib/python3.7/site-packages/imdb/parser/http/__init__.py\", line 439, in get_movie_main\n    cont = self._retrieve(self.urls['movie_main'] % movieID + 'reference')\n  File \"/Library/Frameworks/Python.framework/Versions/3.7/lib/python3.7/site-packages/imdb/parser/http/__init__.py\", line 376, in _retrieve\n    ret = self.urlOpener.retrieve_unicode(url, size=size)\n  File \"/Library/Frameworks/Python.framework/Versions/3.7/lib/python3.7/site-packages/imdb/parser/http/__init__.py\", line 253, in retrieve_unicode\n    'original exception': e}\nimdb._exceptions.IMDbDataAccessError: {'errcode': None, 'errmsg': 'None', 'url': 'https://www.imdb.com/title/tt9678962/reference', 'proxy': '', 'exception type': 'IOError', 'original exception': <HTTPError 404: 'Not Found'>}\n31871\n2020-03-03 10:34:07,189 CRITICAL [imdbpy] /Library/Frameworks/Python.framework/Versions/3.7/lib/python3.7/site-packages/imdb/_exceptions.py:34: IMDbDataAccessError exception raised; args: ({'errcode': None, 'errmsg': 'None', 'url': 'https://www.imdb.com/title/tt9678962/plotsummary', 'proxy': '', 'exception type': 'IOError', 'original exception': <HTTPError 404: 'Not Found'>},); kwds: {}\nTraceback (most recent call last):\n  File \"/Library/Frameworks/Python.framework/Versions/3.7/lib/python3.7/site-packages/imdb/parser/http/__init__.py\", line 219, in retrieve_unicode\n    response = uopener.open(url)\n  File \"/Library/Frameworks/Python.framework/Versions/3.7/lib/python3.7/urllib/request.py\", line 531, in open\n    response = meth(req, response)\n  File \"/Library/Frameworks/Python.framework/Versions/3.7/lib/python3.7/urllib/request.py\", line 641, in http_response\n    'http', request, response, code, msg, hdrs)\n  File \"/Library/Frameworks/Python.framework/Versions/3.7/lib/python3.7/urllib/request.py\", line 569, in error\n    return self._call_chain(*args)\n  File \"/Library/Frameworks/Python.framework/Versions/3.7/lib/python3.7/urllib/request.py\", line 503, in _call_chain\n    result = func(*args)\n  File \"/Library/Frameworks/Python.framework/Versions/3.7/lib/python3.7/urllib/request.py\", line 649, in http_error_default\n    raise HTTPError(req.full_url, code, msg, hdrs, fp)\nurllib.error.HTTPError: HTTP Error 404: Not Found\n2020-03-03 10:34:07,195 CRITICAL [imdbpy] /Library/Frameworks/Python.framework/Versions/3.7/lib/python3.7/site-packages/imdb/__init__.py:737: caught an exception retrieving or parsing \"plot\" info set for mopID \"9678962\" (accessSystem: http)\nTraceback (most recent call last):\n  File \"/Library/Frameworks/Python.framework/Versions/3.7/lib/python3.7/site-packages/imdb/parser/http/__init__.py\", line 219, in retrieve_unicode\n    response = uopener.open(url)\n  File \"/Library/Frameworks/Python.framework/Versions/3.7/lib/python3.7/urllib/request.py\", line 531, in open\n    response = meth(req, response)\n  File \"/Library/Frameworks/Python.framework/Versions/3.7/lib/python3.7/urllib/request.py\", line 641, in http_response\n    'http', request, response, code, msg, hdrs)\n  File \"/Library/Frameworks/Python.framework/Versions/3.7/lib/python3.7/urllib/request.py\", line 569, in error\n    return self._call_chain(*args)\n  File \"/Library/Frameworks/Python.framework/Versions/3.7/lib/python3.7/urllib/request.py\", line 503, in _call_chain\n    result = func(*args)\n  File \"/Library/Frameworks/Python.framework/Versions/3.7/lib/python3.7/urllib/request.py\", line 649, in http_error_default\n    raise HTTPError(req.full_url, code, msg, hdrs, fp)\nurllib.error.HTTPError: HTTP Error 404: Not Found\n\nDuring handling of the above exception, another exception occurred:\n\nTraceback (most recent call last):\n  File \"/Library/Frameworks/Python.framework/Versions/3.7/lib/python3.7/site-packages/imdb/__init__.py\", line 732, in update\n    ret = method(mopID)\n  File \"/Library/Frameworks/Python.framework/Versions/3.7/lib/python3.7/site-packages/imdb/parser/http/__init__.py\", line 447, in get_movie_plot\n    cont = self._retrieve(self.urls['movie_main'] % movieID + 'plotsummary')\n  File \"/Library/Frameworks/Python.framework/Versions/3.7/lib/python3.7/site-packages/imdb/parser/http/__init__.py\", line 376, in _retrieve\n    ret = self.urlOpener.retrieve_unicode(url, size=size)\n  File \"/Library/Frameworks/Python.framework/Versions/3.7/lib/python3.7/site-packages/imdb/parser/http/__init__.py\", line 253, in retrieve_unicode\n    'original exception': e}\nimdb._exceptions.IMDbDataAccessError: {'errcode': None, 'errmsg': 'None', 'url': 'https://www.imdb.com/title/tt9678962/plotsummary', 'proxy': '', 'exception type': 'IOError', 'original exception': <HTTPError 404: 'Not Found'>}\n31872\n31873\n31874\n31875\n31876\n31877\n31878\n31879\n31880\n31881\n31882\n31883\n31884\n31885\n31886\n31887\n31888\n31889\n31890\n31891\n31892\n31893\n31894\n31895\n31896\n31897\n31898\n31899\n31900\n31901\n31902\n31903\n31904\n31905\n31906\n31907\n31908\n31909\n31910\n31911\n31912\n31913\n31914\n31915\n31916\n31917\n31918\n31919\n31920\n31921\n31922\n31923\n31924\n31925\n31926\n31927\n31928\n31929\n31930\n31931\n31932\n31933\n31934\n31935\n31936\n31937\n31938\n31939\n31940\n31941\n31942\n31943\n31944\n31945\n31946\n31947\n31948\n31949\n31950\n31951\n31952\n31953\n31954\n31955\n31956\n31957\n31958\n31959\n31960\n31961\n31962\n31963\n31964\n31965\n31966\n31967\n31968\n31969\n31970\n31971\n31972\n31973\n31974\n31975\n31976\n31977\n31978\n31979\n31980\n31981\n31982\n31983\n31984\n31985\n31986\n31987\n31988\n31989\n31990\n31991\n31992\n31993\n31994\n31995\n31996\n31997\n31998\n31999\n32000\n32001\n32002\n32003\n32004\n32005\n32006\n32007\n32008\n32009\n32010\n32011\n32012\n32013\n32014\n32015\n32016\n32017\n32018\n32019\n32020\n32021\n32022\n32023\n32024\n32025\n32026\n32027\n32028\n32029\n32030\n32031\n32032\n32033\n32034\n32035\n32036\n32037\n32038\n32039\n32040\n32041\n32042\n32043\n32044\n32045\n32046\n32047\n32048\n32049\n32050\n32051\n32052\n32053\n32054\n32055\n32056\n32057\n32058\n32059\n32060\n32061\n32062\n32063\n32064\n32065\n32066\n32067\n32068\n32069\n32070\n32071\n32072\n32073\n32074\n32075\n32076\n32077\n32078\n32079\n32080\n32081\n32082\n32083\n32084\n32085\n32086\n32087\n32088\n32089\n32090\n32091\n32092\n32093\n32094\n32095\n32096\n32097\n32098\n32099\n32100\n32101\n32102\n32103\n32104\n32105\n32106\n32107\n32108\n32109\n32110\n32111\n32112\n32113\n32114\n32115\n32116\n32117\n32118\n32119\n32120\n32121\n32122\n32123\n32124\n32125\n32126\n32127\n32128\n32129\n32130\n32131\n32132\n32133\n32134\n32135\n32136\n32137\n32138\n32139\n32140\n32141\n32142\n32143\n32144\n32145\n32146\n32147\n32148\n32149\n32150\n32151\n32152\n32153\n32154\n32155\n32156\n32157\n32158\n32159\n32160\n32161\n32162\n32163\n32164\n32165\n32166\n32167\n32168\n32169\n32170\n32171\n32172\n32173\n32174\n32175\n32176\n32177\n32178\n32179\n32180\n32181\n32182\n32183\n32184\n32185\n32186\n32187\n32188\n32189\n32190\n32191\n32192\n32193\n32194\n32195\n32196\n32197\n32198\n32199\n32200\n32201\n32202\n32203\n32204\n32205\n32206\n32207\n32208\n32209\n32210\n32211\n32212\n32213\n32214\n32215\n32216\n32217\n32218\n32219\n32220\n32221\n32222\n32223\n32224\n32225\n32226\n32227\n32228\n32229\n32230\n32231\n32232\n32233\n32234\n32235\n32236\n32237\n32238\n32239\n32240\n32241\n32242\n32243\n32244\n32245\n32246\n32247\n32248\n32249\n32250\n32251\n32252\n32253\n32254\n32255\n32256\n32257\n32258\n32259\n32260\n32261\n32262\n32263\n32264\n32265\n32266\n32267\n32268\n32269\n32270\n32271\n32272\n32273\n32274\n32275\n32276\n32277\n32278\n32279\n32280\n32281\n32282\n32283\n32284\n32285\n32286\n32287\n32288\n32289\n32290\n32291\n32292\n32293\n32294\n32295\n32296\n32297\n32298\n32299\n32300\n32301\n32302\n32303\n32304\n32305\n32306\n32307\n32308\n32309\n32310\n32311\n32312\n32313\n32314\n32315\n32316\n32317\n32318\n32319\n32320\n32321\n32322\n32323\n32324\n32325\n32326\n32327\n32328\n32329\n32330\n32331\n32332\n32333\n32334\n32335\n32336\n32337\n32338\n32339\n32340\n32341\n32342\n32343\n32344\n32345\n32346\n32347\n32348\n32349\n32350\n32351\n32352\n32353\n32354\n32355\n32356\n32357\n32358\n32359\n32360\n32361\n32362\n32363\n32364\n32365\n32366\n32367\n32368\n32369\n32370\n32371\n32372\n32373\n32374\n32375\n32376\n32377\n32378\n32379\n32380\n32381\n32382\n32383\n32384\n32385\n32386\n32387\n32388\n32389\n32390\n32391\n32392\n32393\n32394\n32395\n32396\n32397\n32398\n32399\n32400\n32401\n32402\n32403\n32404\n32405\n32406\n32407\n32408\n32409\n32410\n32411\n32412\n32413\n32414\n32415\n32416\n32417\n32418\n32419\n32420\n32421\n32422\n32423\n32424\n32425\n32426\n32427\n32428\n32429\n32430\n32431\n32432\n32433\n32434\n32435\n32436\n32437\n32438\n32439\n32440\n32441\n32442\n32443\n32444\n32445\n32446\n32447\n32448\n32449\n32450\n32451\n32452\n32453\n32454\n32455\n32456\n32457\n32458\n32459\n32460\n32461\n32462\n32463\n32464\n32465\n32466\n32467\n32468\n32469\n32470\n32471\n32472\n32473\n32474\n32475\n32476\n32477\n32478\n32479\n32480\n32481\n32482\n32483\n32484\n32485\n32486\n32487\n32488\n32489\n32490\n32491\n32492\n32493\n32494\n32495\n32496\n32497\n32498\n32499\n32500\n32501\n32502\n32503\n32504\n32505\n32506\n32507\n32508\n32509\n32510\n32511\n32512\n32513\n32514\n32515\n32516\n32517\n32518\n32519\n32520\n32521\n32522\n32523\n32524\n32525\n32526\n32527\n32528\n32529\n32530\n32531\n32532\n32533\n32534\n32535\n32536\n32537\n32538\n32539\n32540\n32541\n32542\n32543\n32544\n32545\n32546\n32547\n32548\n32549\n32550\n32551\n32552\n32553\n32554\n32555\n32556\n32557\n32558\n32559\n32560\n32561\n32562\n32563\n32564\n32565\n32566\n32567\n32568\n32569\n32570\n32571\n32572\n32573\n32574\n32575\n32576\n32577\n32578\n32579\n32580\n32581\n32582\n32583\n32584\n32585\n32586\n32587\n32588\n32589\n32590\n32591\n32592\n32593\n32594\n32595\n32596\n32597\n32598\n32599\n32600\n32601\n32602\n32603\n32604\n32605\n32606\n32607\n32608\n32609\n32610\n32611\n32612\n32613\n32614\n32615\n32616\n32617\n32618\n32619\n32620\n32621\n32622\n32623\n2020-03-03 10:50:10,988 CRITICAL [imdbpy] /Library/Frameworks/Python.framework/Versions/3.7/lib/python3.7/site-packages/imdb/_exceptions.py:34: IMDbDataAccessError exception raised; args: ({'errcode': None, 'errmsg': 'None', 'url': 'https://www.imdb.com/title/tt9828428/reference', 'proxy': '', 'exception type': 'IOError', 'original exception': <HTTPError 404: 'Not Found'>},); kwds: {}\nTraceback (most recent call last):\n  File \"/Library/Frameworks/Python.framework/Versions/3.7/lib/python3.7/site-packages/imdb/parser/http/__init__.py\", line 219, in retrieve_unicode\n    response = uopener.open(url)\n  File \"/Library/Frameworks/Python.framework/Versions/3.7/lib/python3.7/urllib/request.py\", line 531, in open\n    response = meth(req, response)\n  File \"/Library/Frameworks/Python.framework/Versions/3.7/lib/python3.7/urllib/request.py\", line 641, in http_response\n    'http', request, response, code, msg, hdrs)\n  File \"/Library/Frameworks/Python.framework/Versions/3.7/lib/python3.7/urllib/request.py\", line 569, in error\n    return self._call_chain(*args)\n  File \"/Library/Frameworks/Python.framework/Versions/3.7/lib/python3.7/urllib/request.py\", line 503, in _call_chain\n    result = func(*args)\n  File \"/Library/Frameworks/Python.framework/Versions/3.7/lib/python3.7/urllib/request.py\", line 649, in http_error_default\n    raise HTTPError(req.full_url, code, msg, hdrs, fp)\nurllib.error.HTTPError: HTTP Error 404: Not Found\n2020-03-03 10:50:10,993 CRITICAL [imdbpy] /Library/Frameworks/Python.framework/Versions/3.7/lib/python3.7/site-packages/imdb/__init__.py:737: caught an exception retrieving or parsing \"main\" info set for mopID \"9828428\" (accessSystem: http)\nTraceback (most recent call last):\n  File \"/Library/Frameworks/Python.framework/Versions/3.7/lib/python3.7/site-packages/imdb/parser/http/__init__.py\", line 219, in retrieve_unicode\n    response = uopener.open(url)\n  File \"/Library/Frameworks/Python.framework/Versions/3.7/lib/python3.7/urllib/request.py\", line 531, in open\n    response = meth(req, response)\n  File \"/Library/Frameworks/Python.framework/Versions/3.7/lib/python3.7/urllib/request.py\", line 641, in http_response\n    'http', request, response, code, msg, hdrs)\n  File \"/Library/Frameworks/Python.framework/Versions/3.7/lib/python3.7/urllib/request.py\", line 569, in error\n    return self._call_chain(*args)\n  File \"/Library/Frameworks/Python.framework/Versions/3.7/lib/python3.7/urllib/request.py\", line 503, in _call_chain\n    result = func(*args)\n  File \"/Library/Frameworks/Python.framework/Versions/3.7/lib/python3.7/urllib/request.py\", line 649, in http_error_default\n    raise HTTPError(req.full_url, code, msg, hdrs, fp)\nurllib.error.HTTPError: HTTP Error 404: Not Found\n\nDuring handling of the above exception, another exception occurred:\n\nTraceback (most recent call last):\n  File \"/Library/Frameworks/Python.framework/Versions/3.7/lib/python3.7/site-packages/imdb/__init__.py\", line 732, in update\n    ret = method(mopID)\n  File \"/Library/Frameworks/Python.framework/Versions/3.7/lib/python3.7/site-packages/imdb/parser/http/__init__.py\", line 439, in get_movie_main\n    cont = self._retrieve(self.urls['movie_main'] % movieID + 'reference')\n  File \"/Library/Frameworks/Python.framework/Versions/3.7/lib/python3.7/site-packages/imdb/parser/http/__init__.py\", line 376, in _retrieve\n    ret = self.urlOpener.retrieve_unicode(url, size=size)\n  File \"/Library/Frameworks/Python.framework/Versions/3.7/lib/python3.7/site-packages/imdb/parser/http/__init__.py\", line 253, in retrieve_unicode\n    'original exception': e}\nimdb._exceptions.IMDbDataAccessError: {'errcode': None, 'errmsg': 'None', 'url': 'https://www.imdb.com/title/tt9828428/reference', 'proxy': '', 'exception type': 'IOError', 'original exception': <HTTPError 404: 'Not Found'>}\n2020-03-03 10:50:11,080 CRITICAL [imdbpy] /Library/Frameworks/Python.framework/Versions/3.7/lib/python3.7/site-packages/imdb/_exceptions.py:34: IMDbDataAccessError exception raised; args: ({'errcode': None, 'errmsg': 'None', 'url': 'https://www.imdb.com/title/tt9828428/plotsummary', 'proxy': '', 'exception type': 'IOError', 'original exception': <HTTPError 404: 'Not Found'>},); kwds: {}\nTraceback (most recent call last):\n  File \"/Library/Frameworks/Python.framework/Versions/3.7/lib/python3.7/site-packages/imdb/parser/http/__init__.py\", line 219, in retrieve_unicode\n    response = uopener.open(url)\n  File \"/Library/Frameworks/Python.framework/Versions/3.7/lib/python3.7/urllib/request.py\", line 531, in open\n    response = meth(req, response)\n  File \"/Library/Frameworks/Python.framework/Versions/3.7/lib/python3.7/urllib/request.py\", line 641, in http_response\n    'http', request, response, code, msg, hdrs)\n  File \"/Library/Frameworks/Python.framework/Versions/3.7/lib/python3.7/urllib/request.py\", line 569, in error\n    return self._call_chain(*args)\n  File \"/Library/Frameworks/Python.framework/Versions/3.7/lib/python3.7/urllib/request.py\", line 503, in _call_chain\n    result = func(*args)\n  File \"/Library/Frameworks/Python.framework/Versions/3.7/lib/python3.7/urllib/request.py\", line 649, in http_error_default\n    raise HTTPError(req.full_url, code, msg, hdrs, fp)\nurllib.error.HTTPError: HTTP Error 404: Not Found\n2020-03-03 10:50:11,083 CRITICAL [imdbpy] /Library/Frameworks/Python.framework/Versions/3.7/lib/python3.7/site-packages/imdb/__init__.py:737: caught an exception retrieving or parsing \"plot\" info set for mopID \"9828428\" (accessSystem: http)\nTraceback (most recent call last):\n  File \"/Library/Frameworks/Python.framework/Versions/3.7/lib/python3.7/site-packages/imdb/parser/http/__init__.py\", line 219, in retrieve_unicode\n    response = uopener.open(url)\n  File \"/Library/Frameworks/Python.framework/Versions/3.7/lib/python3.7/urllib/request.py\", line 531, in open\n    response = meth(req, response)\n  File \"/Library/Frameworks/Python.framework/Versions/3.7/lib/python3.7/urllib/request.py\", line 641, in http_response\n    'http', request, response, code, msg, hdrs)\n  File \"/Library/Frameworks/Python.framework/Versions/3.7/lib/python3.7/urllib/request.py\", line 569, in error\n    return self._call_chain(*args)\n  File \"/Library/Frameworks/Python.framework/Versions/3.7/lib/python3.7/urllib/request.py\", line 503, in _call_chain\n    result = func(*args)\n  File \"/Library/Frameworks/Python.framework/Versions/3.7/lib/python3.7/urllib/request.py\", line 649, in http_error_default\n    raise HTTPError(req.full_url, code, msg, hdrs, fp)\nurllib.error.HTTPError: HTTP Error 404: Not Found\n\nDuring handling of the above exception, another exception occurred:\n\nTraceback (most recent call last):\n  File \"/Library/Frameworks/Python.framework/Versions/3.7/lib/python3.7/site-packages/imdb/__init__.py\", line 732, in update\n    ret = method(mopID)\n  File \"/Library/Frameworks/Python.framework/Versions/3.7/lib/python3.7/site-packages/imdb/parser/http/__init__.py\", line 447, in get_movie_plot\n    cont = self._retrieve(self.urls['movie_main'] % movieID + 'plotsummary')\n  File \"/Library/Frameworks/Python.framework/Versions/3.7/lib/python3.7/site-packages/imdb/parser/http/__init__.py\", line 376, in _retrieve\n    ret = self.urlOpener.retrieve_unicode(url, size=size)\n  File \"/Library/Frameworks/Python.framework/Versions/3.7/lib/python3.7/site-packages/imdb/parser/http/__init__.py\", line 253, in retrieve_unicode\n    'original exception': e}\nimdb._exceptions.IMDbDataAccessError: {'errcode': None, 'errmsg': 'None', 'url': 'https://www.imdb.com/title/tt9828428/plotsummary', 'proxy': '', 'exception type': 'IOError', 'original exception': <HTTPError 404: 'Not Found'>}\n32624\n32625\n32626\n32627\n32628\n32629\n32630\n32631\n32632\n32633\n32634\n32635\n32636\n32637\n32638\n32639\n32640\n32641\n32642\n32643\n32644\n32645\n32646\n32647\n32648\n32649\n32650\n32651\n32652\n32653\n32654\n32655\n32656\n32657\n32658\n32659\n32660\n32661\n32662\n32663\n32664\n32665\n32666\n32667\n32668\n32669\n32670\n32671\n32672\n32673\n32674\n32675\n32676\n32677\n32678\n32679\n32680\n32681\n32682\n32683\n32684\n32685\n32686\n32687\n32688\n32689\n32690\n32691\n32692\n32693\n32694\n32695\n32696\n32697\n32698\n32699\n32700\n32701\n32702\n32703\n32704\n32705\n32706\n32707\n32708\n32709\n32710\n32711\n32712\n32713\n32714\n32715\n32716\n32717\n32718\n32719\n32720\n32721\n32722\n32723\n32724\n32725\n32726\n32727\n32728\n32729\n32730\n32731\n32732\n32733\n32734\n32735\n32736\n32737\n32738\n32739\n32740\n32741\n32742\n32743\n32744\n32745\n32746\n32747\n32748\n32749\n32750\n32751\n32752\n32753\n32754\n32755\n32756\n32757\n32758\n32759\n32760\n32761\n32762\n32763\n32764\n32765\n32766\n32767\n32768\n32769\n32770\n32771\n32772\n32773\n32774\n32775\n32776\n32777\n32778\n32779\n32780\n32781\n32782\n32783\n32784\n32785\n32786\n32787\n32788\n32789\n32790\n32791\n32792\n32793\n32794\n32795\n32796\n32797\n32798\n32799\n32800\n32801\n32802\n32803\n32804\n32805\n32806\n32807\n32808\n32809\n32810\n32811\n32812\n32813\n32814\n32815\n32816\n32817\n32818\n32819\n32820\n32821\n32822\n32823\n32824\n32825\n32826\n32827\n32828\n32829\n32830\n32831\n32832\n32833\n32834\n32835\n32836\n32837\n32838\n32839\n32840\n32841\n32842\n32843\n32844\n32845\n32846\n32847\n32848\n32849\n32850\n32851\n32852\n32853\n32854\n32855\n32856\n32857\n32858\n32859\n32860\n32861\n32862\n32863\n32864\n32865\n32866\n32867\n32868\n32869\n32870\n32871\n32872\n32873\n32874\n32875\n32876\n32877\n32878\n32879\n32880\n32881\n32882\n32883\n32884\n32885\n32886\n32887\n32888\n32889\n32890\n32891\n32892\n32893\n32894\n32895\n32896\n32897\n32898\n32899\n32900\n32901\n32902\n32903\n32904\n32905\n32906\n32907\n32908\n32909\n32910\n32911\n32912\n32913\n32914\n32915\n32916\n32917\n32918\n32919\n32920\n32921\n32922\n32923\n32924\n32925\n32926\n32927\n32928\n32929\n32930\n32931\n32932\n32933\n32934\n32935\n32936\n32937\n32938\n32939\n32940\n32941\n32942\n32943\n32944\n32945\n32946\n32947\n32948\n32949\n32950\n32951\n32952\n32953\n32954\n32955\n32956\n32957\n32958\n32959\n32960\n32961\n32962\n32963\n32964\n32965\n32966\n32967\n32968\n32969\n32970\n32971\n32972\n32973\n32974\n32975\n32976\n32977\n32978\n32979\n32980\n32981\n32982\n32983\n32984\n32985\n32986\n32987\n32988\n32989\n32990\n32991\n32992\n32993\n32994\n32995\n32996\n32997\n32998\n32999\n33000\n33001\n33002\n33003\n33004\n33005\n33006\n33007\n33008\n33009\n33010\n33011\n33012\n33013\n33014\n33015\n33016\n33017\n33018\n33019\n33020\n33021\n33022\n33023\n33024\n33025\n33026\n33027\n33028\n33029\n33030\n33031\n33032\n33033\n33034\n33035\n33036\n33037\n33038\n33039\n33040\n33041\n33042\n33043\n33044\n33045\n33046\n33047\n33048\n33049\n33050\n33051\n33052\n33053\n33054\n33055\n33056\n33057\n33058\n33059\n33060\n33061\n33062\n33063\n33064\n33065\n33066\n33067\n33068\n33069\n33070\n33071\n33072\n33073\n33074\n33075\n33076\n33077\n33078\n33079\n33080\n33081\n33082\n33083\n33084\n"
    },
    {
     "output_type": "error",
     "ename": "AttributeError",
     "evalue": "'dict' object has no attribute 'compute'",
     "traceback": [
      "\u001b[0;31m---------------------------------------------------------------------------\u001b[0m",
      "\u001b[0;31mAttributeError\u001b[0m                            Traceback (most recent call last)",
      "\u001b[0;32m<ipython-input-19-19395c081ed1>\u001b[0m in \u001b[0;36m<module>\u001b[0;34m\u001b[0m\n\u001b[1;32m     10\u001b[0m \u001b[0mdask_creator_idnum\u001b[0m \u001b[0;34m=\u001b[0m \u001b[0mkickstart_api\u001b[0m\u001b[0;34m(\u001b[0m\u001b[0mdf_idnum\u001b[0m\u001b[0;34m[\u001b[0m\u001b[0;34m'tconst'\u001b[0m\u001b[0;34m]\u001b[0m\u001b[0;34m)\u001b[0m\u001b[0;34m\u001b[0m\u001b[0;34m\u001b[0m\u001b[0m\n\u001b[1;32m     11\u001b[0m \u001b[0;34m\u001b[0m\u001b[0m\n\u001b[0;32m---> 12\u001b[0;31m \u001b[0mdask_df_idnum\u001b[0m \u001b[0;34m=\u001b[0m \u001b[0mdask_creator_idnum\u001b[0m\u001b[0;34m.\u001b[0m\u001b[0mcompute\u001b[0m\u001b[0;34m(\u001b[0m\u001b[0;34m)\u001b[0m\u001b[0;34m\u001b[0m\u001b[0;34m\u001b[0m\u001b[0m\n\u001b[0m",
      "\u001b[0;31mAttributeError\u001b[0m: 'dict' object has no attribute 'compute'"
     ]
    }
   ],
   "source": [
    "import dask.array as da\n",
    "import dask.dataframe as dd\n",
    "from dask.distributed import Client\n",
    "from dask import delayed\n",
    "\n",
    "client = Client(n_workers=4) #, processes = False)\n",
    "\n",
    "# dask_df_idnum = dd.read_csv('df_idnum.csv',blocksize=.8e6)\n",
    "\n",
    "dask_creator_idnum = kickstart_api(df_idnum['tconst'])\n",
    "\n",
    "dask_df_idnum = dask_creator_idnum.compute()\n",
    ""
   ]
  },
  {
   "cell_type": "code",
   "execution_count": 27,
   "metadata": {},
   "outputs": [
    {
     "output_type": "stream",
     "name": "stderr",
     "text": "distributed.protocol.core - CRITICAL - Failed to deserialize\nTraceback (most recent call last):\n  File \"/Library/Frameworks/Python.framework/Versions/3.7/lib/python3.7/site-packages/distributed/protocol/core.py\", line 106, in loads\n    header = msgpack.loads(header, use_list=False, **msgpack_opts)\n  File \"msgpack/_unpacker.pyx\", line 195, in msgpack._cmsgpack.unpackb\nValueError: tuple is not allowed for map key\ndistributed.core - ERROR - tuple is not allowed for map key\nTraceback (most recent call last):\n  File \"/Library/Frameworks/Python.framework/Versions/3.7/lib/python3.7/site-packages/distributed/core.py\", line 456, in handle_stream\n    msgs = await comm.read()\n  File \"/Library/Frameworks/Python.framework/Versions/3.7/lib/python3.7/site-packages/distributed/comm/tcp.py\", line 212, in read\n    frames, deserialize=self.deserialize, deserializers=deserializers\n  File \"/Library/Frameworks/Python.framework/Versions/3.7/lib/python3.7/site-packages/distributed/comm/utils.py\", line 69, in from_frames\n    res = _from_frames()\n  File \"/Library/Frameworks/Python.framework/Versions/3.7/lib/python3.7/site-packages/distributed/comm/utils.py\", line 55, in _from_frames\n    frames, deserialize=deserialize, deserializers=deserializers\n  File \"/Library/Frameworks/Python.framework/Versions/3.7/lib/python3.7/site-packages/distributed/protocol/core.py\", line 106, in loads\n    header = msgpack.loads(header, use_list=False, **msgpack_opts)\n  File \"msgpack/_unpacker.pyx\", line 195, in msgpack._cmsgpack.unpackb\nValueError: tuple is not allowed for map key\ntornado.application - ERROR - Exception in callback <bound method Client._heartbeat of <Client: 'tcp://127.0.0.1:52136' processes=4 threads=4, memory=8.59 GB>>\nTraceback (most recent call last):\n  File \"/Library/Frameworks/Python.framework/Versions/3.7/lib/python3.7/site-packages/tornado/ioloop.py\", line 1229, in _run\n    return self.callback()\n  File \"/Library/Frameworks/Python.framework/Versions/3.7/lib/python3.7/site-packages/distributed/client.py\", line 1106, in _heartbeat\n    self.scheduler_comm.send({\"op\": \"heartbeat-client\"})\n  File \"/Library/Frameworks/Python.framework/Versions/3.7/lib/python3.7/site-packages/distributed/batched.py\", line 117, in send\n    raise CommClosedError\ndistributed.comm.core.CommClosedError\ndistributed.core - ERROR - tuple is not allowed for map key\nTraceback (most recent call last):\n  File \"/Library/Frameworks/Python.framework/Versions/3.7/lib/python3.7/site-packages/distributed/core.py\", line 412, in handle_comm\n    result = await result\n  File \"/Library/Frameworks/Python.framework/Versions/3.7/lib/python3.7/site-packages/distributed/scheduler.py\", line 2495, in add_client\n    await self.handle_stream(comm=comm, extra={\"client\": client})\n  File \"/Library/Frameworks/Python.framework/Versions/3.7/lib/python3.7/site-packages/distributed/core.py\", line 456, in handle_stream\n    msgs = await comm.read()\n  File \"/Library/Frameworks/Python.framework/Versions/3.7/lib/python3.7/site-packages/distributed/comm/tcp.py\", line 212, in read\n    frames, deserialize=self.deserialize, deserializers=deserializers\n  File \"/Library/Frameworks/Python.framework/Versions/3.7/lib/python3.7/site-packages/distributed/comm/utils.py\", line 69, in from_frames\n    res = _from_frames()\n  File \"/Library/Frameworks/Python.framework/Versions/3.7/lib/python3.7/site-packages/distributed/comm/utils.py\", line 55, in _from_frames\n    frames, deserialize=deserialize, deserializers=deserializers\n  File \"/Library/Frameworks/Python.framework/Versions/3.7/lib/python3.7/site-packages/distributed/protocol/core.py\", line 106, in loads\n    header = msgpack.loads(header, use_list=False, **msgpack_opts)\n  File \"msgpack/_unpacker.pyx\", line 195, in msgpack._cmsgpack.unpackb\nValueError: tuple is not allowed for map key\ndistributed.client - ERROR - Failed to reconnect to scheduler after 10.00 seconds, closing client\n"
    },
    {
     "output_type": "error",
     "ename": "CancelledError",
     "evalue": "",
     "traceback": [
      "\u001b[0;31m---------------------------------------------------------------------------\u001b[0m",
      "\u001b[0;31mCancelledError\u001b[0m                            Traceback (most recent call last)",
      "\u001b[0;32m<ipython-input-27-5f3cef62ac69>\u001b[0m in \u001b[0;36m<module>\u001b[0;34m\u001b[0m\n\u001b[1;32m      1\u001b[0m \u001b[0;32mimport\u001b[0m \u001b[0mdask\u001b[0m\u001b[0;34m\u001b[0m\u001b[0;34m\u001b[0m\u001b[0m\n\u001b[1;32m      2\u001b[0m \u001b[0;34m\u001b[0m\u001b[0m\n\u001b[0;32m----> 3\u001b[0;31m \u001b[0md_df_idnum\u001b[0m \u001b[0;34m=\u001b[0m \u001b[0mdask\u001b[0m\u001b[0;34m.\u001b[0m\u001b[0mcompute\u001b[0m\u001b[0;34m(\u001b[0m\u001b[0mdask_creator_idnum\u001b[0m\u001b[0;34m)\u001b[0m\u001b[0;34m[\u001b[0m\u001b[0;36m0\u001b[0m\u001b[0;34m]\u001b[0m\u001b[0;34m\u001b[0m\u001b[0;34m\u001b[0m\u001b[0m\n\u001b[0m",
      "\u001b[0;32m/Library/Frameworks/Python.framework/Versions/3.7/lib/python3.7/site-packages/dask/base.py\u001b[0m in \u001b[0;36mcompute\u001b[0;34m(*args, **kwargs)\u001b[0m\n\u001b[1;32m    434\u001b[0m     \u001b[0mkeys\u001b[0m \u001b[0;34m=\u001b[0m \u001b[0;34m[\u001b[0m\u001b[0mx\u001b[0m\u001b[0;34m.\u001b[0m\u001b[0m__dask_keys__\u001b[0m\u001b[0;34m(\u001b[0m\u001b[0;34m)\u001b[0m \u001b[0;32mfor\u001b[0m \u001b[0mx\u001b[0m \u001b[0;32min\u001b[0m \u001b[0mcollections\u001b[0m\u001b[0;34m]\u001b[0m\u001b[0;34m\u001b[0m\u001b[0;34m\u001b[0m\u001b[0m\n\u001b[1;32m    435\u001b[0m     \u001b[0mpostcomputes\u001b[0m \u001b[0;34m=\u001b[0m \u001b[0;34m[\u001b[0m\u001b[0mx\u001b[0m\u001b[0;34m.\u001b[0m\u001b[0m__dask_postcompute__\u001b[0m\u001b[0;34m(\u001b[0m\u001b[0;34m)\u001b[0m \u001b[0;32mfor\u001b[0m \u001b[0mx\u001b[0m \u001b[0;32min\u001b[0m \u001b[0mcollections\u001b[0m\u001b[0;34m]\u001b[0m\u001b[0;34m\u001b[0m\u001b[0;34m\u001b[0m\u001b[0m\n\u001b[0;32m--> 436\u001b[0;31m     \u001b[0mresults\u001b[0m \u001b[0;34m=\u001b[0m \u001b[0mschedule\u001b[0m\u001b[0;34m(\u001b[0m\u001b[0mdsk\u001b[0m\u001b[0;34m,\u001b[0m \u001b[0mkeys\u001b[0m\u001b[0;34m,\u001b[0m \u001b[0;34m**\u001b[0m\u001b[0mkwargs\u001b[0m\u001b[0;34m)\u001b[0m\u001b[0;34m\u001b[0m\u001b[0;34m\u001b[0m\u001b[0m\n\u001b[0m\u001b[1;32m    437\u001b[0m     \u001b[0;32mreturn\u001b[0m \u001b[0mrepack\u001b[0m\u001b[0;34m(\u001b[0m\u001b[0;34m[\u001b[0m\u001b[0mf\u001b[0m\u001b[0;34m(\u001b[0m\u001b[0mr\u001b[0m\u001b[0;34m,\u001b[0m \u001b[0;34m*\u001b[0m\u001b[0ma\u001b[0m\u001b[0;34m)\u001b[0m \u001b[0;32mfor\u001b[0m \u001b[0mr\u001b[0m\u001b[0;34m,\u001b[0m \u001b[0;34m(\u001b[0m\u001b[0mf\u001b[0m\u001b[0;34m,\u001b[0m \u001b[0ma\u001b[0m\u001b[0;34m)\u001b[0m \u001b[0;32min\u001b[0m \u001b[0mzip\u001b[0m\u001b[0;34m(\u001b[0m\u001b[0mresults\u001b[0m\u001b[0;34m,\u001b[0m \u001b[0mpostcomputes\u001b[0m\u001b[0;34m)\u001b[0m\u001b[0;34m]\u001b[0m\u001b[0;34m)\u001b[0m\u001b[0;34m\u001b[0m\u001b[0;34m\u001b[0m\u001b[0m\n\u001b[1;32m    438\u001b[0m \u001b[0;34m\u001b[0m\u001b[0m\n",
      "\u001b[0;32m/Library/Frameworks/Python.framework/Versions/3.7/lib/python3.7/site-packages/distributed/client.py\u001b[0m in \u001b[0;36mget\u001b[0;34m(self, dsk, keys, restrictions, loose_restrictions, resources, sync, asynchronous, direct, retries, priority, fifo_timeout, actors, **kwargs)\u001b[0m\n\u001b[1;32m   2585\u001b[0m                     \u001b[0mshould_rejoin\u001b[0m \u001b[0;34m=\u001b[0m \u001b[0;32mFalse\u001b[0m\u001b[0;34m\u001b[0m\u001b[0;34m\u001b[0m\u001b[0m\n\u001b[1;32m   2586\u001b[0m             \u001b[0;32mtry\u001b[0m\u001b[0;34m:\u001b[0m\u001b[0;34m\u001b[0m\u001b[0;34m\u001b[0m\u001b[0m\n\u001b[0;32m-> 2587\u001b[0;31m                 \u001b[0mresults\u001b[0m \u001b[0;34m=\u001b[0m \u001b[0mself\u001b[0m\u001b[0;34m.\u001b[0m\u001b[0mgather\u001b[0m\u001b[0;34m(\u001b[0m\u001b[0mpacked\u001b[0m\u001b[0;34m,\u001b[0m \u001b[0masynchronous\u001b[0m\u001b[0;34m=\u001b[0m\u001b[0masynchronous\u001b[0m\u001b[0;34m,\u001b[0m \u001b[0mdirect\u001b[0m\u001b[0;34m=\u001b[0m\u001b[0mdirect\u001b[0m\u001b[0;34m)\u001b[0m\u001b[0;34m\u001b[0m\u001b[0;34m\u001b[0m\u001b[0m\n\u001b[0m\u001b[1;32m   2588\u001b[0m             \u001b[0;32mfinally\u001b[0m\u001b[0;34m:\u001b[0m\u001b[0;34m\u001b[0m\u001b[0;34m\u001b[0m\u001b[0m\n\u001b[1;32m   2589\u001b[0m                 \u001b[0;32mfor\u001b[0m \u001b[0mf\u001b[0m \u001b[0;32min\u001b[0m \u001b[0mfutures\u001b[0m\u001b[0;34m.\u001b[0m\u001b[0mvalues\u001b[0m\u001b[0;34m(\u001b[0m\u001b[0;34m)\u001b[0m\u001b[0;34m:\u001b[0m\u001b[0;34m\u001b[0m\u001b[0;34m\u001b[0m\u001b[0m\n",
      "\u001b[0;32m/Library/Frameworks/Python.framework/Versions/3.7/lib/python3.7/site-packages/distributed/client.py\u001b[0m in \u001b[0;36mgather\u001b[0;34m(self, futures, errors, direct, asynchronous)\u001b[0m\n\u001b[1;32m   1883\u001b[0m                 \u001b[0mdirect\u001b[0m\u001b[0;34m=\u001b[0m\u001b[0mdirect\u001b[0m\u001b[0;34m,\u001b[0m\u001b[0;34m\u001b[0m\u001b[0;34m\u001b[0m\u001b[0m\n\u001b[1;32m   1884\u001b[0m                 \u001b[0mlocal_worker\u001b[0m\u001b[0;34m=\u001b[0m\u001b[0mlocal_worker\u001b[0m\u001b[0;34m,\u001b[0m\u001b[0;34m\u001b[0m\u001b[0;34m\u001b[0m\u001b[0m\n\u001b[0;32m-> 1885\u001b[0;31m                 \u001b[0masynchronous\u001b[0m\u001b[0;34m=\u001b[0m\u001b[0masynchronous\u001b[0m\u001b[0;34m,\u001b[0m\u001b[0;34m\u001b[0m\u001b[0;34m\u001b[0m\u001b[0m\n\u001b[0m\u001b[1;32m   1886\u001b[0m             )\n\u001b[1;32m   1887\u001b[0m \u001b[0;34m\u001b[0m\u001b[0m\n",
      "\u001b[0;32m/Library/Frameworks/Python.framework/Versions/3.7/lib/python3.7/site-packages/distributed/client.py\u001b[0m in \u001b[0;36msync\u001b[0;34m(self, func, asynchronous, callback_timeout, *args, **kwargs)\u001b[0m\n\u001b[1;32m    765\u001b[0m         \u001b[0;32melse\u001b[0m\u001b[0;34m:\u001b[0m\u001b[0;34m\u001b[0m\u001b[0;34m\u001b[0m\u001b[0m\n\u001b[1;32m    766\u001b[0m             return sync(\n\u001b[0;32m--> 767\u001b[0;31m                 \u001b[0mself\u001b[0m\u001b[0;34m.\u001b[0m\u001b[0mloop\u001b[0m\u001b[0;34m,\u001b[0m \u001b[0mfunc\u001b[0m\u001b[0;34m,\u001b[0m \u001b[0;34m*\u001b[0m\u001b[0margs\u001b[0m\u001b[0;34m,\u001b[0m \u001b[0mcallback_timeout\u001b[0m\u001b[0;34m=\u001b[0m\u001b[0mcallback_timeout\u001b[0m\u001b[0;34m,\u001b[0m \u001b[0;34m**\u001b[0m\u001b[0mkwargs\u001b[0m\u001b[0;34m\u001b[0m\u001b[0;34m\u001b[0m\u001b[0m\n\u001b[0m\u001b[1;32m    768\u001b[0m             )\n\u001b[1;32m    769\u001b[0m \u001b[0;34m\u001b[0m\u001b[0m\n",
      "\u001b[0;32m/Library/Frameworks/Python.framework/Versions/3.7/lib/python3.7/site-packages/distributed/utils.py\u001b[0m in \u001b[0;36msync\u001b[0;34m(loop, func, callback_timeout, *args, **kwargs)\u001b[0m\n\u001b[1;32m    343\u001b[0m     \u001b[0;32mif\u001b[0m \u001b[0merror\u001b[0m\u001b[0;34m[\u001b[0m\u001b[0;36m0\u001b[0m\u001b[0;34m]\u001b[0m\u001b[0;34m:\u001b[0m\u001b[0;34m\u001b[0m\u001b[0;34m\u001b[0m\u001b[0m\n\u001b[1;32m    344\u001b[0m         \u001b[0mtyp\u001b[0m\u001b[0;34m,\u001b[0m \u001b[0mexc\u001b[0m\u001b[0;34m,\u001b[0m \u001b[0mtb\u001b[0m \u001b[0;34m=\u001b[0m \u001b[0merror\u001b[0m\u001b[0;34m[\u001b[0m\u001b[0;36m0\u001b[0m\u001b[0;34m]\u001b[0m\u001b[0;34m\u001b[0m\u001b[0;34m\u001b[0m\u001b[0m\n\u001b[0;32m--> 345\u001b[0;31m         \u001b[0;32mraise\u001b[0m \u001b[0mexc\u001b[0m\u001b[0;34m.\u001b[0m\u001b[0mwith_traceback\u001b[0m\u001b[0;34m(\u001b[0m\u001b[0mtb\u001b[0m\u001b[0;34m)\u001b[0m\u001b[0;34m\u001b[0m\u001b[0;34m\u001b[0m\u001b[0m\n\u001b[0m\u001b[1;32m    346\u001b[0m     \u001b[0;32melse\u001b[0m\u001b[0;34m:\u001b[0m\u001b[0;34m\u001b[0m\u001b[0;34m\u001b[0m\u001b[0m\n\u001b[1;32m    347\u001b[0m         \u001b[0;32mreturn\u001b[0m \u001b[0mresult\u001b[0m\u001b[0;34m[\u001b[0m\u001b[0;36m0\u001b[0m\u001b[0;34m]\u001b[0m\u001b[0;34m\u001b[0m\u001b[0;34m\u001b[0m\u001b[0m\n",
      "\u001b[0;32m/Library/Frameworks/Python.framework/Versions/3.7/lib/python3.7/site-packages/distributed/utils.py\u001b[0m in \u001b[0;36mf\u001b[0;34m()\u001b[0m\n\u001b[1;32m    327\u001b[0m             \u001b[0;32mif\u001b[0m \u001b[0mcallback_timeout\u001b[0m \u001b[0;32mis\u001b[0m \u001b[0;32mnot\u001b[0m \u001b[0;32mNone\u001b[0m\u001b[0;34m:\u001b[0m\u001b[0;34m\u001b[0m\u001b[0;34m\u001b[0m\u001b[0m\n\u001b[1;32m    328\u001b[0m                 \u001b[0mfuture\u001b[0m \u001b[0;34m=\u001b[0m \u001b[0masyncio\u001b[0m\u001b[0;34m.\u001b[0m\u001b[0mwait_for\u001b[0m\u001b[0;34m(\u001b[0m\u001b[0mfuture\u001b[0m\u001b[0;34m,\u001b[0m \u001b[0mcallback_timeout\u001b[0m\u001b[0;34m)\u001b[0m\u001b[0;34m\u001b[0m\u001b[0;34m\u001b[0m\u001b[0m\n\u001b[0;32m--> 329\u001b[0;31m             \u001b[0mresult\u001b[0m\u001b[0;34m[\u001b[0m\u001b[0;36m0\u001b[0m\u001b[0;34m]\u001b[0m \u001b[0;34m=\u001b[0m \u001b[0;32myield\u001b[0m \u001b[0mfuture\u001b[0m\u001b[0;34m\u001b[0m\u001b[0;34m\u001b[0m\u001b[0m\n\u001b[0m\u001b[1;32m    330\u001b[0m         \u001b[0;32mexcept\u001b[0m \u001b[0mException\u001b[0m \u001b[0;32mas\u001b[0m \u001b[0mexc\u001b[0m\u001b[0;34m:\u001b[0m\u001b[0;34m\u001b[0m\u001b[0;34m\u001b[0m\u001b[0m\n\u001b[1;32m    331\u001b[0m             \u001b[0merror\u001b[0m\u001b[0;34m[\u001b[0m\u001b[0;36m0\u001b[0m\u001b[0;34m]\u001b[0m \u001b[0;34m=\u001b[0m \u001b[0msys\u001b[0m\u001b[0;34m.\u001b[0m\u001b[0mexc_info\u001b[0m\u001b[0;34m(\u001b[0m\u001b[0;34m)\u001b[0m\u001b[0;34m\u001b[0m\u001b[0;34m\u001b[0m\u001b[0m\n",
      "\u001b[0;32m/Library/Frameworks/Python.framework/Versions/3.7/lib/python3.7/site-packages/tornado/gen.py\u001b[0m in \u001b[0;36mrun\u001b[0;34m(self)\u001b[0m\n\u001b[1;32m   1131\u001b[0m \u001b[0;34m\u001b[0m\u001b[0m\n\u001b[1;32m   1132\u001b[0m                     \u001b[0;32mtry\u001b[0m\u001b[0;34m:\u001b[0m\u001b[0;34m\u001b[0m\u001b[0;34m\u001b[0m\u001b[0m\n\u001b[0;32m-> 1133\u001b[0;31m                         \u001b[0mvalue\u001b[0m \u001b[0;34m=\u001b[0m \u001b[0mfuture\u001b[0m\u001b[0;34m.\u001b[0m\u001b[0mresult\u001b[0m\u001b[0;34m(\u001b[0m\u001b[0;34m)\u001b[0m\u001b[0;34m\u001b[0m\u001b[0;34m\u001b[0m\u001b[0m\n\u001b[0m\u001b[1;32m   1134\u001b[0m                     \u001b[0;32mexcept\u001b[0m \u001b[0mException\u001b[0m\u001b[0;34m:\u001b[0m\u001b[0;34m\u001b[0m\u001b[0;34m\u001b[0m\u001b[0m\n\u001b[1;32m   1135\u001b[0m                         \u001b[0mself\u001b[0m\u001b[0;34m.\u001b[0m\u001b[0mhad_exception\u001b[0m \u001b[0;34m=\u001b[0m \u001b[0;32mTrue\u001b[0m\u001b[0;34m\u001b[0m\u001b[0;34m\u001b[0m\u001b[0m\n",
      "\u001b[0;31mCancelledError\u001b[0m: "
     ]
    }
   ],
   "source": [
    "import dask\n",
    "\n",
    "d_df_idnum = dask.compute(dask_creator_idnum)[0]"
   ]
  },
  {
   "cell_type": "code",
   "execution_count": 9,
   "metadata": {},
   "outputs": [
    {
     "data": {
      "text/html": "<div><strong>Dask DataFrame Structure:</strong></div>\n<div>\n<style scoped>\n    .dataframe tbody tr th:only-of-type {\n        vertical-align: middle;\n    }\n\n    .dataframe tbody tr th {\n        vertical-align: top;\n    }\n\n    .dataframe thead th {\n        text-align: right;\n    }\n</style>\n<table border=\"1\" class=\"dataframe\">\n  <thead>\n    <tr style=\"text-align: right;\">\n      <th></th>\n      <th>og_index</th>\n      <th>tconst</th>\n    </tr>\n    <tr>\n      <th>npartitions=4</th>\n      <th></th>\n      <th></th>\n    </tr>\n  </thead>\n  <tbody>\n    <tr>\n      <th></th>\n      <td>int64</td>\n      <td>int64</td>\n    </tr>\n    <tr>\n      <th></th>\n      <td>...</td>\n      <td>...</td>\n    </tr>\n    <tr>\n      <th></th>\n      <td>...</td>\n      <td>...</td>\n    </tr>\n    <tr>\n      <th></th>\n      <td>...</td>\n      <td>...</td>\n    </tr>\n    <tr>\n      <th></th>\n      <td>...</td>\n      <td>...</td>\n    </tr>\n  </tbody>\n</table>\n</div>\n<div>Dask Name: from-delayed, 12 tasks</div>",
      "text/plain": "Dask DataFrame Structure:\n              og_index tconst\nnpartitions=4                \n                 int64  int64\n                   ...    ...\n                   ...    ...\n                   ...    ...\n                   ...    ...\nDask Name: from-delayed, 12 tasks"
     },
     "execution_count": 9,
     "metadata": {},
     "output_type": "execute_result"
    }
   ],
   "source": [
    "dask_df_idnum"
   ]
  },
  {
   "cell_type": "code",
   "execution_count": 10,
   "metadata": {},
   "outputs": [
    {
     "name": "stdout",
     "output_type": "stream",
     "text": "CPU times: user 81.9 ms, sys: 30.3 ms, total: 112 ms\nWall time: 83.5 ms\n"
    }
   ],
   "source": [
    "%%time\n",
    "df_idnum = dask_df_idnum.compute()"
   ]
  },
  {
   "cell_type": "code",
   "execution_count": 15,
   "metadata": {},
   "outputs": [
    {
     "data": {
      "text/plain": "16664    0016906\n63063    0064322\n67690    0069049\n67836    0069204\n98085    0100275\nName: tconst, dtype: object"
     },
     "execution_count": 15,
     "metadata": {},
     "output_type": "execute_result"
    }
   ],
   "source": [
    "df_idnum.head()['tconst']"
   ]
  },
  {
   "cell_type": "code",
   "execution_count": 13,
   "metadata": {},
   "outputs": [
    {
     "data": {
      "text/html": "<table style=\"border: 2px solid white;\">\n<tr>\n<td style=\"vertical-align: top; border: 0px solid white\">\n<h3 style=\"text-align: left;\">Client</h3>\n<ul style=\"text-align: left; list-style: none; margin: 0; padding: 0;\">\n  <li><b>Scheduler: </b>tcp://127.0.0.1:53709</li>\n  <li><b>Dashboard: </b><a href='http://127.0.0.1:53710/status' target='_blank'>http://127.0.0.1:53710/status</a>\n</ul>\n</td>\n<td style=\"vertical-align: top; border: 0px solid white\">\n<h3 style=\"text-align: left;\">Cluster</h3>\n<ul style=\"text-align: left; list-style:none; margin: 0; padding: 0;\">\n  <li><b>Workers: </b>4</li>\n  <li><b>Cores: </b>4</li>\n  <li><b>Memory: </b>8.59 GB</li>\n</ul>\n</td>\n</tr>\n</table>",
      "text/plain": "<Client: 'tcp://127.0.0.1:53709' processes=4 threads=4, memory=8.59 GB>"
     },
     "execution_count": 13,
     "metadata": {},
     "output_type": "execute_result"
    }
   ],
   "source": [
    "from dask.distributed import Client, progress\n",
    "client = Client(n_workers=4) #, process = False)\n",
    "client"
   ]
  },
  {
   "cell_type": "code",
   "execution_count": 16,
   "metadata": {},
   "outputs": [
    {
     "ename": "TypeError",
     "evalue": "'int' object is not iterable",
     "output_type": "error",
     "traceback": [
      "\u001b[0;31m---------------------------------------------------------------------------\u001b[0m",
      "\u001b[0;31mTypeError\u001b[0m                                 Traceback (most recent call last)",
      "\u001b[0;32m<ipython-input-16-4aa1a2c7d34f>\u001b[0m in \u001b[0;36m<module>\u001b[0;34m\u001b[0m\n\u001b[0;32m----> 1\u001b[0;31m \u001b[0mdf_idnum\u001b[0m\u001b[0;34m[\u001b[0m\u001b[0;34m'data_from_imdb_module'\u001b[0m\u001b[0;34m]\u001b[0m \u001b[0;34m=\u001b[0m \u001b[0mdf_idnum\u001b[0m\u001b[0;34m[\u001b[0m\u001b[0;34m'tconst'\u001b[0m\u001b[0;34m]\u001b[0m\u001b[0;34m.\u001b[0m\u001b[0mapply\u001b[0m\u001b[0;34m(\u001b[0m\u001b[0mkickstart_api\u001b[0m\u001b[0;34m)\u001b[0m\u001b[0;34m\u001b[0m\u001b[0;34m\u001b[0m\u001b[0m\n\u001b[0m",
      "\u001b[0;32m/Library/Frameworks/Python.framework/Versions/3.7/lib/python3.7/site-packages/pandas/core/series.py\u001b[0m in \u001b[0;36mapply\u001b[0;34m(self, func, convert_dtype, args, **kwds)\u001b[0m\n\u001b[1;32m   4043\u001b[0m             \u001b[0;32melse\u001b[0m\u001b[0;34m:\u001b[0m\u001b[0;34m\u001b[0m\u001b[0;34m\u001b[0m\u001b[0m\n\u001b[1;32m   4044\u001b[0m                 \u001b[0mvalues\u001b[0m \u001b[0;34m=\u001b[0m \u001b[0mself\u001b[0m\u001b[0;34m.\u001b[0m\u001b[0mastype\u001b[0m\u001b[0;34m(\u001b[0m\u001b[0mobject\u001b[0m\u001b[0;34m)\u001b[0m\u001b[0;34m.\u001b[0m\u001b[0mvalues\u001b[0m\u001b[0;34m\u001b[0m\u001b[0;34m\u001b[0m\u001b[0m\n\u001b[0;32m-> 4045\u001b[0;31m                 \u001b[0mmapped\u001b[0m \u001b[0;34m=\u001b[0m \u001b[0mlib\u001b[0m\u001b[0;34m.\u001b[0m\u001b[0mmap_infer\u001b[0m\u001b[0;34m(\u001b[0m\u001b[0mvalues\u001b[0m\u001b[0;34m,\u001b[0m \u001b[0mf\u001b[0m\u001b[0;34m,\u001b[0m \u001b[0mconvert\u001b[0m\u001b[0;34m=\u001b[0m\u001b[0mconvert_dtype\u001b[0m\u001b[0;34m)\u001b[0m\u001b[0;34m\u001b[0m\u001b[0;34m\u001b[0m\u001b[0m\n\u001b[0m\u001b[1;32m   4046\u001b[0m \u001b[0;34m\u001b[0m\u001b[0m\n\u001b[1;32m   4047\u001b[0m         \u001b[0;32mif\u001b[0m \u001b[0mlen\u001b[0m\u001b[0;34m(\u001b[0m\u001b[0mmapped\u001b[0m\u001b[0;34m)\u001b[0m \u001b[0;32mand\u001b[0m \u001b[0misinstance\u001b[0m\u001b[0;34m(\u001b[0m\u001b[0mmapped\u001b[0m\u001b[0;34m[\u001b[0m\u001b[0;36m0\u001b[0m\u001b[0;34m]\u001b[0m\u001b[0;34m,\u001b[0m \u001b[0mSeries\u001b[0m\u001b[0;34m)\u001b[0m\u001b[0;34m:\u001b[0m\u001b[0;34m\u001b[0m\u001b[0;34m\u001b[0m\u001b[0m\n",
      "\u001b[0;32mpandas/_libs/lib.pyx\u001b[0m in \u001b[0;36mpandas._libs.lib.map_infer\u001b[0;34m()\u001b[0m\n",
      "\u001b[0;32m<ipython-input-15-8da52ae5a02d>\u001b[0m in \u001b[0;36mkickstart_api\u001b[0;34m(id_series)\u001b[0m\n\u001b[1;32m     10\u001b[0m \u001b[0;34m\u001b[0m\u001b[0m\n\u001b[1;32m     11\u001b[0m \u001b[0;34m\u001b[0m\u001b[0m\n\u001b[0;32m---> 12\u001b[0;31m     \u001b[0;32mreturn\u001b[0m \u001b[0miterating_pull\u001b[0m\u001b[0;34m(\u001b[0m\u001b[0mid_series\u001b[0m\u001b[0;34m)\u001b[0m\u001b[0;34m\u001b[0m\u001b[0;34m\u001b[0m\u001b[0m\n\u001b[0m",
      "\u001b[0;32m<ipython-input-14-acea97820b5f>\u001b[0m in \u001b[0;36miterating_pull\u001b[0;34m(id_series)\u001b[0m\n\u001b[1;32m      1\u001b[0m \u001b[0;32mdef\u001b[0m \u001b[0miterating_pull\u001b[0m\u001b[0;34m(\u001b[0m\u001b[0mid_series\u001b[0m\u001b[0;34m)\u001b[0m\u001b[0;34m:\u001b[0m\u001b[0;34m\u001b[0m\u001b[0;34m\u001b[0m\u001b[0m\n\u001b[1;32m      2\u001b[0m \u001b[0;34m\u001b[0m\u001b[0m\n\u001b[0;32m----> 3\u001b[0;31m     \u001b[0;32mfor\u001b[0m \u001b[0mi\u001b[0m\u001b[0;34m,\u001b[0m \u001b[0mid\u001b[0m \u001b[0;32min\u001b[0m \u001b[0menumerate\u001b[0m\u001b[0;34m(\u001b[0m\u001b[0mid_series\u001b[0m\u001b[0;34m)\u001b[0m\u001b[0;34m:\u001b[0m\u001b[0;34m\u001b[0m\u001b[0;34m\u001b[0m\u001b[0m\n\u001b[0m\u001b[1;32m      4\u001b[0m         \u001b[0mprint\u001b[0m\u001b[0;34m(\u001b[0m\u001b[0mi\u001b[0m\u001b[0;34m)\u001b[0m\u001b[0;34m\u001b[0m\u001b[0;34m\u001b[0m\u001b[0m\n\u001b[1;32m      5\u001b[0m \u001b[0;34m\u001b[0m\u001b[0m\n",
      "\u001b[0;31mTypeError\u001b[0m: 'int' object is not iterable"
     ]
    }
   ],
   "source": [
    "df_idnum['data_from_imdb_module'] = df_idnum['tconst'].apply(kickstart_api)"
   ]
  },
  {
   "cell_type": "code",
   "execution_count": 13,
   "metadata": {},
   "outputs": [],
   "source": [
    "def iterating_pull(id_series):  \n",
    "\n",
    "    for i, id in enumerate(id_series):\n",
    "        if i//100:\n",
    "            print(i)\n",
    "\n",
    "        ia = IMDb()\n",
    "        m_ = ia.get_movie(id)\n",
    "\n",
    "        return pull_data(movie = m_, keys_need = k_n)\n",
    "\n",
    "        # dict_data['tt'+id] = pull_data(movie = m_, keys_need = k_n)"
   ]
  },
  {
   "cell_type": "code",
   "execution_count": 15,
   "metadata": {},
   "outputs": [],
   "source": [
    "def kickstart_api(id_series): #NEW VERSION\n",
    "    k_n = [\n",
    "        'box office',\n",
    "        'producers',\n",
    "        'composers',\n",
    "        'cinematographers',\n",
    "        'editors',\n",
    "        'production companies',\n",
    "    ]\n",
    "\n",
    "    \n",
    "    return iterating_pull(id_series)"
   ]
  },
  {
   "cell_type": "code",
   "execution_count": 16,
   "metadata": {},
   "outputs": [],
   "source": [
    "def kickstart_api(id_s): #ORIGINAL\n",
    "    dict_data = {}\n",
    "    k_n = [\n",
    "        'box office',\n",
    "        'producers',\n",
    "        'composers',\n",
    "        'cinematographers',\n",
    "        'editors',\n",
    "        'production companies',\n",
    "    ]\n",
    "\n",
    "    for i, id in enumerate(id_s):\n",
    "        print(i)\n",
    "\n",
    "        ia = IMDb()\n",
    "        m_ = ia.get_movie(id)\n",
    "        dict_data['tt'+id] = delayed(pull_data)(m_, k_n)\n",
    "    return dict_data"
   ]
  },
  {
   "cell_type": "code",
   "execution_count": 18,
   "metadata": {},
   "outputs": [],
   "source": [
    "def pull_data(movie,keys_need):\n",
    "    data ={}\n",
    "\n",
    "    for key in keys_need:\n",
    "        # print(key)\n",
    "        if len(key.split(' ')) >= 2 :\n",
    "            key = '_'.join(key.split(' '))\n",
    "        \n",
    "        try:\n",
    "            if key == 'box office':\n",
    "\n",
    "                for dict_key in movie[key].keys():\n",
    "\n",
    "                    if dict_key == 'budget':\n",
    "                    \n",
    "                        # print({'box_ofice_'+dict_key.lower():movie[key][dict_key]})\n",
    "                        # print('')\n",
    "                        data['box_ofice_'+dict_key.lower()] = movie[key][dict_key]\n",
    "\n",
    "                    else:\n",
    "\n",
    "                        joined = '_'.join(dict_key.split(' '))\n",
    "\n",
    "                        # print({'box_ofice_'+joined.lower():movie[key][dict_key]})\n",
    "                        # print('')\n",
    "                        data['box_ofice_'+joined.lower()] = movie[key][dict_key]\n",
    "\n",
    "            else:\n",
    "                list_test = []\n",
    "                for obj in movie[key]:\n",
    "                        list_test.append(obj['name'])\n",
    "                # print({key:list_test})\n",
    "                # print('')\n",
    "\n",
    "                data[key] = list_test\n",
    "\n",
    "        except:\n",
    "            if key == 'box office':\n",
    "                # print({'box_office':0})\n",
    "                # print('')\n",
    "                for dict_key in ['budget', 'opening_weekend_united_states', 'cumulative_worldwide_gross']:\n",
    "\n",
    "                    data['box_ofice_'+dict_key] = np.nan\n",
    "\n",
    "            else:\n",
    "                # print({key:np.nan})\n",
    "                # print('')\n",
    "                data[key] = np.nan\n",
    "    return data"
   ]
  },
  {
   "cell_type": "code",
   "execution_count": 185,
   "metadata": {},
   "outputs": [
    {
     "name": "stdout",
     "output_type": "stream",
     "text": "box office\n{'box_office': nan}\n\nproducers\n{'producers': ['Bruce Berman', 'Dan Cracchiolo', 'Carol Hughes', 'Andrew Mason', 'Richard Mirisch', 'Barrie M. Osborne', 'Joel Silver', 'Erwin Stoff', 'Lana Wachowski', 'Lilly Wachowski']}\n\ncomposers\n{'composers': ['Don Davis']}\n\ncinematographers\n{'cinematographers': ['Bill Pope']}\n\neditors\n{'editors': ['Zach Staenberg']}\n\nproduction companies\n{'production_companies': nan}\n\n"
    }
   ],
   "source": [
    "ia = IMDb()\n",
    "ind_ = '0133093' #The Matrix\n",
    "movie = ia.get_movie(ind_)\n",
    "\n",
    "data ={}\n",
    "\n",
    "for key in keys_need:\n",
    "    print(key)\n",
    "    if len(key.split(' ')) >= 2 :\n",
    "        key = '_'.join(key.split(' '))\n",
    "    \n",
    "    try:\n",
    "        if key == 'box office':\n",
    "\n",
    "            # print({'box_office':movie[key]})\n",
    "            # print('')\n",
    "\n",
    "            # list_test_1 = []\n",
    "\n",
    "            for dict_key in movie[key].keys():\n",
    "\n",
    "                if dict_key == 'budget':\n",
    "                \n",
    "                    print({'box_ofice_'+dict_key.lower():movie[key][dict_key]})\n",
    "                    print('')\n",
    "                    data['box_ofice_'+dict_key.lower()] = movie[key][dict_key]\n",
    "\n",
    "                else:\n",
    "\n",
    "                    joined = '_'.join(dict_key.split(' '))\n",
    "\n",
    "                    print({'box_ofice_'+joined.lower():movie[key][dict_key]})\n",
    "                    print('')\n",
    "                    data['box_ofice_'+joined.lower()] = movie[key][dict_key]\n",
    "\n",
    "        else:\n",
    "            list_test = []\n",
    "            for obj in movie[key]:\n",
    "                    list_test.append(obj['name'])\n",
    "            print({key:list_test})\n",
    "            print('')\n",
    "\n",
    "            data[key] = list_test\n",
    "\n",
    "    except:\n",
    "        if key == 'box office':\n",
    "            print({'box_office':0})\n",
    "            print('')\n",
    "            for dict_key in ['budget', 'opening_weekend_united_states', 'cumulative_worldwide_gross']:\n",
    "\n",
    "                data['box_ofice_'+dict_key] = np.nan\n",
    "\n",
    "        else:\n",
    "            print({key:np.nan})\n",
    "            print('')\n",
    "            data[key] = np.nan"
   ]
  },
  {
   "cell_type": "code",
   "execution_count": 188,
   "metadata": {},
   "outputs": [
    {
     "data": {
      "text/plain": "{'box_office': nan,\n 'producers': ['Bruce Berman',\n  'Dan Cracchiolo',\n  'Carol Hughes',\n  'Andrew Mason',\n  'Richard Mirisch',\n  'Barrie M. Osborne',\n  'Joel Silver',\n  'Erwin Stoff',\n  'Lana Wachowski',\n  'Lilly Wachowski'],\n 'composers': ['Don Davis'],\n 'cinematographers': ['Bill Pope'],\n 'editors': ['Zach Staenberg'],\n 'production_companies': nan}"
     },
     "execution_count": 188,
     "metadata": {},
     "output_type": "execute_result"
    }
   ],
   "source": [
    "data"
   ]
  },
  {
   "cell_type": "code",
   "execution_count": 168,
   "metadata": {},
   "outputs": [
    {
     "data": {
      "text/html": "<div>\n<style scoped>\n    .dataframe tbody tr th:only-of-type {\n        vertical-align: middle;\n    }\n\n    .dataframe tbody tr th {\n        vertical-align: top;\n    }\n\n    .dataframe thead th {\n        text-align: right;\n    }\n</style>\n<table border=\"1\" class=\"dataframe\">\n  <thead>\n    <tr style=\"text-align: right;\">\n      <th></th>\n      <th>0</th>\n      <th>1</th>\n      <th>2</th>\n      <th>3</th>\n      <th>4</th>\n      <th>5</th>\n      <th>6</th>\n      <th>7</th>\n      <th>8</th>\n      <th>9</th>\n    </tr>\n  </thead>\n  <tbody>\n    <tr>\n      <th>box_ofice_budget</th>\n      <td>$63,000,000 (estimated)</td>\n      <td>NaN</td>\n      <td>NaN</td>\n      <td>NaN</td>\n      <td>NaN</td>\n      <td>NaN</td>\n      <td>NaN</td>\n      <td>NaN</td>\n      <td>NaN</td>\n      <td>NaN</td>\n    </tr>\n    <tr>\n      <th>box_ofice_opening weekend united states</th>\n      <td>$27,788,331, 04 Apr 1999</td>\n      <td>NaN</td>\n      <td>NaN</td>\n      <td>NaN</td>\n      <td>NaN</td>\n      <td>NaN</td>\n      <td>NaN</td>\n      <td>NaN</td>\n      <td>NaN</td>\n      <td>NaN</td>\n    </tr>\n    <tr>\n      <th>box_ofice_cumulative worldwide gross</th>\n      <td>$463,517,383</td>\n      <td>NaN</td>\n      <td>NaN</td>\n      <td>NaN</td>\n      <td>NaN</td>\n      <td>NaN</td>\n      <td>NaN</td>\n      <td>NaN</td>\n      <td>NaN</td>\n      <td>NaN</td>\n    </tr>\n    <tr>\n      <th>producers</th>\n      <td>Bruce Berman</td>\n      <td>Dan Cracchiolo</td>\n      <td>Carol Hughes</td>\n      <td>Andrew Mason</td>\n      <td>Richard Mirisch</td>\n      <td>Barrie M. Osborne</td>\n      <td>Joel Silver</td>\n      <td>Erwin Stoff</td>\n      <td>Lana Wachowski</td>\n      <td>Lilly Wachowski</td>\n    </tr>\n    <tr>\n      <th>composers</th>\n      <td>Don Davis</td>\n      <td>NaN</td>\n      <td>NaN</td>\n      <td>NaN</td>\n      <td>NaN</td>\n      <td>NaN</td>\n      <td>NaN</td>\n      <td>NaN</td>\n      <td>NaN</td>\n      <td>NaN</td>\n    </tr>\n    <tr>\n      <th>cinematographers</th>\n      <td>Bill Pope</td>\n      <td>NaN</td>\n      <td>NaN</td>\n      <td>NaN</td>\n      <td>NaN</td>\n      <td>NaN</td>\n      <td>NaN</td>\n      <td>NaN</td>\n      <td>NaN</td>\n      <td>NaN</td>\n    </tr>\n    <tr>\n      <th>editors</th>\n      <td>Zach Staenberg</td>\n      <td>NaN</td>\n      <td>NaN</td>\n      <td>NaN</td>\n      <td>NaN</td>\n      <td>NaN</td>\n      <td>NaN</td>\n      <td>NaN</td>\n      <td>NaN</td>\n      <td>NaN</td>\n    </tr>\n    <tr>\n      <th>production companies</th>\n      <td>Warner Bros.</td>\n      <td>Village Roadshow Pictures</td>\n      <td>Groucho Film Partnership</td>\n      <td>Silver Pictures</td>\n      <td>3 Arts Entertainment</td>\n      <td>NaN</td>\n      <td>NaN</td>\n      <td>NaN</td>\n      <td>NaN</td>\n      <td>NaN</td>\n    </tr>\n  </tbody>\n</table>\n</div>",
      "text/plain": "                                                                0  \\\nbox_ofice_budget                          $63,000,000 (estimated)   \nbox_ofice_opening weekend united states  $27,788,331, 04 Apr 1999   \nbox_ofice_cumulative worldwide gross                 $463,517,383   \nproducers                                            Bruce Berman   \ncomposers                                               Don Davis   \ncinematographers                                        Bill Pope   \neditors                                            Zach Staenberg   \nproduction companies                                 Warner Bros.   \n\n                                                                 1  \\\nbox_ofice_budget                                               NaN   \nbox_ofice_opening weekend united states                        NaN   \nbox_ofice_cumulative worldwide gross                           NaN   \nproducers                                           Dan Cracchiolo   \ncomposers                                                      NaN   \ncinematographers                                               NaN   \neditors                                                        NaN   \nproduction companies                     Village Roadshow Pictures   \n\n                                                                2  \\\nbox_ofice_budget                                              NaN   \nbox_ofice_opening weekend united states                       NaN   \nbox_ofice_cumulative worldwide gross                          NaN   \nproducers                                            Carol Hughes   \ncomposers                                                     NaN   \ncinematographers                                              NaN   \neditors                                                       NaN   \nproduction companies                     Groucho Film Partnership   \n\n                                                       3  \\\nbox_ofice_budget                                     NaN   \nbox_ofice_opening weekend united states              NaN   \nbox_ofice_cumulative worldwide gross                 NaN   \nproducers                                   Andrew Mason   \ncomposers                                            NaN   \ncinematographers                                     NaN   \neditors                                              NaN   \nproduction companies                     Silver Pictures   \n\n                                                            4  \\\nbox_ofice_budget                                          NaN   \nbox_ofice_opening weekend united states                   NaN   \nbox_ofice_cumulative worldwide gross                      NaN   \nproducers                                     Richard Mirisch   \ncomposers                                                 NaN   \ncinematographers                                          NaN   \neditors                                                   NaN   \nproduction companies                     3 Arts Entertainment   \n\n                                                         5            6  \\\nbox_ofice_budget                                       NaN          NaN   \nbox_ofice_opening weekend united states                NaN          NaN   \nbox_ofice_cumulative worldwide gross                   NaN          NaN   \nproducers                                Barrie M. Osborne  Joel Silver   \ncomposers                                              NaN          NaN   \ncinematographers                                       NaN          NaN   \neditors                                                NaN          NaN   \nproduction companies                                   NaN          NaN   \n\n                                                   7               8  \\\nbox_ofice_budget                                 NaN             NaN   \nbox_ofice_opening weekend united states          NaN             NaN   \nbox_ofice_cumulative worldwide gross             NaN             NaN   \nproducers                                Erwin Stoff  Lana Wachowski   \ncomposers                                        NaN             NaN   \ncinematographers                                 NaN             NaN   \neditors                                          NaN             NaN   \nproduction companies                             NaN             NaN   \n\n                                                       9  \nbox_ofice_budget                                     NaN  \nbox_ofice_opening weekend united states              NaN  \nbox_ofice_cumulative worldwide gross                 NaN  \nproducers                                Lilly Wachowski  \ncomposers                                            NaN  \ncinematographers                                     NaN  \neditors                                              NaN  \nproduction companies                                 NaN  "
     },
     "execution_count": 168,
     "metadata": {},
     "output_type": "execute_result"
    }
   ],
   "source": [
    "# pd.DataFrame(data)\n",
    "\n",
    "pd.DataFrame(dict([ (k,pd.Series(v)) for k,v in data.items() ])).T"
   ]
  },
  {
   "cell_type": "code",
   "execution_count": 136,
   "metadata": {},
   "outputs": [],
   "source": [
    "# ia = IMDb() #Created IMDb instance\n",
    "\n",
    "# keys_need = ['box office', 'producers', 'composers', 'cinematographers', 'editors', 'production companies']\n",
    "\n",
    "# ia = IMDb()\n",
    "# ind_ = '0133093' #The Matrix\n",
    "# movie = ia.get_movie(ind_)\n",
    "\n",
    "# list_data = []\n",
    "# for i, obj_ in enumerate(movie[keys_need[1]]):\n",
    "#     print(movie[keys_need[1]][i]['name'])\n",
    "\n",
    "# for dict_key in movie['box office'].keys():\n",
    "#     print({'box office'+dict_key.lower():movie['box office'][dict_key]})"
   ]
  },
  {
   "cell_type": "code",
   "execution_count": null,
   "metadata": {},
   "outputs": [],
   "source": [
    "client.close()"
   ]
  }
 ]
}