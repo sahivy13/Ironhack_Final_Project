{
 "nbformat": 4,
 "nbformat_minor": 2,
 "metadata": {
  "language_info": {
   "name": "python",
   "codemirror_mode": {
    "name": "ipython",
    "version": 3
   },
   "version": "3.7.4-final"
  },
  "orig_nbformat": 2,
  "file_extension": ".py",
  "mimetype": "text/x-python",
  "name": "python",
  "npconvert_exporter": "python",
  "pygments_lexer": "ipython3",
  "version": 3,
  "kernelspec": {
   "name": "python37464bit7ce9bcd6e9604f49a75ac00b61501ba1",
   "display_name": "Python 3.7.4 64-bit"
  }
 },
 "cells": [
  {
   "cell_type": "markdown",
   "metadata": {},
   "source": [
    "# Testing for imdb tools"
   ]
  },
  {
   "cell_type": "markdown",
   "metadata": {},
   "source": [
    "## Import and creating class instance"
   ]
  },
  {
   "cell_type": "code",
   "execution_count": 1,
   "metadata": {},
   "outputs": [],
   "source": [
    "import numpy as np\n",
    "import re\n",
    "import urllib.request as req \n",
    "import tarfile\n",
    "import os\n",
    "import zipfile\n",
    "from collections import defaultdict\n",
    "\n",
    "#new ones\n",
    "import gzip\n",
    "import csv\n",
    "import pandas as pd\n",
    "from imdb import IMDb\n",
    "import re"
   ]
  },
  {
   "cell_type": "markdown",
   "metadata": {},
   "source": [
    "## Testing"
   ]
  },
  {
   "cell_type": "code",
   "execution_count": 2,
   "metadata": {},
   "outputs": [],
   "source": [
    "#URLs for data bases\n",
    "\n",
    "name_basics_url = 'https://datasets.imdbws.com/name.basics.tsv.gz'\n",
    "\n",
    "titles_akas_url = 'https://datasets.imdbws.com/title.akas.tsv.gz'\n",
    "\n",
    "title_basics_url = 'https://datasets.imdbws.com/title.basics.tsv.gz'\n",
    "\n",
    "title_crew_url = 'https://datasets.imdbws.com/title.crew.tsv.gz'\n",
    "\n",
    "title_episode_url = 'https://datasets.imdbws.com/title.episode.tsv.gz'\n",
    "\n",
    "title_principals_url = 'https://datasets.imdbws.com/title.principals.tsv.gz'\n",
    "\n",
    "title_ratings_url = 'https://datasets.imdbws.com/title.ratings.tsv.gz'\n"
   ]
  },
  {
   "cell_type": "code",
   "execution_count": 3,
   "metadata": {},
   "outputs": [],
   "source": [
    "# Creating list of URLs needed for this analyisis\n",
    "\n",
    "list_urls = [title_basics_url, title_crew_url, title_ratings_url, title_principals_url, name_basics_url]"
   ]
  },
  {
   "cell_type": "code",
   "execution_count": 4,
   "metadata": {},
   "outputs": [],
   "source": [
    "# # Creating folders to store data\n",
    "\n",
    "# save_filename = 'title.basics.tsv.gz'\n",
    "# imdb_folder = 'data'\n",
    "# tsv_filename = 'title_basics.tsv'\n",
    "\n",
    "# if not os.path.exists(save_filename):\n",
    "#     req.urlretrieve(title_basics_url, save_filename)\n",
    "    \n",
    "\n",
    "# if not os.path.exists(imdb_folder):\n",
    "#     os.mkdir(imdb_folder) \n",
    "#     with gzip.GzipFile(save_filename) as tsv:\n",
    "#         tsv_read = pd.read_csv(tsv, sep='\\t')\n",
    "        \n",
    "\n",
    "# if not os.path.exists(imdb_folder + '/'+ tsv_filename):\n",
    "#     with open(imdb_folder + '/'+ tsv_filename,'w') as write_tsv:\n",
    "#         write_tsv.write(tsv_read.to_csv(sep='\\t', index=False))"
   ]
  },
  {
   "cell_type": "code",
   "execution_count": 5,
   "metadata": {},
   "outputs": [],
   "source": [
    "def download_data(url): #Downloads and creates directories in the same directory as the file is located\n",
    "\n",
    "    save_filename = re.split(pattern = '.com\\/', string = url)[1]\n",
    "    imdb_folder = 'data'\n",
    "    tsv_filename = re.split(pattern = '.gz', string = save_filename)[0]\n",
    "    # print(tsv_filename)\n",
    "\n",
    "    if not os.path.exists(save_filename):\n",
    "        req.urlretrieve(url, save_filename)\n",
    "    \n",
    "\n",
    "    if not os.path.exists(imdb_folder):\n",
    "        os.mkdir(imdb_folder) \n",
    "        \n",
    "            \n",
    "\n",
    "    if not os.path.exists(imdb_folder + '/'+ tsv_filename):\n",
    "        with gzip.GzipFile(save_filename) as tsv:\n",
    "            tsv_read = pd.read_csv(tsv, sep='\\t')\n",
    "            with open(imdb_folder + '/'+ tsv_filename,'w') as write_tsv:\n",
    "                write_tsv.write(tsv_read.to_csv(sep='\\t', index=False))\n",
    "                return tsv_read\n",
    "\n",
    "    else:\n",
    "         with gzip.GzipFile(save_filename) as tsv:\n",
    "            tsv_read = pd.read_csv(tsv, sep='\\t')\n",
    "            return tsv_read\n",
    "\n"
   ]
  },
  {
   "cell_type": "code",
   "execution_count": 6,
   "metadata": {},
   "outputs": [],
   "source": [
    "def kickstart_scrape(list_ = list_urls):\n",
    "    list_tsv__df =[]\n",
    "    for url in list_:\n",
    "        print(url)\n",
    "        list_tsv__df.append(download_data(url))\n",
    "    return list_tsv__df"
   ]
  },
  {
   "cell_type": "code",
   "execution_count": 7,
   "metadata": {},
   "outputs": [
    {
     "name": "stdout",
     "output_type": "stream",
     "text": "https://datasets.imdbws.com/title.basics.tsv.gz\nhttps://datasets.imdbws.com/title.crew.tsv.gz\nhttps://datasets.imdbws.com/title.ratings.tsv.gz\nhttps://datasets.imdbws.com/title.principals.tsv.gz\nhttps://datasets.imdbws.com/name.basics.tsv.gz\n"
    }
   ],
   "source": [
    "list_df = kickstart_scrape(list_urls)"
   ]
  },
  {
   "cell_type": "code",
   "execution_count": 8,
   "metadata": {},
   "outputs": [
    {
     "data": {
      "text/html": "<div>\n<style scoped>\n    .dataframe tbody tr th:only-of-type {\n        vertical-align: middle;\n    }\n\n    .dataframe tbody tr th {\n        vertical-align: top;\n    }\n\n    .dataframe thead th {\n        text-align: right;\n    }\n</style>\n<table border=\"1\" class=\"dataframe\">\n  <thead>\n    <tr style=\"text-align: right;\">\n      <th></th>\n      <th>tconst</th>\n      <th>titleType</th>\n      <th>primaryTitle</th>\n      <th>originalTitle</th>\n      <th>isAdult</th>\n      <th>startYear</th>\n      <th>endYear</th>\n      <th>runtimeMinutes</th>\n      <th>genres</th>\n    </tr>\n  </thead>\n  <tbody>\n    <tr>\n      <th>0</th>\n      <td>tt0000001</td>\n      <td>short</td>\n      <td>Carmencita</td>\n      <td>Carmencita</td>\n      <td>0</td>\n      <td>1894</td>\n      <td>\\N</td>\n      <td>1</td>\n      <td>\\N</td>\n    </tr>\n    <tr>\n      <th>1</th>\n      <td>tt0000002</td>\n      <td>short</td>\n      <td>Le clown et ses chiens</td>\n      <td>Le clown et ses chiens</td>\n      <td>0</td>\n      <td>1892</td>\n      <td>\\N</td>\n      <td>5</td>\n      <td>\\N</td>\n    </tr>\n    <tr>\n      <th>2</th>\n      <td>tt0000003</td>\n      <td>short</td>\n      <td>Pauvre Pierrot</td>\n      <td>Pauvre Pierrot</td>\n      <td>0</td>\n      <td>1892</td>\n      <td>\\N</td>\n      <td>4</td>\n      <td>\\N</td>\n    </tr>\n    <tr>\n      <th>3</th>\n      <td>tt0000004</td>\n      <td>short</td>\n      <td>Un bon bock</td>\n      <td>Un bon bock</td>\n      <td>0</td>\n      <td>1892</td>\n      <td>\\N</td>\n      <td>12</td>\n      <td>\\N</td>\n    </tr>\n    <tr>\n      <th>4</th>\n      <td>tt0000005</td>\n      <td>short</td>\n      <td>Blacksmith Scene</td>\n      <td>Blacksmith Scene</td>\n      <td>0</td>\n      <td>1893</td>\n      <td>\\N</td>\n      <td>1</td>\n      <td>\\N</td>\n    </tr>\n    <tr>\n      <th>...</th>\n      <td>...</td>\n      <td>...</td>\n      <td>...</td>\n      <td>...</td>\n      <td>...</td>\n      <td>...</td>\n      <td>...</td>\n      <td>...</td>\n      <td>...</td>\n    </tr>\n    <tr>\n      <th>6591668</th>\n      <td>tt9916848</td>\n      <td>tvEpisode</td>\n      <td>Episode #3.17</td>\n      <td>Episode #3.17</td>\n      <td>0</td>\n      <td>2010</td>\n      <td>\\N</td>\n      <td>\\N</td>\n      <td>\\N</td>\n    </tr>\n    <tr>\n      <th>6591669</th>\n      <td>tt9916850</td>\n      <td>tvEpisode</td>\n      <td>Episode #3.19</td>\n      <td>Episode #3.19</td>\n      <td>0</td>\n      <td>2010</td>\n      <td>\\N</td>\n      <td>\\N</td>\n      <td>\\N</td>\n    </tr>\n    <tr>\n      <th>6591670</th>\n      <td>tt9916852</td>\n      <td>tvEpisode</td>\n      <td>Episode #3.20</td>\n      <td>Episode #3.20</td>\n      <td>0</td>\n      <td>2010</td>\n      <td>\\N</td>\n      <td>\\N</td>\n      <td>\\N</td>\n    </tr>\n    <tr>\n      <th>6591671</th>\n      <td>tt9916856</td>\n      <td>short</td>\n      <td>The Wind</td>\n      <td>The Wind</td>\n      <td>0</td>\n      <td>2015</td>\n      <td>\\N</td>\n      <td>27</td>\n      <td>\\N</td>\n    </tr>\n    <tr>\n      <th>6591672</th>\n      <td>tt9916880</td>\n      <td>tvEpisode</td>\n      <td>Horrid Henry Knows It All</td>\n      <td>Horrid Henry Knows It All</td>\n      <td>0</td>\n      <td>2014</td>\n      <td>\\N</td>\n      <td>10</td>\n      <td>\\N</td>\n    </tr>\n  </tbody>\n</table>\n<p>6591673 rows × 9 columns</p>\n</div>",
      "text/plain": "            tconst  titleType               primaryTitle  \\\n0        tt0000001      short                 Carmencita   \n1        tt0000002      short     Le clown et ses chiens   \n2        tt0000003      short             Pauvre Pierrot   \n3        tt0000004      short                Un bon bock   \n4        tt0000005      short           Blacksmith Scene   \n...            ...        ...                        ...   \n6591668  tt9916848  tvEpisode              Episode #3.17   \n6591669  tt9916850  tvEpisode              Episode #3.19   \n6591670  tt9916852  tvEpisode              Episode #3.20   \n6591671  tt9916856      short                   The Wind   \n6591672  tt9916880  tvEpisode  Horrid Henry Knows It All   \n\n                     originalTitle  isAdult startYear endYear runtimeMinutes  \\\n0                       Carmencita        0      1894      \\N              1   \n1           Le clown et ses chiens        0      1892      \\N              5   \n2                   Pauvre Pierrot        0      1892      \\N              4   \n3                      Un bon bock        0      1892      \\N             12   \n4                 Blacksmith Scene        0      1893      \\N              1   \n...                            ...      ...       ...     ...            ...   \n6591668              Episode #3.17        0      2010      \\N             \\N   \n6591669              Episode #3.19        0      2010      \\N             \\N   \n6591670              Episode #3.20        0      2010      \\N             \\N   \n6591671                   The Wind        0      2015      \\N             27   \n6591672  Horrid Henry Knows It All        0      2014      \\N             10   \n\n        genres  \n0           \\N  \n1           \\N  \n2           \\N  \n3           \\N  \n4           \\N  \n...        ...  \n6591668     \\N  \n6591669     \\N  \n6591670     \\N  \n6591671     \\N  \n6591672     \\N  \n\n[6591673 rows x 9 columns]"
     },
     "execution_count": 8,
     "metadata": {},
     "output_type": "execute_result"
    }
   ],
   "source": [
    "list_df[0]"
   ]
  },
  {
   "cell_type": "code",
   "execution_count": 9,
   "metadata": {},
   "outputs": [],
   "source": [
    "def tt_idnum_plus(tsv_df, start_year = 2018, end_yead = 2019, list_col = ['tconst']):\n",
    "    df_ = tsv_df[(tsv_df['startYear'].apply(lambda x: int(x) if x != '\\\\N' else 0) >= start_year) & (tsv_df['startYear'].apply(lambda x: int(x) if x != '\\\\N' else 0) <= end_yead) & (tsv_df['titleType'] == 'movie')][list_col]\n",
    "    return df_"
   ]
  },
  {
   "cell_type": "code",
   "execution_count": 10,
   "metadata": {},
   "outputs": [
    {
     "data": {
      "text/html": "<div>\n<style scoped>\n    .dataframe tbody tr th:only-of-type {\n        vertical-align: middle;\n    }\n\n    .dataframe tbody tr th {\n        vertical-align: top;\n    }\n\n    .dataframe thead th {\n        text-align: right;\n    }\n</style>\n<table border=\"1\" class=\"dataframe\">\n  <thead>\n    <tr style=\"text-align: right;\">\n      <th></th>\n      <th>tconst</th>\n    </tr>\n  </thead>\n  <tbody>\n    <tr>\n      <th>67690</th>\n      <td>tt0069049</td>\n    </tr>\n    <tr>\n      <th>67836</th>\n      <td>tt0069204</td>\n    </tr>\n    <tr>\n      <th>109009</th>\n      <td>tt0111414</td>\n    </tr>\n    <tr>\n      <th>114407</th>\n      <td>tt0116991</td>\n    </tr>\n    <tr>\n      <th>164986</th>\n      <td>tt0170651</td>\n    </tr>\n    <tr>\n      <th>...</th>\n      <td>...</td>\n    </tr>\n    <tr>\n      <th>6591324</th>\n      <td>tt9916132</td>\n    </tr>\n    <tr>\n      <th>6591338</th>\n      <td>tt9916160</td>\n    </tr>\n    <tr>\n      <th>6591343</th>\n      <td>tt9916170</td>\n    </tr>\n    <tr>\n      <th>6591468</th>\n      <td>tt9916428</td>\n    </tr>\n    <tr>\n      <th>6591521</th>\n      <td>tt9916538</td>\n    </tr>\n  </tbody>\n</table>\n<p>33085 rows × 1 columns</p>\n</div>",
      "text/plain": "            tconst\n67690    tt0069049\n67836    tt0069204\n109009   tt0111414\n114407   tt0116991\n164986   tt0170651\n...            ...\n6591324  tt9916132\n6591338  tt9916160\n6591343  tt9916170\n6591468  tt9916428\n6591521  tt9916538\n\n[33085 rows x 1 columns]"
     },
     "execution_count": 10,
     "metadata": {},
     "output_type": "execute_result"
    }
   ],
   "source": [
    "df_idnum = tt_idnum_plus(list_df[0])\n",
    "df_idnum"
   ]
  },
  {
   "cell_type": "code",
   "execution_count": 22,
   "metadata": {},
   "outputs": [
    {
     "data": {
      "text/html": "<div>\n<style scoped>\n    .dataframe tbody tr th:only-of-type {\n        vertical-align: middle;\n    }\n\n    .dataframe tbody tr th {\n        vertical-align: top;\n    }\n\n    .dataframe thead th {\n        text-align: right;\n    }\n</style>\n<table border=\"1\" class=\"dataframe\">\n  <thead>\n    <tr style=\"text-align: right;\">\n      <th></th>\n      <th>tconst</th>\n    </tr>\n  </thead>\n  <tbody>\n    <tr>\n      <th>67690</th>\n      <td>0069049</td>\n    </tr>\n    <tr>\n      <th>67836</th>\n      <td>0069204</td>\n    </tr>\n    <tr>\n      <th>109009</th>\n      <td>0111414</td>\n    </tr>\n    <tr>\n      <th>114407</th>\n      <td>0116991</td>\n    </tr>\n    <tr>\n      <th>164986</th>\n      <td>0170651</td>\n    </tr>\n    <tr>\n      <th>...</th>\n      <td>...</td>\n    </tr>\n    <tr>\n      <th>6591324</th>\n      <td>9916132</td>\n    </tr>\n    <tr>\n      <th>6591338</th>\n      <td>9916160</td>\n    </tr>\n    <tr>\n      <th>6591343</th>\n      <td>9916170</td>\n    </tr>\n    <tr>\n      <th>6591468</th>\n      <td>9916428</td>\n    </tr>\n    <tr>\n      <th>6591521</th>\n      <td>9916538</td>\n    </tr>\n  </tbody>\n</table>\n<p>33085 rows × 1 columns</p>\n</div>",
      "text/plain": "          tconst\n67690    0069049\n67836    0069204\n109009   0111414\n114407   0116991\n164986   0170651\n...          ...\n6591324  9916132\n6591338  9916160\n6591343  9916170\n6591468  9916428\n6591521  9916538\n\n[33085 rows x 1 columns]"
     },
     "execution_count": 22,
     "metadata": {},
     "output_type": "execute_result"
    }
   ],
   "source": [
    "df_idnum = pd.DataFrame(df_idnum['tconst'].apply(lambda x: x.replace('tt','')))\n",
    "df_idnum.to_csv('df_idnum.csv', index_label='og_index')\n",
    "df_idnum"
   ]
  },
  {
   "cell_type": "code",
   "execution_count": 121,
   "metadata": {},
   "outputs": [],
   "source": [
    "# import multiprocessing\n",
    "\n",
    "# pool = multiprocessing.Pool()\n",
    "\n",
    "# imdb_data = pool.map(kickstart_api, df_idnum['tconst'])"
   ]
  },
  {
   "cell_type": "code",
   "execution_count": 24,
   "metadata": {},
   "outputs": [
    {
     "output_type": "stream",
     "name": "stdout",
     "text": "0\n1\n2\n3\n4\n5\n6\n7\n8\n9\n10\n11\n12\n13\n14\n15\n"
    }
   ],
   "source": [
    "import dask.array as da\n",
    "import dask.dataframe as dd\n",
    "from dask.distributed import Client\n",
    "from dask import delayed\n",
    "\n",
    "client = Client(n_workers=4) #, processes = False)\n",
    "\n",
    "# dask_df_idnum = dd.read_csv('df_idnum.csv',blocksize=.8e6)\n",
    "\n",
    "dask_creator_idnum = kickstart_api(df_idnum['tconst'])\n",
    "\n",
    "dask_df_idnum = dask_creator_idnum.compute()\n",
    ""
   ]
  },
  {
   "cell_type": "code",
   "execution_count": 9,
   "metadata": {},
   "outputs": [
    {
     "data": {
      "text/html": "<div><strong>Dask DataFrame Structure:</strong></div>\n<div>\n<style scoped>\n    .dataframe tbody tr th:only-of-type {\n        vertical-align: middle;\n    }\n\n    .dataframe tbody tr th {\n        vertical-align: top;\n    }\n\n    .dataframe thead th {\n        text-align: right;\n    }\n</style>\n<table border=\"1\" class=\"dataframe\">\n  <thead>\n    <tr style=\"text-align: right;\">\n      <th></th>\n      <th>og_index</th>\n      <th>tconst</th>\n    </tr>\n    <tr>\n      <th>npartitions=4</th>\n      <th></th>\n      <th></th>\n    </tr>\n  </thead>\n  <tbody>\n    <tr>\n      <th></th>\n      <td>int64</td>\n      <td>int64</td>\n    </tr>\n    <tr>\n      <th></th>\n      <td>...</td>\n      <td>...</td>\n    </tr>\n    <tr>\n      <th></th>\n      <td>...</td>\n      <td>...</td>\n    </tr>\n    <tr>\n      <th></th>\n      <td>...</td>\n      <td>...</td>\n    </tr>\n    <tr>\n      <th></th>\n      <td>...</td>\n      <td>...</td>\n    </tr>\n  </tbody>\n</table>\n</div>\n<div>Dask Name: from-delayed, 12 tasks</div>",
      "text/plain": "Dask DataFrame Structure:\n              og_index tconst\nnpartitions=4                \n                 int64  int64\n                   ...    ...\n                   ...    ...\n                   ...    ...\n                   ...    ...\nDask Name: from-delayed, 12 tasks"
     },
     "execution_count": 9,
     "metadata": {},
     "output_type": "execute_result"
    }
   ],
   "source": [
    "dask_df_idnum"
   ]
  },
  {
   "cell_type": "code",
   "execution_count": 10,
   "metadata": {},
   "outputs": [
    {
     "name": "stdout",
     "output_type": "stream",
     "text": "CPU times: user 81.9 ms, sys: 30.3 ms, total: 112 ms\nWall time: 83.5 ms\n"
    }
   ],
   "source": [
    "%%time\n",
    "df_idnum = dask_df_idnum.compute()"
   ]
  },
  {
   "cell_type": "code",
   "execution_count": 15,
   "metadata": {},
   "outputs": [
    {
     "data": {
      "text/plain": "16664    0016906\n63063    0064322\n67690    0069049\n67836    0069204\n98085    0100275\nName: tconst, dtype: object"
     },
     "execution_count": 15,
     "metadata": {},
     "output_type": "execute_result"
    }
   ],
   "source": [
    "df_idnum.head()['tconst']"
   ]
  },
  {
   "cell_type": "code",
   "execution_count": 13,
   "metadata": {},
   "outputs": [
    {
     "data": {
      "text/html": "<table style=\"border: 2px solid white;\">\n<tr>\n<td style=\"vertical-align: top; border: 0px solid white\">\n<h3 style=\"text-align: left;\">Client</h3>\n<ul style=\"text-align: left; list-style: none; margin: 0; padding: 0;\">\n  <li><b>Scheduler: </b>tcp://127.0.0.1:53709</li>\n  <li><b>Dashboard: </b><a href='http://127.0.0.1:53710/status' target='_blank'>http://127.0.0.1:53710/status</a>\n</ul>\n</td>\n<td style=\"vertical-align: top; border: 0px solid white\">\n<h3 style=\"text-align: left;\">Cluster</h3>\n<ul style=\"text-align: left; list-style:none; margin: 0; padding: 0;\">\n  <li><b>Workers: </b>4</li>\n  <li><b>Cores: </b>4</li>\n  <li><b>Memory: </b>8.59 GB</li>\n</ul>\n</td>\n</tr>\n</table>",
      "text/plain": "<Client: 'tcp://127.0.0.1:53709' processes=4 threads=4, memory=8.59 GB>"
     },
     "execution_count": 13,
     "metadata": {},
     "output_type": "execute_result"
    }
   ],
   "source": [
    "from dask.distributed import Client, progress\n",
    "client = Client(n_workers=4) #, process = False)\n",
    "client"
   ]
  },
  {
   "cell_type": "code",
   "execution_count": 16,
   "metadata": {},
   "outputs": [
    {
     "ename": "TypeError",
     "evalue": "'int' object is not iterable",
     "output_type": "error",
     "traceback": [
      "\u001b[0;31m---------------------------------------------------------------------------\u001b[0m",
      "\u001b[0;31mTypeError\u001b[0m                                 Traceback (most recent call last)",
      "\u001b[0;32m<ipython-input-16-4aa1a2c7d34f>\u001b[0m in \u001b[0;36m<module>\u001b[0;34m\u001b[0m\n\u001b[0;32m----> 1\u001b[0;31m \u001b[0mdf_idnum\u001b[0m\u001b[0;34m[\u001b[0m\u001b[0;34m'data_from_imdb_module'\u001b[0m\u001b[0;34m]\u001b[0m \u001b[0;34m=\u001b[0m \u001b[0mdf_idnum\u001b[0m\u001b[0;34m[\u001b[0m\u001b[0;34m'tconst'\u001b[0m\u001b[0;34m]\u001b[0m\u001b[0;34m.\u001b[0m\u001b[0mapply\u001b[0m\u001b[0;34m(\u001b[0m\u001b[0mkickstart_api\u001b[0m\u001b[0;34m)\u001b[0m\u001b[0;34m\u001b[0m\u001b[0;34m\u001b[0m\u001b[0m\n\u001b[0m",
      "\u001b[0;32m/Library/Frameworks/Python.framework/Versions/3.7/lib/python3.7/site-packages/pandas/core/series.py\u001b[0m in \u001b[0;36mapply\u001b[0;34m(self, func, convert_dtype, args, **kwds)\u001b[0m\n\u001b[1;32m   4043\u001b[0m             \u001b[0;32melse\u001b[0m\u001b[0;34m:\u001b[0m\u001b[0;34m\u001b[0m\u001b[0;34m\u001b[0m\u001b[0m\n\u001b[1;32m   4044\u001b[0m                 \u001b[0mvalues\u001b[0m \u001b[0;34m=\u001b[0m \u001b[0mself\u001b[0m\u001b[0;34m.\u001b[0m\u001b[0mastype\u001b[0m\u001b[0;34m(\u001b[0m\u001b[0mobject\u001b[0m\u001b[0;34m)\u001b[0m\u001b[0;34m.\u001b[0m\u001b[0mvalues\u001b[0m\u001b[0;34m\u001b[0m\u001b[0;34m\u001b[0m\u001b[0m\n\u001b[0;32m-> 4045\u001b[0;31m                 \u001b[0mmapped\u001b[0m \u001b[0;34m=\u001b[0m \u001b[0mlib\u001b[0m\u001b[0;34m.\u001b[0m\u001b[0mmap_infer\u001b[0m\u001b[0;34m(\u001b[0m\u001b[0mvalues\u001b[0m\u001b[0;34m,\u001b[0m \u001b[0mf\u001b[0m\u001b[0;34m,\u001b[0m \u001b[0mconvert\u001b[0m\u001b[0;34m=\u001b[0m\u001b[0mconvert_dtype\u001b[0m\u001b[0;34m)\u001b[0m\u001b[0;34m\u001b[0m\u001b[0;34m\u001b[0m\u001b[0m\n\u001b[0m\u001b[1;32m   4046\u001b[0m \u001b[0;34m\u001b[0m\u001b[0m\n\u001b[1;32m   4047\u001b[0m         \u001b[0;32mif\u001b[0m \u001b[0mlen\u001b[0m\u001b[0;34m(\u001b[0m\u001b[0mmapped\u001b[0m\u001b[0;34m)\u001b[0m \u001b[0;32mand\u001b[0m \u001b[0misinstance\u001b[0m\u001b[0;34m(\u001b[0m\u001b[0mmapped\u001b[0m\u001b[0;34m[\u001b[0m\u001b[0;36m0\u001b[0m\u001b[0;34m]\u001b[0m\u001b[0;34m,\u001b[0m \u001b[0mSeries\u001b[0m\u001b[0;34m)\u001b[0m\u001b[0;34m:\u001b[0m\u001b[0;34m\u001b[0m\u001b[0;34m\u001b[0m\u001b[0m\n",
      "\u001b[0;32mpandas/_libs/lib.pyx\u001b[0m in \u001b[0;36mpandas._libs.lib.map_infer\u001b[0;34m()\u001b[0m\n",
      "\u001b[0;32m<ipython-input-15-8da52ae5a02d>\u001b[0m in \u001b[0;36mkickstart_api\u001b[0;34m(id_series)\u001b[0m\n\u001b[1;32m     10\u001b[0m \u001b[0;34m\u001b[0m\u001b[0m\n\u001b[1;32m     11\u001b[0m \u001b[0;34m\u001b[0m\u001b[0m\n\u001b[0;32m---> 12\u001b[0;31m     \u001b[0;32mreturn\u001b[0m \u001b[0miterating_pull\u001b[0m\u001b[0;34m(\u001b[0m\u001b[0mid_series\u001b[0m\u001b[0;34m)\u001b[0m\u001b[0;34m\u001b[0m\u001b[0;34m\u001b[0m\u001b[0m\n\u001b[0m",
      "\u001b[0;32m<ipython-input-14-acea97820b5f>\u001b[0m in \u001b[0;36miterating_pull\u001b[0;34m(id_series)\u001b[0m\n\u001b[1;32m      1\u001b[0m \u001b[0;32mdef\u001b[0m \u001b[0miterating_pull\u001b[0m\u001b[0;34m(\u001b[0m\u001b[0mid_series\u001b[0m\u001b[0;34m)\u001b[0m\u001b[0;34m:\u001b[0m\u001b[0;34m\u001b[0m\u001b[0;34m\u001b[0m\u001b[0m\n\u001b[1;32m      2\u001b[0m \u001b[0;34m\u001b[0m\u001b[0m\n\u001b[0;32m----> 3\u001b[0;31m     \u001b[0;32mfor\u001b[0m \u001b[0mi\u001b[0m\u001b[0;34m,\u001b[0m \u001b[0mid\u001b[0m \u001b[0;32min\u001b[0m \u001b[0menumerate\u001b[0m\u001b[0;34m(\u001b[0m\u001b[0mid_series\u001b[0m\u001b[0;34m)\u001b[0m\u001b[0;34m:\u001b[0m\u001b[0;34m\u001b[0m\u001b[0;34m\u001b[0m\u001b[0m\n\u001b[0m\u001b[1;32m      4\u001b[0m         \u001b[0mprint\u001b[0m\u001b[0;34m(\u001b[0m\u001b[0mi\u001b[0m\u001b[0;34m)\u001b[0m\u001b[0;34m\u001b[0m\u001b[0;34m\u001b[0m\u001b[0m\n\u001b[1;32m      5\u001b[0m \u001b[0;34m\u001b[0m\u001b[0m\n",
      "\u001b[0;31mTypeError\u001b[0m: 'int' object is not iterable"
     ]
    }
   ],
   "source": [
    "df_idnum['data_from_imdb_module'] = df_idnum['tconst'].apply(kickstart_api)"
   ]
  },
  {
   "cell_type": "code",
   "execution_count": 14,
   "metadata": {},
   "outputs": [],
   "source": [
    "def iterating_pull(id_series):  \n",
    "\n",
    "    for i, id in enumerate(id_series):\n",
    "        print(i)\n",
    "\n",
    "        ia = IMDb()\n",
    "        m_ = ia.get_movie(id)\n",
    "\n",
    "        return pull_data(movie = m_, keys_need = k_n)\n",
    "\n",
    "        # dict_data['tt'+id] = pull_data(movie = m_, keys_need = k_n)"
   ]
  },
  {
   "cell_type": "code",
   "execution_count": 15,
   "metadata": {},
   "outputs": [],
   "source": [
    "def kickstart_api(id_series): #NEW VERSION\n",
    "    k_n = [\n",
    "        'box office',\n",
    "        'producers',\n",
    "        'composers',\n",
    "        'cinematographers',\n",
    "        'editors',\n",
    "        'production companies',\n",
    "    ]\n",
    "\n",
    "    \n",
    "    return iterating_pull(id_series)"
   ]
  },
  {
   "cell_type": "code",
   "execution_count": 19,
   "metadata": {},
   "outputs": [],
   "source": [
    "def kickstart_api(id_s): #ORIGINAL\n",
    "    dict_data = {}\n",
    "    k_n = [\n",
    "        'box office',\n",
    "        'producers',\n",
    "        'composers',\n",
    "        'cinematographers',\n",
    "        'editors',\n",
    "        'production companies',\n",
    "    ]\n",
    "\n",
    "    for i, id in enumerate(id_s):\n",
    "        print(i)\n",
    "\n",
    "        ia = IMDb()\n",
    "        m_ = ia.get_movie(id)\n",
    "        dict_data['tt'+id] = delayed(pull_data)(m_, k_n)\n",
    "    return dict_data"
   ]
  },
  {
   "cell_type": "code",
   "execution_count": 20,
   "metadata": {},
   "outputs": [],
   "source": [
    "def pull_data(movie,keys_need):\n",
    "    data ={}\n",
    "\n",
    "    for key in keys_need:\n",
    "        # print(key)\n",
    "        if len(key.split(' ')) >= 2 :\n",
    "            key = '_'.join(key.split(' '))\n",
    "        \n",
    "        try:\n",
    "            if key == 'box office':\n",
    "\n",
    "                for dict_key in movie[key].keys():\n",
    "\n",
    "                    if dict_key == 'budget':\n",
    "                    \n",
    "                        # print({'box_ofice_'+dict_key.lower():movie[key][dict_key]})\n",
    "                        # print('')\n",
    "                        data['box_ofice_'+dict_key.lower()] = movie[key][dict_key]\n",
    "\n",
    "                    else:\n",
    "\n",
    "                        joined = '_'.join(dict_key.split(' '))\n",
    "\n",
    "                        # print({'box_ofice_'+joined.lower():movie[key][dict_key]})\n",
    "                        # print('')\n",
    "                        data['box_ofice_'+joined.lower()] = movie[key][dict_key]\n",
    "\n",
    "            else:\n",
    "                list_test = []\n",
    "                for obj in movie[key]:\n",
    "                        list_test.append(obj['name'])\n",
    "                # print({key:list_test})\n",
    "                # print('')\n",
    "\n",
    "                data[key] = list_test\n",
    "\n",
    "        except:\n",
    "            if key == 'box office':\n",
    "                # print({'box_office':0})\n",
    "                # print('')\n",
    "                for dict_key in ['budget', 'opening_weekend_united_states', 'cumulative_worldwide_gross']:\n",
    "\n",
    "                    data['box_ofice_'+dict_key] = np.nan\n",
    "\n",
    "            else:\n",
    "                # print({key:np.nan})\n",
    "                # print('')\n",
    "                data[key] = np.nan\n",
    "    return data"
   ]
  },
  {
   "cell_type": "code",
   "execution_count": 185,
   "metadata": {},
   "outputs": [
    {
     "name": "stdout",
     "output_type": "stream",
     "text": "box office\n{'box_office': nan}\n\nproducers\n{'producers': ['Bruce Berman', 'Dan Cracchiolo', 'Carol Hughes', 'Andrew Mason', 'Richard Mirisch', 'Barrie M. Osborne', 'Joel Silver', 'Erwin Stoff', 'Lana Wachowski', 'Lilly Wachowski']}\n\ncomposers\n{'composers': ['Don Davis']}\n\ncinematographers\n{'cinematographers': ['Bill Pope']}\n\neditors\n{'editors': ['Zach Staenberg']}\n\nproduction companies\n{'production_companies': nan}\n\n"
    }
   ],
   "source": [
    "ia = IMDb()\n",
    "ind_ = '0133093' #The Matrix\n",
    "movie = ia.get_movie(ind_)\n",
    "\n",
    "data ={}\n",
    "\n",
    "for key in keys_need:\n",
    "    print(key)\n",
    "    if len(key.split(' ')) >= 2 :\n",
    "        key = '_'.join(key.split(' '))\n",
    "    \n",
    "    try:\n",
    "        if key == 'box office':\n",
    "\n",
    "            # print({'box_office':movie[key]})\n",
    "            # print('')\n",
    "\n",
    "            # list_test_1 = []\n",
    "\n",
    "            for dict_key in movie[key].keys():\n",
    "\n",
    "                if dict_key == 'budget':\n",
    "                \n",
    "                    print({'box_ofice_'+dict_key.lower():movie[key][dict_key]})\n",
    "                    print('')\n",
    "                    data['box_ofice_'+dict_key.lower()] = movie[key][dict_key]\n",
    "\n",
    "                else:\n",
    "\n",
    "                    joined = '_'.join(dict_key.split(' '))\n",
    "\n",
    "                    print({'box_ofice_'+joined.lower():movie[key][dict_key]})\n",
    "                    print('')\n",
    "                    data['box_ofice_'+joined.lower()] = movie[key][dict_key]\n",
    "\n",
    "        else:\n",
    "            list_test = []\n",
    "            for obj in movie[key]:\n",
    "                    list_test.append(obj['name'])\n",
    "            print({key:list_test})\n",
    "            print('')\n",
    "\n",
    "            data[key] = list_test\n",
    "\n",
    "    except:\n",
    "        if key == 'box office':\n",
    "            print({'box_office':0})\n",
    "            print('')\n",
    "            for dict_key in ['budget', 'opening_weekend_united_states', 'cumulative_worldwide_gross']:\n",
    "\n",
    "                data['box_ofice_'+dict_key] = np.nan\n",
    "\n",
    "        else:\n",
    "            print({key:np.nan})\n",
    "            print('')\n",
    "            data[key] = np.nan"
   ]
  },
  {
   "cell_type": "code",
   "execution_count": 188,
   "metadata": {},
   "outputs": [
    {
     "data": {
      "text/plain": "{'box_office': nan,\n 'producers': ['Bruce Berman',\n  'Dan Cracchiolo',\n  'Carol Hughes',\n  'Andrew Mason',\n  'Richard Mirisch',\n  'Barrie M. Osborne',\n  'Joel Silver',\n  'Erwin Stoff',\n  'Lana Wachowski',\n  'Lilly Wachowski'],\n 'composers': ['Don Davis'],\n 'cinematographers': ['Bill Pope'],\n 'editors': ['Zach Staenberg'],\n 'production_companies': nan}"
     },
     "execution_count": 188,
     "metadata": {},
     "output_type": "execute_result"
    }
   ],
   "source": [
    "data"
   ]
  },
  {
   "cell_type": "code",
   "execution_count": 168,
   "metadata": {},
   "outputs": [
    {
     "data": {
      "text/html": "<div>\n<style scoped>\n    .dataframe tbody tr th:only-of-type {\n        vertical-align: middle;\n    }\n\n    .dataframe tbody tr th {\n        vertical-align: top;\n    }\n\n    .dataframe thead th {\n        text-align: right;\n    }\n</style>\n<table border=\"1\" class=\"dataframe\">\n  <thead>\n    <tr style=\"text-align: right;\">\n      <th></th>\n      <th>0</th>\n      <th>1</th>\n      <th>2</th>\n      <th>3</th>\n      <th>4</th>\n      <th>5</th>\n      <th>6</th>\n      <th>7</th>\n      <th>8</th>\n      <th>9</th>\n    </tr>\n  </thead>\n  <tbody>\n    <tr>\n      <th>box_ofice_budget</th>\n      <td>$63,000,000 (estimated)</td>\n      <td>NaN</td>\n      <td>NaN</td>\n      <td>NaN</td>\n      <td>NaN</td>\n      <td>NaN</td>\n      <td>NaN</td>\n      <td>NaN</td>\n      <td>NaN</td>\n      <td>NaN</td>\n    </tr>\n    <tr>\n      <th>box_ofice_opening weekend united states</th>\n      <td>$27,788,331, 04 Apr 1999</td>\n      <td>NaN</td>\n      <td>NaN</td>\n      <td>NaN</td>\n      <td>NaN</td>\n      <td>NaN</td>\n      <td>NaN</td>\n      <td>NaN</td>\n      <td>NaN</td>\n      <td>NaN</td>\n    </tr>\n    <tr>\n      <th>box_ofice_cumulative worldwide gross</th>\n      <td>$463,517,383</td>\n      <td>NaN</td>\n      <td>NaN</td>\n      <td>NaN</td>\n      <td>NaN</td>\n      <td>NaN</td>\n      <td>NaN</td>\n      <td>NaN</td>\n      <td>NaN</td>\n      <td>NaN</td>\n    </tr>\n    <tr>\n      <th>producers</th>\n      <td>Bruce Berman</td>\n      <td>Dan Cracchiolo</td>\n      <td>Carol Hughes</td>\n      <td>Andrew Mason</td>\n      <td>Richard Mirisch</td>\n      <td>Barrie M. Osborne</td>\n      <td>Joel Silver</td>\n      <td>Erwin Stoff</td>\n      <td>Lana Wachowski</td>\n      <td>Lilly Wachowski</td>\n    </tr>\n    <tr>\n      <th>composers</th>\n      <td>Don Davis</td>\n      <td>NaN</td>\n      <td>NaN</td>\n      <td>NaN</td>\n      <td>NaN</td>\n      <td>NaN</td>\n      <td>NaN</td>\n      <td>NaN</td>\n      <td>NaN</td>\n      <td>NaN</td>\n    </tr>\n    <tr>\n      <th>cinematographers</th>\n      <td>Bill Pope</td>\n      <td>NaN</td>\n      <td>NaN</td>\n      <td>NaN</td>\n      <td>NaN</td>\n      <td>NaN</td>\n      <td>NaN</td>\n      <td>NaN</td>\n      <td>NaN</td>\n      <td>NaN</td>\n    </tr>\n    <tr>\n      <th>editors</th>\n      <td>Zach Staenberg</td>\n      <td>NaN</td>\n      <td>NaN</td>\n      <td>NaN</td>\n      <td>NaN</td>\n      <td>NaN</td>\n      <td>NaN</td>\n      <td>NaN</td>\n      <td>NaN</td>\n      <td>NaN</td>\n    </tr>\n    <tr>\n      <th>production companies</th>\n      <td>Warner Bros.</td>\n      <td>Village Roadshow Pictures</td>\n      <td>Groucho Film Partnership</td>\n      <td>Silver Pictures</td>\n      <td>3 Arts Entertainment</td>\n      <td>NaN</td>\n      <td>NaN</td>\n      <td>NaN</td>\n      <td>NaN</td>\n      <td>NaN</td>\n    </tr>\n  </tbody>\n</table>\n</div>",
      "text/plain": "                                                                0  \\\nbox_ofice_budget                          $63,000,000 (estimated)   \nbox_ofice_opening weekend united states  $27,788,331, 04 Apr 1999   \nbox_ofice_cumulative worldwide gross                 $463,517,383   \nproducers                                            Bruce Berman   \ncomposers                                               Don Davis   \ncinematographers                                        Bill Pope   \neditors                                            Zach Staenberg   \nproduction companies                                 Warner Bros.   \n\n                                                                 1  \\\nbox_ofice_budget                                               NaN   \nbox_ofice_opening weekend united states                        NaN   \nbox_ofice_cumulative worldwide gross                           NaN   \nproducers                                           Dan Cracchiolo   \ncomposers                                                      NaN   \ncinematographers                                               NaN   \neditors                                                        NaN   \nproduction companies                     Village Roadshow Pictures   \n\n                                                                2  \\\nbox_ofice_budget                                              NaN   \nbox_ofice_opening weekend united states                       NaN   \nbox_ofice_cumulative worldwide gross                          NaN   \nproducers                                            Carol Hughes   \ncomposers                                                     NaN   \ncinematographers                                              NaN   \neditors                                                       NaN   \nproduction companies                     Groucho Film Partnership   \n\n                                                       3  \\\nbox_ofice_budget                                     NaN   \nbox_ofice_opening weekend united states              NaN   \nbox_ofice_cumulative worldwide gross                 NaN   \nproducers                                   Andrew Mason   \ncomposers                                            NaN   \ncinematographers                                     NaN   \neditors                                              NaN   \nproduction companies                     Silver Pictures   \n\n                                                            4  \\\nbox_ofice_budget                                          NaN   \nbox_ofice_opening weekend united states                   NaN   \nbox_ofice_cumulative worldwide gross                      NaN   \nproducers                                     Richard Mirisch   \ncomposers                                                 NaN   \ncinematographers                                          NaN   \neditors                                                   NaN   \nproduction companies                     3 Arts Entertainment   \n\n                                                         5            6  \\\nbox_ofice_budget                                       NaN          NaN   \nbox_ofice_opening weekend united states                NaN          NaN   \nbox_ofice_cumulative worldwide gross                   NaN          NaN   \nproducers                                Barrie M. Osborne  Joel Silver   \ncomposers                                              NaN          NaN   \ncinematographers                                       NaN          NaN   \neditors                                                NaN          NaN   \nproduction companies                                   NaN          NaN   \n\n                                                   7               8  \\\nbox_ofice_budget                                 NaN             NaN   \nbox_ofice_opening weekend united states          NaN             NaN   \nbox_ofice_cumulative worldwide gross             NaN             NaN   \nproducers                                Erwin Stoff  Lana Wachowski   \ncomposers                                        NaN             NaN   \ncinematographers                                 NaN             NaN   \neditors                                          NaN             NaN   \nproduction companies                             NaN             NaN   \n\n                                                       9  \nbox_ofice_budget                                     NaN  \nbox_ofice_opening weekend united states              NaN  \nbox_ofice_cumulative worldwide gross                 NaN  \nproducers                                Lilly Wachowski  \ncomposers                                            NaN  \ncinematographers                                     NaN  \neditors                                              NaN  \nproduction companies                                 NaN  "
     },
     "execution_count": 168,
     "metadata": {},
     "output_type": "execute_result"
    }
   ],
   "source": [
    "# pd.DataFrame(data)\n",
    "\n",
    "pd.DataFrame(dict([ (k,pd.Series(v)) for k,v in data.items() ])).T"
   ]
  },
  {
   "cell_type": "code",
   "execution_count": 136,
   "metadata": {},
   "outputs": [],
   "source": [
    "# ia = IMDb() #Created IMDb instance\n",
    "\n",
    "# keys_need = ['box office', 'producers', 'composers', 'cinematographers', 'editors', 'production companies']\n",
    "\n",
    "# ia = IMDb()\n",
    "# ind_ = '0133093' #The Matrix\n",
    "# movie = ia.get_movie(ind_)\n",
    "\n",
    "# list_data = []\n",
    "# for i, obj_ in enumerate(movie[keys_need[1]]):\n",
    "#     print(movie[keys_need[1]][i]['name'])\n",
    "\n",
    "# for dict_key in movie['box office'].keys():\n",
    "#     print({'box office'+dict_key.lower():movie['box office'][dict_key]})"
   ]
  },
  {
   "cell_type": "code",
   "execution_count": null,
   "metadata": {},
   "outputs": [],
   "source": [
    "client.close()"
   ]
  }
 ]
}